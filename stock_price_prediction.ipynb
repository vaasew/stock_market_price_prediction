{
  "nbformat": 4,
  "nbformat_minor": 0,
  "metadata": {
    "colab": {
      "provenance": []
    },
    "kernelspec": {
      "name": "python3",
      "display_name": "Python 3"
    },
    "language_info": {
      "name": "python"
    },
    "accelerator": "GPU",
    "gpuClass": "standard"
  },
  "cells": [
    {
      "cell_type": "code",
      "execution_count": 1,
      "metadata": {
        "id": "IQjAjuBZdjRF",
        "colab": {
          "base_uri": "https://localhost:8080/"
        },
        "outputId": "43edc015-5b45-486a-b54a-5742c681ad4b"
      },
      "outputs": [
        {
          "output_type": "stream",
          "name": "stdout",
          "text": [
            "Mounted at /content/gdrive\n"
          ]
        }
      ],
      "source": [
        "from google.colab import drive\n",
        "drive.mount(\"/content/gdrive\")"
      ]
    },
    {
      "cell_type": "code",
      "source": [
        "#importing HDFC stock price dataset till 2021 April\n",
        "import pandas as pd\n",
        "dataset=pd.read_csv('/content/gdrive/My Drive/datasets/HDFC.csv')"
      ],
      "metadata": {
        "id": "DdRbiYSaV6lR"
      },
      "execution_count": 58,
      "outputs": []
    },
    {
      "cell_type": "code",
      "source": [
        "# Dataset of HDFC closing prices only\n",
        "df=dataset.iloc[:,[8]]"
      ],
      "metadata": {
        "id": "T6G80B8zXXlw"
      },
      "execution_count": 4,
      "outputs": []
    },
    {
      "cell_type": "code",
      "source": [
        "# Checking for null values in dataset\n",
        "df.head()\n",
        "df[\"Close\"].isna().sum()"
      ],
      "metadata": {
        "colab": {
          "base_uri": "https://localhost:8080/"
        },
        "id": "Hey6lUKBZBR-",
        "outputId": "2a25d4a4-c5a7-41c9-b614-ab20e9410fe8"
      },
      "execution_count": 66,
      "outputs": [
        {
          "output_type": "execute_result",
          "data": {
            "text/plain": [
              "0"
            ]
          },
          "metadata": {},
          "execution_count": 66
        }
      ]
    },
    {
      "cell_type": "code",
      "source": [
        "import matplotlib.pyplot as plt\n",
        "plt.plot(df)"
      ],
      "metadata": {
        "colab": {
          "base_uri": "https://localhost:8080/",
          "height": 283
        },
        "id": "qA8iQFa3wcFi",
        "outputId": "d7fcc2e7-7463-41c6-a2d0-8ea4609feabd"
      },
      "execution_count": 6,
      "outputs": [
        {
          "output_type": "execute_result",
          "data": {
            "text/plain": [
              "[<matplotlib.lines.Line2D at 0x7fb1b4a4c820>]"
            ]
          },
          "metadata": {},
          "execution_count": 6
        },
        {
          "output_type": "display_data",
          "data": {
            "text/plain": [
              "<Figure size 432x288 with 1 Axes>"
            ],
            "image/png": "[encoded data removed]"
          },
          "metadata": {
            "needs_background": "light"
          }
        }
      ]
    },
    {
      "cell_type": "code",
      "source": [
        "import numpy as np"
      ],
      "metadata": {
        "id": "sNWQ8A4WxDYn"
      },
      "execution_count": 7,
      "outputs": []
    },
    {
      "cell_type": "code",
      "source": [
        "# Scaling the data\n",
        "from sklearn.preprocessing import MinMaxScaler\n",
        "scaler=MinMaxScaler(feature_range=(0,1))\n",
        "df1=scaler.fit_transform(np.array(df).reshape(-1,1))"
      ],
      "metadata": {
        "id": "Jtd_bfX5xWN4"
      },
      "execution_count": 8,
      "outputs": []
    },
    {
      "cell_type": "code",
      "source": [
        "# Splitting the dataframe\n",
        "training_size=int(len(df1)*0.65)\n",
        "test_size=int(len(df1)*0.35)\n",
        "train_data,test_data=df1[0:training_size],df1[training_size:len(df1)]"
      ],
      "metadata": {
        "id": "WCJbQ5Usx0jM"
      },
      "execution_count": 9,
      "outputs": []
    },
    {
      "cell_type": "code",
      "source": [
        "# Creating sequential data for LSTM with time_step=100\n",
        "def create_dataset(dataset,time_step=1):\n",
        "  dataX,dataY=[],[]\n",
        "  for i in range(len(dataset)-time_step-1):\n",
        "    a=dataset[i:(i+time_step),0]\n",
        "    dataX.append(a)\n",
        "    dataY.append(dataset[i+time_step,0])\n",
        "  return np.array(dataX),np.array(dataY)"
      ],
      "metadata": {
        "id": "p-ztVM5iyB1b"
      },
      "execution_count": 10,
      "outputs": []
    },
    {
      "cell_type": "code",
      "source": [
        "time_step=100\n",
        "X_train,y_train=create_dataset(train_data,time_step)\n",
        "X_test,y_test=create_dataset(test_data,time_step)"
      ],
      "metadata": {
        "id": "YQ9nu53B3GXF"
      },
      "execution_count": 11,
      "outputs": []
    },
    {
      "cell_type": "code",
      "source": [
        "print(X_train.shape)"
      ],
      "metadata": {
        "colab": {
          "base_uri": "https://localhost:8080/"
        },
        "id": "TXocuPoQ3-uC",
        "outputId": "8b7c15fd-7703-4de8-c584-beff730c6a92"
      },
      "execution_count": 68,
      "outputs": [
        {
          "output_type": "stream",
          "name": "stdout",
          "text": [
            "(3347, 100, 1)\n"
          ]
        }
      ]
    },
    {
      "cell_type": "code",
      "source": [
        "X_train=X_train.reshape(X_train.shape[0],X_train.shape[1],1)\n",
        "X_test=X_test.reshape(X_test.shape[0],X_test.shape[1],1)"
      ],
      "metadata": {
        "id": "IEG-wXDw5Egh"
      },
      "execution_count": 13,
      "outputs": []
    },
    {
      "cell_type": "code",
      "source": [
        "from tensorflow.keras.models import Sequential\n",
        "from tensorflow.keras.layers import Dense\n",
        "from tensorflow.keras.layers import LSTM\n"
      ],
      "metadata": {
        "id": "9tebw_dW6jb8"
      },
      "execution_count": 14,
      "outputs": []
    },
    {
      "cell_type": "code",
      "source": [
        "# Stacked LSTM model\n",
        "model=Sequential()\n",
        "model.add(LSTM(50,return_sequences=True,input_shape=(100,1)))\n",
        "model.add(LSTM(30))\n",
        "model.add(Dense(1))\n",
        "model.compile(loss=\"mean_squared_error\",optimizer=\"adam\")\n"
      ],
      "metadata": {
        "id": "A8PRSQ5j6_nM"
      },
      "execution_count": 41,
      "outputs": []
    },
    {
      "cell_type": "code",
      "source": [
        "model.summary()"
      ],
      "metadata": {
        "colab": {
          "base_uri": "https://localhost:8080/"
        },
        "id": "ha_Mp0OI7rDS",
        "outputId": "39b4d971-432e-4137-e676-85a5867ce29f"
      },
      "execution_count": 42,
      "outputs": [
        {
          "output_type": "stream",
          "name": "stdout",
          "text": [
            "Model: \"sequential_5\"\n",
            "_________________________________________________________________\n",
            " Layer (type)                Output Shape              Param #   \n",
            "=================================================================\n",
            " lstm_15 (LSTM)              (None, 100, 50)           10400     \n",
            "                                                                 \n",
            " lstm_16 (LSTM)              (None, 30)                9720      \n",
            "                                                                 \n",
            " dense_4 (Dense)             (None, 1)                 31        \n",
            "                                                                 \n",
            "=================================================================\n",
            "Total params: 20,151\n",
            "Trainable params: 20,151\n",
            "Non-trainable params: 0\n",
            "_________________________________________________________________\n"
          ]
        }
      ]
    },
    {
      "cell_type": "code",
      "source": [
        "model.fit(X_train, y_train, validation_data = (X_test, y_test), epochs = 80, batch_size = 60, verbose = 1)"
      ],
      "metadata": {
        "colab": {
          "base_uri": "https://localhost:8080/"
        },
        "id": "uPc9MJgysZpS",
        "outputId": "c5be6e22-6c77-4ebb-93a5-0b5ec4193d28"
      },
      "execution_count": 43,
      "outputs": [
        {
          "output_type": "stream",
          "name": "stdout",
          "text": [
            "Epoch 1/80\n",
            "56/56 [==============================] - 6s 34ms/step - loss: 0.0137 - val_loss: 6.9078e-04\n",
            "Epoch 2/80\n",
            "56/56 [==============================] - 1s 12ms/step - loss: 0.0021 - val_loss: 6.3436e-04\n",
            "Epoch 3/80\n",
            "56/56 [==============================] - 1s 11ms/step - loss: 0.0019 - val_loss: 7.6404e-04\n",
            "Epoch 4/80\n",
            "56/56 [==============================] - 1s 11ms/step - loss: 0.0018 - val_loss: 9.3431e-04\n",
            "Epoch 5/80\n",
            "56/56 [==============================] - 1s 12ms/step - loss: 0.0016 - val_loss: 4.4135e-04\n",
            "Epoch 6/80\n",
            "56/56 [==============================] - 1s 12ms/step - loss: 0.0015 - val_loss: 6.1520e-04\n",
            "Epoch 7/80\n",
            "56/56 [==============================] - 1s 11ms/step - loss: 0.0013 - val_loss: 3.6718e-04\n",
            "Epoch 8/80\n",
            "56/56 [==============================] - 1s 11ms/step - loss: 0.0012 - val_loss: 5.1365e-04\n",
            "Epoch 9/80\n",
            "56/56 [==============================] - 1s 12ms/step - loss: 0.0012 - val_loss: 3.5534e-04\n",
            "Epoch 10/80\n",
            "56/56 [==============================] - 1s 11ms/step - loss: 0.0010 - val_loss: 3.5040e-04\n",
            "Epoch 11/80\n",
            "56/56 [==============================] - 1s 12ms/step - loss: 0.0010 - val_loss: 3.9186e-04\n",
            "Epoch 12/80\n",
            "56/56 [==============================] - 1s 12ms/step - loss: 9.6080e-04 - val_loss: 4.8905e-04\n",
            "Epoch 13/80\n",
            "56/56 [==============================] - 1s 12ms/step - loss: 9.4229e-04 - val_loss: 2.9641e-04\n",
            "Epoch 14/80\n",
            "56/56 [==============================] - 1s 12ms/step - loss: 8.7400e-04 - val_loss: 2.7751e-04\n",
            "Epoch 15/80\n",
            "56/56 [==============================] - 1s 14ms/step - loss: 8.4217e-04 - val_loss: 3.6051e-04\n",
            "Epoch 16/80\n",
            "56/56 [==============================] - 1s 16ms/step - loss: 8.2672e-04 - val_loss: 4.4881e-04\n",
            "Epoch 17/80\n",
            "56/56 [==============================] - 1s 16ms/step - loss: 8.2960e-04 - val_loss: 2.3911e-04\n",
            "Epoch 18/80\n",
            "56/56 [==============================] - 1s 16ms/step - loss: 7.7046e-04 - val_loss: 2.7471e-04\n",
            "Epoch 19/80\n",
            "56/56 [==============================] - 1s 13ms/step - loss: 7.1409e-04 - val_loss: 3.7653e-04\n",
            "Epoch 20/80\n",
            "56/56 [==============================] - 1s 12ms/step - loss: 6.9365e-04 - val_loss: 2.2172e-04\n",
            "Epoch 21/80\n",
            "56/56 [==============================] - 1s 12ms/step - loss: 7.0175e-04 - val_loss: 2.0930e-04\n",
            "Epoch 22/80\n",
            "56/56 [==============================] - 1s 12ms/step - loss: 6.2958e-04 - val_loss: 2.3734e-04\n",
            "Epoch 23/80\n",
            "56/56 [==============================] - 1s 12ms/step - loss: 6.3193e-04 - val_loss: 8.5617e-04\n",
            "Epoch 24/80\n",
            "56/56 [==============================] - 1s 11ms/step - loss: 6.5296e-04 - val_loss: 1.9625e-04\n",
            "Epoch 25/80\n",
            "56/56 [==============================] - 1s 12ms/step - loss: 5.7933e-04 - val_loss: 1.9563e-04\n",
            "Epoch 26/80\n",
            "56/56 [==============================] - 1s 12ms/step - loss: 5.5154e-04 - val_loss: 1.8213e-04\n",
            "Epoch 27/80\n",
            "56/56 [==============================] - 1s 12ms/step - loss: 5.5941e-04 - val_loss: 1.9067e-04\n",
            "Epoch 28/80\n",
            "56/56 [==============================] - 1s 12ms/step - loss: 5.6365e-04 - val_loss: 1.9193e-04\n",
            "Epoch 29/80\n",
            "56/56 [==============================] - 1s 12ms/step - loss: 5.1028e-04 - val_loss: 5.1119e-04\n",
            "Epoch 30/80\n",
            "56/56 [==============================] - 1s 12ms/step - loss: 5.7725e-04 - val_loss: 1.9535e-04\n",
            "Epoch 31/80\n",
            "56/56 [==============================] - 1s 12ms/step - loss: 5.2259e-04 - val_loss: 1.9188e-04\n",
            "Epoch 32/80\n",
            "56/56 [==============================] - 1s 12ms/step - loss: 5.3757e-04 - val_loss: 7.0749e-04\n",
            "Epoch 33/80\n",
            "56/56 [==============================] - 1s 12ms/step - loss: 6.1578e-04 - val_loss: 2.9288e-04\n",
            "Epoch 34/80\n",
            "56/56 [==============================] - 1s 16ms/step - loss: 4.9138e-04 - val_loss: 1.7230e-04\n",
            "Epoch 35/80\n",
            "56/56 [==============================] - 1s 16ms/step - loss: 4.5188e-04 - val_loss: 2.6639e-04\n",
            "Epoch 36/80\n",
            "56/56 [==============================] - 1s 16ms/step - loss: 4.9153e-04 - val_loss: 1.6604e-04\n",
            "Epoch 37/80\n",
            "56/56 [==============================] - 1s 17ms/step - loss: 4.5911e-04 - val_loss: 1.6452e-04\n",
            "Epoch 38/80\n",
            "56/56 [==============================] - 1s 12ms/step - loss: 5.0719e-04 - val_loss: 1.7606e-04\n",
            "Epoch 39/80\n",
            "56/56 [==============================] - 1s 12ms/step - loss: 4.3994e-04 - val_loss: 1.4987e-04\n",
            "Epoch 40/80\n",
            "56/56 [==============================] - 1s 12ms/step - loss: 5.0758e-04 - val_loss: 1.7696e-04\n",
            "Epoch 41/80\n",
            "56/56 [==============================] - 1s 12ms/step - loss: 4.7308e-04 - val_loss: 1.9310e-04\n",
            "Epoch 42/80\n",
            "56/56 [==============================] - 1s 12ms/step - loss: 4.4366e-04 - val_loss: 5.3801e-04\n",
            "Epoch 43/80\n",
            "56/56 [==============================] - 1s 11ms/step - loss: 4.5704e-04 - val_loss: 1.4899e-04\n",
            "Epoch 44/80\n",
            "56/56 [==============================] - 1s 11ms/step - loss: 4.3664e-04 - val_loss: 2.5433e-04\n",
            "Epoch 45/80\n",
            "56/56 [==============================] - 1s 12ms/step - loss: 4.3383e-04 - val_loss: 1.4941e-04\n",
            "Epoch 46/80\n",
            "56/56 [==============================] - 1s 12ms/step - loss: 4.7729e-04 - val_loss: 1.6526e-04\n",
            "Epoch 47/80\n",
            "56/56 [==============================] - 1s 12ms/step - loss: 4.5687e-04 - val_loss: 1.7388e-04\n",
            "Epoch 48/80\n",
            "56/56 [==============================] - 1s 12ms/step - loss: 4.4034e-04 - val_loss: 1.9628e-04\n",
            "Epoch 49/80\n",
            "56/56 [==============================] - 1s 12ms/step - loss: 4.6099e-04 - val_loss: 1.5285e-04\n",
            "Epoch 50/80\n",
            "56/56 [==============================] - 1s 12ms/step - loss: 4.1485e-04 - val_loss: 1.4861e-04\n",
            "Epoch 51/80\n",
            "56/56 [==============================] - 1s 12ms/step - loss: 4.3320e-04 - val_loss: 1.5104e-04\n",
            "Epoch 52/80\n",
            "56/56 [==============================] - 1s 11ms/step - loss: 4.5467e-04 - val_loss: 1.6204e-04\n",
            "Epoch 53/80\n",
            "56/56 [==============================] - 1s 16ms/step - loss: 4.0517e-04 - val_loss: 2.0972e-04\n",
            "Epoch 54/80\n",
            "56/56 [==============================] - 1s 17ms/step - loss: 4.9065e-04 - val_loss: 1.3706e-04\n",
            "Epoch 55/80\n",
            "56/56 [==============================] - 1s 16ms/step - loss: 4.6594e-04 - val_loss: 2.2835e-04\n",
            "Epoch 56/80\n",
            "56/56 [==============================] - 1s 15ms/step - loss: 4.4649e-04 - val_loss: 1.3827e-04\n",
            "Epoch 57/80\n",
            "56/56 [==============================] - 1s 11ms/step - loss: 4.0514e-04 - val_loss: 1.4069e-04\n",
            "Epoch 58/80\n",
            "56/56 [==============================] - 1s 12ms/step - loss: 4.1067e-04 - val_loss: 1.3673e-04\n",
            "Epoch 59/80\n",
            "56/56 [==============================] - 1s 12ms/step - loss: 4.0759e-04 - val_loss: 1.7434e-04\n",
            "Epoch 60/80\n",
            "56/56 [==============================] - 1s 12ms/step - loss: 4.1721e-04 - val_loss: 1.3976e-04\n",
            "Epoch 61/80\n",
            "56/56 [==============================] - 1s 11ms/step - loss: 4.4334e-04 - val_loss: 1.4699e-04\n",
            "Epoch 62/80\n",
            "56/56 [==============================] - 1s 11ms/step - loss: 4.0787e-04 - val_loss: 1.3342e-04\n",
            "Epoch 63/80\n",
            "56/56 [==============================] - 1s 12ms/step - loss: 4.4508e-04 - val_loss: 1.3406e-04\n",
            "Epoch 64/80\n",
            "56/56 [==============================] - 1s 12ms/step - loss: 4.1246e-04 - val_loss: 5.5336e-04\n",
            "Epoch 65/80\n",
            "56/56 [==============================] - 1s 11ms/step - loss: 4.9713e-04 - val_loss: 1.5493e-04\n",
            "Epoch 66/80\n",
            "56/56 [==============================] - 1s 12ms/step - loss: 4.2781e-04 - val_loss: 1.3692e-04\n",
            "Epoch 67/80\n",
            "56/56 [==============================] - 1s 12ms/step - loss: 4.2043e-04 - val_loss: 1.7667e-04\n",
            "Epoch 68/80\n",
            "56/56 [==============================] - 1s 12ms/step - loss: 4.0616e-04 - val_loss: 1.8310e-04\n",
            "Epoch 69/80\n",
            "56/56 [==============================] - 1s 12ms/step - loss: 4.3671e-04 - val_loss: 2.2754e-04\n",
            "Epoch 70/80\n",
            "56/56 [==============================] - 1s 12ms/step - loss: 4.1438e-04 - val_loss: 1.6143e-04\n",
            "Epoch 71/80\n",
            "56/56 [==============================] - 1s 12ms/step - loss: 4.2577e-04 - val_loss: 1.5814e-04\n",
            "Epoch 72/80\n",
            "56/56 [==============================] - 1s 16ms/step - loss: 4.1435e-04 - val_loss: 1.3531e-04\n",
            "Epoch 73/80\n",
            "56/56 [==============================] - 1s 16ms/step - loss: 4.0696e-04 - val_loss: 1.3693e-04\n",
            "Epoch 74/80\n",
            "56/56 [==============================] - 1s 16ms/step - loss: 4.0154e-04 - val_loss: 1.3131e-04\n",
            "Epoch 75/80\n",
            "56/56 [==============================] - 1s 14ms/step - loss: 4.0519e-04 - val_loss: 4.9266e-04\n",
            "Epoch 76/80\n",
            "56/56 [==============================] - 1s 11ms/step - loss: 4.1052e-04 - val_loss: 2.9091e-04\n",
            "Epoch 77/80\n",
            "56/56 [==============================] - 1s 12ms/step - loss: 4.0409e-04 - val_loss: 1.3108e-04\n",
            "Epoch 78/80\n",
            "56/56 [==============================] - 1s 12ms/step - loss: 3.8969e-04 - val_loss: 3.3223e-04\n",
            "Epoch 79/80\n",
            "56/56 [==============================] - 1s 11ms/step - loss: 4.2053e-04 - val_loss: 1.3187e-04\n",
            "Epoch 80/80\n",
            "56/56 [==============================] - 1s 12ms/step - loss: 3.9775e-04 - val_loss: 1.7276e-04\n"
          ]
        },
        {
          "output_type": "execute_result",
          "data": {
            "text/plain": [
              "<keras.callbacks.History at 0x7fb090093640>"
            ]
          },
          "metadata": {},
          "execution_count": 43
        }
      ]
    },
    {
      "cell_type": "code",
      "source": [
        "\n",
        "train_predict = model.predict(X_train)\n",
        "test_predict = model.predict(X_test)"
      ],
      "metadata": {
        "colab": {
          "base_uri": "https://localhost:8080/"
        },
        "id": "RHBi8i67tcVv",
        "outputId": "f33e399f-3983-487d-9820-f3c7f3e75c93"
      },
      "execution_count": 44,
      "outputs": [
        {
          "output_type": "stream",
          "name": "stdout",
          "text": [
            "105/105 [==============================] - 1s 5ms/step\n",
            "55/55 [==============================] - 0s 4ms/step\n"
          ]
        }
      ]
    },
    {
      "cell_type": "code",
      "source": [
        "train_predict = scaler.inverse_transform(train_predict)\n",
        "test_predict = scaler.inverse_transform(test_predict)"
      ],
      "metadata": {
        "id": "dj8X-vIxuLoj"
      },
      "execution_count": 45,
      "outputs": []
    },
    {
      "cell_type": "code",
      "source": [
        "scaler.inverse_transform(y_train.reshape(-1,1))"
      ],
      "metadata": {
        "colab": {
          "base_uri": "https://localhost:8080/"
        },
        "id": "jw7UZ69zVfpA",
        "outputId": "a56b93c6-16bb-4a79-f080-b374cc14fead"
      },
      "execution_count": 46,
      "outputs": [
        {
          "output_type": "execute_result",
          "data": {
            "text/plain": [
              "array([[543.65],\n",
              "       [478.45],\n",
              "       [496.35],\n",
              "       ...,\n",
              "       [795.2 ],\n",
              "       [819.45],\n",
              "       [821.15]])"
            ]
          },
          "metadata": {},
          "execution_count": 46
        }
      ]
    },
    {
      "cell_type": "code",
      "source": [
        "# Calculating rmse value for train and test data\n",
        "import math\n",
        "from sklearn.metrics import mean_squared_error\n",
        "math.sqrt(mean_squared_error(scaler.inverse_transform(y_train.reshape(-1,1)), train_predict))"
      ],
      "metadata": {
        "colab": {
          "base_uri": "https://localhost:8080/"
        },
        "id": "oga9t1tOwpku",
        "outputId": "224367b8-d576-4cc2-90cc-0ebe62b392fc"
      },
      "execution_count": 47,
      "outputs": [
        {
          "output_type": "execute_result",
          "data": {
            "text/plain": [
              "57.13417684984036"
            ]
          },
          "metadata": {},
          "execution_count": 47
        }
      ]
    },
    {
      "cell_type": "code",
      "source": [
        "math.sqrt(mean_squared_error(scaler.inverse_transform(y_test.reshape(-1,1)), test_predict))\n"
      ],
      "metadata": {
        "colab": {
          "base_uri": "https://localhost:8080/"
        },
        "id": "4WIRjyhIw7rJ",
        "outputId": "e51fa806-eb6c-42d4-80ed-967737aa91fa"
      },
      "execution_count": 48,
      "outputs": [
        {
          "output_type": "execute_result",
          "data": {
            "text/plain": [
              "38.068953231073145"
            ]
          },
          "metadata": {},
          "execution_count": 48
        }
      ]
    },
    {
      "cell_type": "code",
      "source": [
        "# Plotting the predicted values on actual values\n",
        "look_back = 100\n",
        "trainPredictPlot = np.empty_like(df1)\n",
        "trainPredictPlot[:,:] = np.nan\n",
        "trainPredictPlot[look_back:len(train_predict) + look_back, :] = train_predict\n",
        "\n",
        "#Shift test prediction for plotting\n",
        "testPredictPlot = np.empty_like(df1)\n",
        "testPredictPlot[:,:] = np.nan\n",
        "testPredictPlot[len(train_predict) + (look_back * 2)+1:len(df) - 1, :] = test_predict\n",
        "\n",
        "#Plot baseline and predictions\n",
        "plt.plot(scaler.inverse_transform(df1))\n",
        "plt.plot(trainPredictPlot)\n",
        "plt.plot(testPredictPlot)\n",
        "plt.show()"
      ],
      "metadata": {
        "colab": {
          "base_uri": "https://localhost:8080/",
          "height": 265
        },
        "id": "CyRS-_u4x4Db",
        "outputId": "3b5dc043-c1a8-4908-cd7d-60169479521d"
      },
      "execution_count": 49,
      "outputs": [
        {
          "output_type": "display_data",
          "data": {
            "text/plain": [
              "<Figure size 432x288 with 1 Axes>"
            ],
            "image/png": "[encoded data removed]"
          },
          "metadata": {
            "needs_background": "light"
          }
        }
      ]
    },
    {
      "cell_type": "code",
      "source": [
        "\n",
        "len(test_data), X_test.shape\n"
      ],
      "metadata": {
        "colab": {
          "base_uri": "https://localhost:8080/"
        },
        "id": "PaRYrc4WyTt9",
        "outputId": "80acab18-c36b-46b4-89fb-e391b6481158"
      },
      "execution_count": 69,
      "outputs": [
        {
          "output_type": "execute_result",
          "data": {
            "text/plain": [
              "(1858, (1757, 100, 1))"
            ]
          },
          "metadata": {},
          "execution_count": 69
        }
      ]
    },
    {
      "cell_type": "code",
      "source": [
        "\n",
        "x_input = test_data[1758:].reshape(1,-1)\n",
        "x_input.shape"
      ],
      "metadata": {
        "colab": {
          "base_uri": "https://localhost:8080/"
        },
        "id": "kQ2gl2YR3996",
        "outputId": "a1376cee-aa99-4281-83a3-7ac8b043d1ee"
      },
      "execution_count": 51,
      "outputs": [
        {
          "output_type": "execute_result",
          "data": {
            "text/plain": [
              "(1, 100)"
            ]
          },
          "metadata": {},
          "execution_count": 51
        }
      ]
    },
    {
      "cell_type": "code",
      "source": [
        "temp_input = list(x_input)\n",
        "temp_input = temp_input[0].tolist()"
      ],
      "metadata": {
        "id": "Pzy7A9T04JSE"
      },
      "execution_count": 52,
      "outputs": []
    },
    {
      "cell_type": "code",
      "source": [
        "# Predicting next 50 days closing price of the stock\n",
        "lst_output=[]\n",
        "n_steps=100\n",
        "nextNumberOfDays = 50\n",
        "i=0\n",
        "\n",
        "while(i<nextNumberOfDays):\n",
        "    \n",
        "    if(len(temp_input)>100):\n",
        "        x_input=np.array(temp_input[1:])\n",
        "        print(\"{} day input {}\".format(i,x_input))\n",
        "        x_input=x_input.reshape(1,-1)\n",
        "        x_input = x_input.reshape((1, n_steps, 1))\n",
        "        yhat = model.predict(x_input, verbose=0)\n",
        "        print(\"{} day output {}\".format(i,yhat))\n",
        "        temp_input.extend(yhat[0].tolist())\n",
        "        temp_input=temp_input[1:]\n",
        "        lst_output.extend(yhat.tolist())\n",
        "        i=i+1\n",
        "    else:\n",
        "        x_input = x_input.reshape((1, n_steps,1))\n",
        "        yhat = model.predict(x_input, verbose=0)\n",
        "        print(yhat[0])\n",
        "        temp_input.extend(yhat[0].tolist())\n",
        "        print(len(temp_input))\n",
        "        lst_output.extend(yhat.tolist())\n",
        "        i=i+1\n",
        "    \n",
        "\n",
        "print(lst_output)"
      ],
      "metadata": {
        "colab": {
          "base_uri": "https://localhost:8080/"
        },
        "id": "GS856NN74dC0",
        "outputId": "f7286352-fce7-4ce6-a56e-e3106b5b914f"
      },
      "execution_count": 53,
      "outputs": [
        {
          "output_type": "stream",
          "name": "stdout",
          "text": [
            "[0.74367857]\n",
            "101\n",
            "1 day input [0.67743328 0.6974243  0.69947865 0.69842558 0.69234886 0.69469668\n",
            " 0.69702724 0.71349653 0.73914995 0.76330145 0.75805338 0.73574906\n",
            " 0.73189932 0.73169216 0.74968063 0.75703484 0.77170873 0.77139799\n",
            " 0.78541588 0.78890308 0.79226945 0.81759486 0.81310638 0.82087491\n",
            " 0.81954563 0.85189725 0.85063702 0.82417222 0.8287125  0.81100024\n",
            " 0.78812623 0.81935573 0.83012809 0.8214446  0.79605013 0.78291268\n",
            " 0.75377205 0.73952974 0.72297414 0.7925284  0.82006353 0.83544522\n",
            " 0.83689535 0.84164279 0.84573421 0.85046439 0.85738701 0.85514277\n",
            " 0.86581155 0.88961779 0.88899631 0.87059352 0.84980838 0.84847909\n",
            " 0.81762939 0.80956738 0.83689535 0.82893692 0.77876946 0.80176432\n",
            " 0.78726306 0.81864793 0.79380589 0.78032317 0.7687049  0.79185513\n",
            " 0.79962366 0.78864413 0.77742292 0.76875669 0.77053482 0.77020682\n",
            " 0.77609364 0.77616269 0.76858406 0.75334047 0.75506681 0.77647343\n",
            " 0.80164348 0.76450989 0.77602458 0.74646963 0.75560197 0.75919276\n",
            " 0.76604633 0.76996513 0.73749266 0.76963712 0.78144529 0.790733\n",
            " 0.7625246  0.73612885 0.75815696 0.76425094 0.76854953 0.77151883\n",
            " 0.79175155 0.77857957 0.73757898 0.74367857]\n",
            "1 day output [[0.75356436]]\n",
            "2 day input [0.6974243  0.69947865 0.69842558 0.69234886 0.69469668 0.69702724\n",
            " 0.71349653 0.73914995 0.76330145 0.75805338 0.73574906 0.73189932\n",
            " 0.73169216 0.74968063 0.75703484 0.77170873 0.77139799 0.78541588\n",
            " 0.78890308 0.79226945 0.81759486 0.81310638 0.82087491 0.81954563\n",
            " 0.85189725 0.85063702 0.82417222 0.8287125  0.81100024 0.78812623\n",
            " 0.81935573 0.83012809 0.8214446  0.79605013 0.78291268 0.75377205\n",
            " 0.73952974 0.72297414 0.7925284  0.82006353 0.83544522 0.83689535\n",
            " 0.84164279 0.84573421 0.85046439 0.85738701 0.85514277 0.86581155\n",
            " 0.88961779 0.88899631 0.87059352 0.84980838 0.84847909 0.81762939\n",
            " 0.80956738 0.83689535 0.82893692 0.77876946 0.80176432 0.78726306\n",
            " 0.81864793 0.79380589 0.78032317 0.7687049  0.79185513 0.79962366\n",
            " 0.78864413 0.77742292 0.76875669 0.77053482 0.77020682 0.77609364\n",
            " 0.77616269 0.76858406 0.75334047 0.75506681 0.77647343 0.80164348\n",
            " 0.76450989 0.77602458 0.74646963 0.75560197 0.75919276 0.76604633\n",
            " 0.76996513 0.73749266 0.76963712 0.78144529 0.790733   0.7625246\n",
            " 0.73612885 0.75815696 0.76425094 0.76854953 0.77151883 0.79175155\n",
            " 0.77857957 0.73757898 0.74367857 0.75356436]\n",
            "2 day output [[0.76437026]]\n",
            "3 day input [0.69947865 0.69842558 0.69234886 0.69469668 0.69702724 0.71349653\n",
            " 0.73914995 0.76330145 0.75805338 0.73574906 0.73189932 0.73169216\n",
            " 0.74968063 0.75703484 0.77170873 0.77139799 0.78541588 0.78890308\n",
            " 0.79226945 0.81759486 0.81310638 0.82087491 0.81954563 0.85189725\n",
            " 0.85063702 0.82417222 0.8287125  0.81100024 0.78812623 0.81935573\n",
            " 0.83012809 0.8214446  0.79605013 0.78291268 0.75377205 0.73952974\n",
            " 0.72297414 0.7925284  0.82006353 0.83544522 0.83689535 0.84164279\n",
            " 0.84573421 0.85046439 0.85738701 0.85514277 0.86581155 0.88961779\n",
            " 0.88899631 0.87059352 0.84980838 0.84847909 0.81762939 0.80956738\n",
            " 0.83689535 0.82893692 0.77876946 0.80176432 0.78726306 0.81864793\n",
            " 0.79380589 0.78032317 0.7687049  0.79185513 0.79962366 0.78864413\n",
            " 0.77742292 0.76875669 0.77053482 0.77020682 0.77609364 0.77616269\n",
            " 0.76858406 0.75334047 0.75506681 0.77647343 0.80164348 0.76450989\n",
            " 0.77602458 0.74646963 0.75560197 0.75919276 0.76604633 0.76996513\n",
            " 0.73749266 0.76963712 0.78144529 0.790733   0.7625246  0.73612885\n",
            " 0.75815696 0.76425094 0.76854953 0.77151883 0.79175155 0.77857957\n",
            " 0.73757898 0.74367857 0.75356436 0.76437026]\n",
            "3 day output [[0.7741683]]\n",
            "4 day input [0.69842558 0.69234886 0.69469668 0.69702724 0.71349653 0.73914995\n",
            " 0.76330145 0.75805338 0.73574906 0.73189932 0.73169216 0.74968063\n",
            " 0.75703484 0.77170873 0.77139799 0.78541588 0.78890308 0.79226945\n",
            " 0.81759486 0.81310638 0.82087491 0.81954563 0.85189725 0.85063702\n",
            " 0.82417222 0.8287125  0.81100024 0.78812623 0.81935573 0.83012809\n",
            " 0.8214446  0.79605013 0.78291268 0.75377205 0.73952974 0.72297414\n",
            " 0.7925284  0.82006353 0.83544522 0.83689535 0.84164279 0.84573421\n",
            " 0.85046439 0.85738701 0.85514277 0.86581155 0.88961779 0.88899631\n",
            " 0.87059352 0.84980838 0.84847909 0.81762939 0.80956738 0.83689535\n",
            " 0.82893692 0.77876946 0.80176432 0.78726306 0.81864793 0.79380589\n",
            " 0.78032317 0.7687049  0.79185513 0.79962366 0.78864413 0.77742292\n",
            " 0.76875669 0.77053482 0.77020682 0.77609364 0.77616269 0.76858406\n",
            " 0.75334047 0.75506681 0.77647343 0.80164348 0.76450989 0.77602458\n",
            " 0.74646963 0.75560197 0.75919276 0.76604633 0.76996513 0.73749266\n",
            " 0.76963712 0.78144529 0.790733   0.7625246  0.73612885 0.75815696\n",
            " 0.76425094 0.76854953 0.77151883 0.79175155 0.77857957 0.73757898\n",
            " 0.74367857 0.75356436 0.76437026 0.77416831]\n",
            "4 day output [[0.7828953]]\n",
            "5 day input [0.69234886 0.69469668 0.69702724 0.71349653 0.73914995 0.76330145\n",
            " 0.75805338 0.73574906 0.73189932 0.73169216 0.74968063 0.75703484\n",
            " 0.77170873 0.77139799 0.78541588 0.78890308 0.79226945 0.81759486\n",
            " 0.81310638 0.82087491 0.81954563 0.85189725 0.85063702 0.82417222\n",
            " 0.8287125  0.81100024 0.78812623 0.81935573 0.83012809 0.8214446\n",
            " 0.79605013 0.78291268 0.75377205 0.73952974 0.72297414 0.7925284\n",
            " 0.82006353 0.83544522 0.83689535 0.84164279 0.84573421 0.85046439\n",
            " 0.85738701 0.85514277 0.86581155 0.88961779 0.88899631 0.87059352\n",
            " 0.84980838 0.84847909 0.81762939 0.80956738 0.83689535 0.82893692\n",
            " 0.77876946 0.80176432 0.78726306 0.81864793 0.79380589 0.78032317\n",
            " 0.7687049  0.79185513 0.79962366 0.78864413 0.77742292 0.76875669\n",
            " 0.77053482 0.77020682 0.77609364 0.77616269 0.76858406 0.75334047\n",
            " 0.75506681 0.77647343 0.80164348 0.76450989 0.77602458 0.74646963\n",
            " 0.75560197 0.75919276 0.76604633 0.76996513 0.73749266 0.76963712\n",
            " 0.78144529 0.790733   0.7625246  0.73612885 0.75815696 0.76425094\n",
            " 0.76854953 0.77151883 0.79175155 0.77857957 0.73757898 0.74367857\n",
            " 0.75356436 0.76437026 0.77416831 0.78289533]\n",
            "5 day output [[0.79048723]]\n",
            "6 day input [0.69469668 0.69702724 0.71349653 0.73914995 0.76330145 0.75805338\n",
            " 0.73574906 0.73189932 0.73169216 0.74968063 0.75703484 0.77170873\n",
            " 0.77139799 0.78541588 0.78890308 0.79226945 0.81759486 0.81310638\n",
            " 0.82087491 0.81954563 0.85189725 0.85063702 0.82417222 0.8287125\n",
            " 0.81100024 0.78812623 0.81935573 0.83012809 0.8214446  0.79605013\n",
            " 0.78291268 0.75377205 0.73952974 0.72297414 0.7925284  0.82006353\n",
            " 0.83544522 0.83689535 0.84164279 0.84573421 0.85046439 0.85738701\n",
            " 0.85514277 0.86581155 0.88961779 0.88899631 0.87059352 0.84980838\n",
            " 0.84847909 0.81762939 0.80956738 0.83689535 0.82893692 0.77876946\n",
            " 0.80176432 0.78726306 0.81864793 0.79380589 0.78032317 0.7687049\n",
            " 0.79185513 0.79962366 0.78864413 0.77742292 0.76875669 0.77053482\n",
            " 0.77020682 0.77609364 0.77616269 0.76858406 0.75334047 0.75506681\n",
            " 0.77647343 0.80164348 0.76450989 0.77602458 0.74646963 0.75560197\n",
            " 0.75919276 0.76604633 0.76996513 0.73749266 0.76963712 0.78144529\n",
            " 0.790733   0.7625246  0.73612885 0.75815696 0.76425094 0.76854953\n",
            " 0.77151883 0.79175155 0.77857957 0.73757898 0.74367857 0.75356436\n",
            " 0.76437026 0.77416831 0.78289533 0.79048723]\n",
            "6 day output [[0.7970348]]\n",
            "7 day input [0.69702724 0.71349653 0.73914995 0.76330145 0.75805338 0.73574906\n",
            " 0.73189932 0.73169216 0.74968063 0.75703484 0.77170873 0.77139799\n",
            " 0.78541588 0.78890308 0.79226945 0.81759486 0.81310638 0.82087491\n",
            " 0.81954563 0.85189725 0.85063702 0.82417222 0.8287125  0.81100024\n",
            " 0.78812623 0.81935573 0.83012809 0.8214446  0.79605013 0.78291268\n",
            " 0.75377205 0.73952974 0.72297414 0.7925284  0.82006353 0.83544522\n",
            " 0.83689535 0.84164279 0.84573421 0.85046439 0.85738701 0.85514277\n",
            " 0.86581155 0.88961779 0.88899631 0.87059352 0.84980838 0.84847909\n",
            " 0.81762939 0.80956738 0.83689535 0.82893692 0.77876946 0.80176432\n",
            " 0.78726306 0.81864793 0.79380589 0.78032317 0.7687049  0.79185513\n",
            " 0.79962366 0.78864413 0.77742292 0.76875669 0.77053482 0.77020682\n",
            " 0.77609364 0.77616269 0.76858406 0.75334047 0.75506681 0.77647343\n",
            " 0.80164348 0.76450989 0.77602458 0.74646963 0.75560197 0.75919276\n",
            " 0.76604633 0.76996513 0.73749266 0.76963712 0.78144529 0.790733\n",
            " 0.7625246  0.73612885 0.75815696 0.76425094 0.76854953 0.77151883\n",
            " 0.79175155 0.77857957 0.73757898 0.74367857 0.75356436 0.76437026\n",
            " 0.77416831 0.78289533 0.79048723 0.7970348 ]\n",
            "7 day output [[0.80272615]]\n",
            "8 day input [0.71349653 0.73914995 0.76330145 0.75805338 0.73574906 0.73189932\n",
            " 0.73169216 0.74968063 0.75703484 0.77170873 0.77139799 0.78541588\n",
            " 0.78890308 0.79226945 0.81759486 0.81310638 0.82087491 0.81954563\n",
            " 0.85189725 0.85063702 0.82417222 0.8287125  0.81100024 0.78812623\n",
            " 0.81935573 0.83012809 0.8214446  0.79605013 0.78291268 0.75377205\n",
            " 0.73952974 0.72297414 0.7925284  0.82006353 0.83544522 0.83689535\n",
            " 0.84164279 0.84573421 0.85046439 0.85738701 0.85514277 0.86581155\n",
            " 0.88961779 0.88899631 0.87059352 0.84980838 0.84847909 0.81762939\n",
            " 0.80956738 0.83689535 0.82893692 0.77876946 0.80176432 0.78726306\n",
            " 0.81864793 0.79380589 0.78032317 0.7687049  0.79185513 0.79962366\n",
            " 0.78864413 0.77742292 0.76875669 0.77053482 0.77020682 0.77609364\n",
            " 0.77616269 0.76858406 0.75334047 0.75506681 0.77647343 0.80164348\n",
            " 0.76450989 0.77602458 0.74646963 0.75560197 0.75919276 0.76604633\n",
            " 0.76996513 0.73749266 0.76963712 0.78144529 0.790733   0.7625246\n",
            " 0.73612885 0.75815696 0.76425094 0.76854953 0.77151883 0.79175155\n",
            " 0.77857957 0.73757898 0.74367857 0.75356436 0.76437026 0.77416831\n",
            " 0.78289533 0.79048723 0.7970348  0.80272615]\n",
            "8 day output [[0.8077854]]\n",
            "9 day input [0.73914995 0.76330145 0.75805338 0.73574906 0.73189932 0.73169216\n",
            " 0.74968063 0.75703484 0.77170873 0.77139799 0.78541588 0.78890308\n",
            " 0.79226945 0.81759486 0.81310638 0.82087491 0.81954563 0.85189725\n",
            " 0.85063702 0.82417222 0.8287125  0.81100024 0.78812623 0.81935573\n",
            " 0.83012809 0.8214446  0.79605013 0.78291268 0.75377205 0.73952974\n",
            " 0.72297414 0.7925284  0.82006353 0.83544522 0.83689535 0.84164279\n",
            " 0.84573421 0.85046439 0.85738701 0.85514277 0.86581155 0.88961779\n",
            " 0.88899631 0.87059352 0.84980838 0.84847909 0.81762939 0.80956738\n",
            " 0.83689535 0.82893692 0.77876946 0.80176432 0.78726306 0.81864793\n",
            " 0.79380589 0.78032317 0.7687049  0.79185513 0.79962366 0.78864413\n",
            " 0.77742292 0.76875669 0.77053482 0.77020682 0.77609364 0.77616269\n",
            " 0.76858406 0.75334047 0.75506681 0.77647343 0.80164348 0.76450989\n",
            " 0.77602458 0.74646963 0.75560197 0.75919276 0.76604633 0.76996513\n",
            " 0.73749266 0.76963712 0.78144529 0.790733   0.7625246  0.73612885\n",
            " 0.75815696 0.76425094 0.76854953 0.77151883 0.79175155 0.77857957\n",
            " 0.73757898 0.74367857 0.75356436 0.76437026 0.77416831 0.78289533\n",
            " 0.79048723 0.7970348  0.80272615 0.80778539]\n",
            "9 day output [[0.8124264]]\n",
            "10 day input [0.76330145 0.75805338 0.73574906 0.73189932 0.73169216 0.74968063\n",
            " 0.75703484 0.77170873 0.77139799 0.78541588 0.78890308 0.79226945\n",
            " 0.81759486 0.81310638 0.82087491 0.81954563 0.85189725 0.85063702\n",
            " 0.82417222 0.8287125  0.81100024 0.78812623 0.81935573 0.83012809\n",
            " 0.8214446  0.79605013 0.78291268 0.75377205 0.73952974 0.72297414\n",
            " 0.7925284  0.82006353 0.83544522 0.83689535 0.84164279 0.84573421\n",
            " 0.85046439 0.85738701 0.85514277 0.86581155 0.88961779 0.88899631\n",
            " 0.87059352 0.84980838 0.84847909 0.81762939 0.80956738 0.83689535\n",
            " 0.82893692 0.77876946 0.80176432 0.78726306 0.81864793 0.79380589\n",
            " 0.78032317 0.7687049  0.79185513 0.79962366 0.78864413 0.77742292\n",
            " 0.76875669 0.77053482 0.77020682 0.77609364 0.77616269 0.76858406\n",
            " 0.75334047 0.75506681 0.77647343 0.80164348 0.76450989 0.77602458\n",
            " 0.74646963 0.75560197 0.75919276 0.76604633 0.76996513 0.73749266\n",
            " 0.76963712 0.78144529 0.790733   0.7625246  0.73612885 0.75815696\n",
            " 0.76425094 0.76854953 0.77151883 0.79175155 0.77857957 0.73757898\n",
            " 0.74367857 0.75356436 0.76437026 0.77416831 0.78289533 0.79048723\n",
            " 0.7970348  0.80272615 0.80778539 0.81242639]\n",
            "10 day output [[0.81682575]]\n",
            "11 day input [0.75805338 0.73574906 0.73189932 0.73169216 0.74968063 0.75703484\n",
            " 0.77170873 0.77139799 0.78541588 0.78890308 0.79226945 0.81759486\n",
            " 0.81310638 0.82087491 0.81954563 0.85189725 0.85063702 0.82417222\n",
            " 0.8287125  0.81100024 0.78812623 0.81935573 0.83012809 0.8214446\n",
            " 0.79605013 0.78291268 0.75377205 0.73952974 0.72297414 0.7925284\n",
            " 0.82006353 0.83544522 0.83689535 0.84164279 0.84573421 0.85046439\n",
            " 0.85738701 0.85514277 0.86581155 0.88961779 0.88899631 0.87059352\n",
            " 0.84980838 0.84847909 0.81762939 0.80956738 0.83689535 0.82893692\n",
            " 0.77876946 0.80176432 0.78726306 0.81864793 0.79380589 0.78032317\n",
            " 0.7687049  0.79185513 0.79962366 0.78864413 0.77742292 0.76875669\n",
            " 0.77053482 0.77020682 0.77609364 0.77616269 0.76858406 0.75334047\n",
            " 0.75506681 0.77647343 0.80164348 0.76450989 0.77602458 0.74646963\n",
            " 0.75560197 0.75919276 0.76604633 0.76996513 0.73749266 0.76963712\n",
            " 0.78144529 0.790733   0.7625246  0.73612885 0.75815696 0.76425094\n",
            " 0.76854953 0.77151883 0.79175155 0.77857957 0.73757898 0.74367857\n",
            " 0.75356436 0.76437026 0.77416831 0.78289533 0.79048723 0.7970348\n",
            " 0.80272615 0.80778539 0.81242639 0.81682575]\n",
            "11 day output [[0.82111096]]\n",
            "12 day input [0.73574906 0.73189932 0.73169216 0.74968063 0.75703484 0.77170873\n",
            " 0.77139799 0.78541588 0.78890308 0.79226945 0.81759486 0.81310638\n",
            " 0.82087491 0.81954563 0.85189725 0.85063702 0.82417222 0.8287125\n",
            " 0.81100024 0.78812623 0.81935573 0.83012809 0.8214446  0.79605013\n",
            " 0.78291268 0.75377205 0.73952974 0.72297414 0.7925284  0.82006353\n",
            " 0.83544522 0.83689535 0.84164279 0.84573421 0.85046439 0.85738701\n",
            " 0.85514277 0.86581155 0.88961779 0.88899631 0.87059352 0.84980838\n",
            " 0.84847909 0.81762939 0.80956738 0.83689535 0.82893692 0.77876946\n",
            " 0.80176432 0.78726306 0.81864793 0.79380589 0.78032317 0.7687049\n",
            " 0.79185513 0.79962366 0.78864413 0.77742292 0.76875669 0.77053482\n",
            " 0.77020682 0.77609364 0.77616269 0.76858406 0.75334047 0.75506681\n",
            " 0.77647343 0.80164348 0.76450989 0.77602458 0.74646963 0.75560197\n",
            " 0.75919276 0.76604633 0.76996513 0.73749266 0.76963712 0.78144529\n",
            " 0.790733   0.7625246  0.73612885 0.75815696 0.76425094 0.76854953\n",
            " 0.77151883 0.79175155 0.77857957 0.73757898 0.74367857 0.75356436\n",
            " 0.76437026 0.77416831 0.78289533 0.79048723 0.7970348  0.80272615\n",
            " 0.80778539 0.81242639 0.81682575 0.82111096]\n",
            "12 day output [[0.8253608]]\n",
            "13 day input [0.73189932 0.73169216 0.74968063 0.75703484 0.77170873 0.77139799\n",
            " 0.78541588 0.78890308 0.79226945 0.81759486 0.81310638 0.82087491\n",
            " 0.81954563 0.85189725 0.85063702 0.82417222 0.8287125  0.81100024\n",
            " 0.78812623 0.81935573 0.83012809 0.8214446  0.79605013 0.78291268\n",
            " 0.75377205 0.73952974 0.72297414 0.7925284  0.82006353 0.83544522\n",
            " 0.83689535 0.84164279 0.84573421 0.85046439 0.85738701 0.85514277\n",
            " 0.86581155 0.88961779 0.88899631 0.87059352 0.84980838 0.84847909\n",
            " 0.81762939 0.80956738 0.83689535 0.82893692 0.77876946 0.80176432\n",
            " 0.78726306 0.81864793 0.79380589 0.78032317 0.7687049  0.79185513\n",
            " 0.79962366 0.78864413 0.77742292 0.76875669 0.77053482 0.77020682\n",
            " 0.77609364 0.77616269 0.76858406 0.75334047 0.75506681 0.77647343\n",
            " 0.80164348 0.76450989 0.77602458 0.74646963 0.75560197 0.75919276\n",
            " 0.76604633 0.76996513 0.73749266 0.76963712 0.78144529 0.790733\n",
            " 0.7625246  0.73612885 0.75815696 0.76425094 0.76854953 0.77151883\n",
            " 0.79175155 0.77857957 0.73757898 0.74367857 0.75356436 0.76437026\n",
            " 0.77416831 0.78289533 0.79048723 0.7970348  0.80272615 0.80778539\n",
            " 0.81242639 0.81682575 0.82111096 0.82536077]\n",
            "13 day output [[0.82961255]]\n",
            "14 day input [0.73169216 0.74968063 0.75703484 0.77170873 0.77139799 0.78541588\n",
            " 0.78890308 0.79226945 0.81759486 0.81310638 0.82087491 0.81954563\n",
            " 0.85189725 0.85063702 0.82417222 0.8287125  0.81100024 0.78812623\n",
            " 0.81935573 0.83012809 0.8214446  0.79605013 0.78291268 0.75377205\n",
            " 0.73952974 0.72297414 0.7925284  0.82006353 0.83544522 0.83689535\n",
            " 0.84164279 0.84573421 0.85046439 0.85738701 0.85514277 0.86581155\n",
            " 0.88961779 0.88899631 0.87059352 0.84980838 0.84847909 0.81762939\n",
            " 0.80956738 0.83689535 0.82893692 0.77876946 0.80176432 0.78726306\n",
            " 0.81864793 0.79380589 0.78032317 0.7687049  0.79185513 0.79962366\n",
            " 0.78864413 0.77742292 0.76875669 0.77053482 0.77020682 0.77609364\n",
            " 0.77616269 0.76858406 0.75334047 0.75506681 0.77647343 0.80164348\n",
            " 0.76450989 0.77602458 0.74646963 0.75560197 0.75919276 0.76604633\n",
            " 0.76996513 0.73749266 0.76963712 0.78144529 0.790733   0.7625246\n",
            " 0.73612885 0.75815696 0.76425094 0.76854953 0.77151883 0.79175155\n",
            " 0.77857957 0.73757898 0.74367857 0.75356436 0.76437026 0.77416831\n",
            " 0.78289533 0.79048723 0.7970348  0.80272615 0.80778539 0.81242639\n",
            " 0.81682575 0.82111096 0.82536077 0.82961255]\n",
            "14 day output [[0.833872]]\n",
            "15 day input [0.74968063 0.75703484 0.77170873 0.77139799 0.78541588 0.78890308\n",
            " 0.79226945 0.81759486 0.81310638 0.82087491 0.81954563 0.85189725\n",
            " 0.85063702 0.82417222 0.8287125  0.81100024 0.78812623 0.81935573\n",
            " 0.83012809 0.8214446  0.79605013 0.78291268 0.75377205 0.73952974\n",
            " 0.72297414 0.7925284  0.82006353 0.83544522 0.83689535 0.84164279\n",
            " 0.84573421 0.85046439 0.85738701 0.85514277 0.86581155 0.88961779\n",
            " 0.88899631 0.87059352 0.84980838 0.84847909 0.81762939 0.80956738\n",
            " 0.83689535 0.82893692 0.77876946 0.80176432 0.78726306 0.81864793\n",
            " 0.79380589 0.78032317 0.7687049  0.79185513 0.79962366 0.78864413\n",
            " 0.77742292 0.76875669 0.77053482 0.77020682 0.77609364 0.77616269\n",
            " 0.76858406 0.75334047 0.75506681 0.77647343 0.80164348 0.76450989\n",
            " 0.77602458 0.74646963 0.75560197 0.75919276 0.76604633 0.76996513\n",
            " 0.73749266 0.76963712 0.78144529 0.790733   0.7625246  0.73612885\n",
            " 0.75815696 0.76425094 0.76854953 0.77151883 0.79175155 0.77857957\n",
            " 0.73757898 0.74367857 0.75356436 0.76437026 0.77416831 0.78289533\n",
            " 0.79048723 0.7970348  0.80272615 0.80778539 0.81242639 0.81682575\n",
            " 0.82111096 0.82536077 0.82961255 0.83387202]\n",
            "15 day output [[0.838125]]\n",
            "16 day input [0.75703484 0.77170873 0.77139799 0.78541588 0.78890308 0.79226945\n",
            " 0.81759486 0.81310638 0.82087491 0.81954563 0.85189725 0.85063702\n",
            " 0.82417222 0.8287125  0.81100024 0.78812623 0.81935573 0.83012809\n",
            " 0.8214446  0.79605013 0.78291268 0.75377205 0.73952974 0.72297414\n",
            " 0.7925284  0.82006353 0.83544522 0.83689535 0.84164279 0.84573421\n",
            " 0.85046439 0.85738701 0.85514277 0.86581155 0.88961779 0.88899631\n",
            " 0.87059352 0.84980838 0.84847909 0.81762939 0.80956738 0.83689535\n",
            " 0.82893692 0.77876946 0.80176432 0.78726306 0.81864793 0.79380589\n",
            " 0.78032317 0.7687049  0.79185513 0.79962366 0.78864413 0.77742292\n",
            " 0.76875669 0.77053482 0.77020682 0.77609364 0.77616269 0.76858406\n",
            " 0.75334047 0.75506681 0.77647343 0.80164348 0.76450989 0.77602458\n",
            " 0.74646963 0.75560197 0.75919276 0.76604633 0.76996513 0.73749266\n",
            " 0.76963712 0.78144529 0.790733   0.7625246  0.73612885 0.75815696\n",
            " 0.76425094 0.76854953 0.77151883 0.79175155 0.77857957 0.73757898\n",
            " 0.74367857 0.75356436 0.76437026 0.77416831 0.78289533 0.79048723\n",
            " 0.7970348  0.80272615 0.80778539 0.81242639 0.81682575 0.82111096\n",
            " 0.82536077 0.82961255 0.83387202 0.83812499]\n",
            "16 day output [[0.84234643]]\n",
            "17 day input [0.77170873 0.77139799 0.78541588 0.78890308 0.79226945 0.81759486\n",
            " 0.81310638 0.82087491 0.81954563 0.85189725 0.85063702 0.82417222\n",
            " 0.8287125  0.81100024 0.78812623 0.81935573 0.83012809 0.8214446\n",
            " 0.79605013 0.78291268 0.75377205 0.73952974 0.72297414 0.7925284\n",
            " 0.82006353 0.83544522 0.83689535 0.84164279 0.84573421 0.85046439\n",
            " 0.85738701 0.85514277 0.86581155 0.88961779 0.88899631 0.87059352\n",
            " 0.84980838 0.84847909 0.81762939 0.80956738 0.83689535 0.82893692\n",
            " 0.77876946 0.80176432 0.78726306 0.81864793 0.79380589 0.78032317\n",
            " 0.7687049  0.79185513 0.79962366 0.78864413 0.77742292 0.76875669\n",
            " 0.77053482 0.77020682 0.77609364 0.77616269 0.76858406 0.75334047\n",
            " 0.75506681 0.77647343 0.80164348 0.76450989 0.77602458 0.74646963\n",
            " 0.75560197 0.75919276 0.76604633 0.76996513 0.73749266 0.76963712\n",
            " 0.78144529 0.790733   0.7625246  0.73612885 0.75815696 0.76425094\n",
            " 0.76854953 0.77151883 0.79175155 0.77857957 0.73757898 0.74367857\n",
            " 0.75356436 0.76437026 0.77416831 0.78289533 0.79048723 0.7970348\n",
            " 0.80272615 0.80778539 0.81242639 0.81682575 0.82111096 0.82536077\n",
            " 0.82961255 0.83387202 0.83812499 0.84234643]\n",
            "17 day output [[0.84650743]]\n",
            "18 day input [0.77139799 0.78541588 0.78890308 0.79226945 0.81759486 0.81310638\n",
            " 0.82087491 0.81954563 0.85189725 0.85063702 0.82417222 0.8287125\n",
            " 0.81100024 0.78812623 0.81935573 0.83012809 0.8214446  0.79605013\n",
            " 0.78291268 0.75377205 0.73952974 0.72297414 0.7925284  0.82006353\n",
            " 0.83544522 0.83689535 0.84164279 0.84573421 0.85046439 0.85738701\n",
            " 0.85514277 0.86581155 0.88961779 0.88899631 0.87059352 0.84980838\n",
            " 0.84847909 0.81762939 0.80956738 0.83689535 0.82893692 0.77876946\n",
            " 0.80176432 0.78726306 0.81864793 0.79380589 0.78032317 0.7687049\n",
            " 0.79185513 0.79962366 0.78864413 0.77742292 0.76875669 0.77053482\n",
            " 0.77020682 0.77609364 0.77616269 0.76858406 0.75334047 0.75506681\n",
            " 0.77647343 0.80164348 0.76450989 0.77602458 0.74646963 0.75560197\n",
            " 0.75919276 0.76604633 0.76996513 0.73749266 0.76963712 0.78144529\n",
            " 0.790733   0.7625246  0.73612885 0.75815696 0.76425094 0.76854953\n",
            " 0.77151883 0.79175155 0.77857957 0.73757898 0.74367857 0.75356436\n",
            " 0.76437026 0.77416831 0.78289533 0.79048723 0.7970348  0.80272615\n",
            " 0.80778539 0.81242639 0.81682575 0.82111096 0.82536077 0.82961255\n",
            " 0.83387202 0.83812499 0.84234643 0.84650743]\n",
            "18 day output [[0.85058033]]\n",
            "19 day input [0.78541588 0.78890308 0.79226945 0.81759486 0.81310638 0.82087491\n",
            " 0.81954563 0.85189725 0.85063702 0.82417222 0.8287125  0.81100024\n",
            " 0.78812623 0.81935573 0.83012809 0.8214446  0.79605013 0.78291268\n",
            " 0.75377205 0.73952974 0.72297414 0.7925284  0.82006353 0.83544522\n",
            " 0.83689535 0.84164279 0.84573421 0.85046439 0.85738701 0.85514277\n",
            " 0.86581155 0.88961779 0.88899631 0.87059352 0.84980838 0.84847909\n",
            " 0.81762939 0.80956738 0.83689535 0.82893692 0.77876946 0.80176432\n",
            " 0.78726306 0.81864793 0.79380589 0.78032317 0.7687049  0.79185513\n",
            " 0.79962366 0.78864413 0.77742292 0.76875669 0.77053482 0.77020682\n",
            " 0.77609364 0.77616269 0.76858406 0.75334047 0.75506681 0.77647343\n",
            " 0.80164348 0.76450989 0.77602458 0.74646963 0.75560197 0.75919276\n",
            " 0.76604633 0.76996513 0.73749266 0.76963712 0.78144529 0.790733\n",
            " 0.7625246  0.73612885 0.75815696 0.76425094 0.76854953 0.77151883\n",
            " 0.79175155 0.77857957 0.73757898 0.74367857 0.75356436 0.76437026\n",
            " 0.77416831 0.78289533 0.79048723 0.7970348  0.80272615 0.80778539\n",
            " 0.81242639 0.81682575 0.82111096 0.82536077 0.82961255 0.83387202\n",
            " 0.83812499 0.84234643 0.84650743 0.85058033]\n",
            "19 day output [[0.8545418]]\n",
            "20 day input [0.78890308 0.79226945 0.81759486 0.81310638 0.82087491 0.81954563\n",
            " 0.85189725 0.85063702 0.82417222 0.8287125  0.81100024 0.78812623\n",
            " 0.81935573 0.83012809 0.8214446  0.79605013 0.78291268 0.75377205\n",
            " 0.73952974 0.72297414 0.7925284  0.82006353 0.83544522 0.83689535\n",
            " 0.84164279 0.84573421 0.85046439 0.85738701 0.85514277 0.86581155\n",
            " 0.88961779 0.88899631 0.87059352 0.84980838 0.84847909 0.81762939\n",
            " 0.80956738 0.83689535 0.82893692 0.77876946 0.80176432 0.78726306\n",
            " 0.81864793 0.79380589 0.78032317 0.7687049  0.79185513 0.79962366\n",
            " 0.78864413 0.77742292 0.76875669 0.77053482 0.77020682 0.77609364\n",
            " 0.77616269 0.76858406 0.75334047 0.75506681 0.77647343 0.80164348\n",
            " 0.76450989 0.77602458 0.74646963 0.75560197 0.75919276 0.76604633\n",
            " 0.76996513 0.73749266 0.76963712 0.78144529 0.790733   0.7625246\n",
            " 0.73612885 0.75815696 0.76425094 0.76854953 0.77151883 0.79175155\n",
            " 0.77857957 0.73757898 0.74367857 0.75356436 0.76437026 0.77416831\n",
            " 0.78289533 0.79048723 0.7970348  0.80272615 0.80778539 0.81242639\n",
            " 0.81682575 0.82111096 0.82536077 0.82961255 0.83387202 0.83812499\n",
            " 0.84234643 0.84650743 0.85058033 0.85454178]\n",
            "20 day output [[0.8583736]]\n",
            "21 day input [0.79226945 0.81759486 0.81310638 0.82087491 0.81954563 0.85189725\n",
            " 0.85063702 0.82417222 0.8287125  0.81100024 0.78812623 0.81935573\n",
            " 0.83012809 0.8214446  0.79605013 0.78291268 0.75377205 0.73952974\n",
            " 0.72297414 0.7925284  0.82006353 0.83544522 0.83689535 0.84164279\n",
            " 0.84573421 0.85046439 0.85738701 0.85514277 0.86581155 0.88961779\n",
            " 0.88899631 0.87059352 0.84980838 0.84847909 0.81762939 0.80956738\n",
            " 0.83689535 0.82893692 0.77876946 0.80176432 0.78726306 0.81864793\n",
            " 0.79380589 0.78032317 0.7687049  0.79185513 0.79962366 0.78864413\n",
            " 0.77742292 0.76875669 0.77053482 0.77020682 0.77609364 0.77616269\n",
            " 0.76858406 0.75334047 0.75506681 0.77647343 0.80164348 0.76450989\n",
            " 0.77602458 0.74646963 0.75560197 0.75919276 0.76604633 0.76996513\n",
            " 0.73749266 0.76963712 0.78144529 0.790733   0.7625246  0.73612885\n",
            " 0.75815696 0.76425094 0.76854953 0.77151883 0.79175155 0.77857957\n",
            " 0.73757898 0.74367857 0.75356436 0.76437026 0.77416831 0.78289533\n",
            " 0.79048723 0.7970348  0.80272615 0.80778539 0.81242639 0.81682575\n",
            " 0.82111096 0.82536077 0.82961255 0.83387202 0.83812499 0.84234643\n",
            " 0.84650743 0.85058033 0.85454178 0.85837358]\n",
            "21 day output [[0.86206317]]\n",
            "22 day input [0.81759486 0.81310638 0.82087491 0.81954563 0.85189725 0.85063702\n",
            " 0.82417222 0.8287125  0.81100024 0.78812623 0.81935573 0.83012809\n",
            " 0.8214446  0.79605013 0.78291268 0.75377205 0.73952974 0.72297414\n",
            " 0.7925284  0.82006353 0.83544522 0.83689535 0.84164279 0.84573421\n",
            " 0.85046439 0.85738701 0.85514277 0.86581155 0.88961779 0.88899631\n",
            " 0.87059352 0.84980838 0.84847909 0.81762939 0.80956738 0.83689535\n",
            " 0.82893692 0.77876946 0.80176432 0.78726306 0.81864793 0.79380589\n",
            " 0.78032317 0.7687049  0.79185513 0.79962366 0.78864413 0.77742292\n",
            " 0.76875669 0.77053482 0.77020682 0.77609364 0.77616269 0.76858406\n",
            " 0.75334047 0.75506681 0.77647343 0.80164348 0.76450989 0.77602458\n",
            " 0.74646963 0.75560197 0.75919276 0.76604633 0.76996513 0.73749266\n",
            " 0.76963712 0.78144529 0.790733   0.7625246  0.73612885 0.75815696\n",
            " 0.76425094 0.76854953 0.77151883 0.79175155 0.77857957 0.73757898\n",
            " 0.74367857 0.75356436 0.76437026 0.77416831 0.78289533 0.79048723\n",
            " 0.7970348  0.80272615 0.80778539 0.81242639 0.81682575 0.82111096\n",
            " 0.82536077 0.82961255 0.83387202 0.83812499 0.84234643 0.84650743\n",
            " 0.85058033 0.85454178 0.85837358 0.86206317]\n",
            "22 day output [[0.8656027]]\n",
            "23 day input [0.81310638 0.82087491 0.81954563 0.85189725 0.85063702 0.82417222\n",
            " 0.8287125  0.81100024 0.78812623 0.81935573 0.83012809 0.8214446\n",
            " 0.79605013 0.78291268 0.75377205 0.73952974 0.72297414 0.7925284\n",
            " 0.82006353 0.83544522 0.83689535 0.84164279 0.84573421 0.85046439\n",
            " 0.85738701 0.85514277 0.86581155 0.88961779 0.88899631 0.87059352\n",
            " 0.84980838 0.84847909 0.81762939 0.80956738 0.83689535 0.82893692\n",
            " 0.77876946 0.80176432 0.78726306 0.81864793 0.79380589 0.78032317\n",
            " 0.7687049  0.79185513 0.79962366 0.78864413 0.77742292 0.76875669\n",
            " 0.77053482 0.77020682 0.77609364 0.77616269 0.76858406 0.75334047\n",
            " 0.75506681 0.77647343 0.80164348 0.76450989 0.77602458 0.74646963\n",
            " 0.75560197 0.75919276 0.76604633 0.76996513 0.73749266 0.76963712\n",
            " 0.78144529 0.790733   0.7625246  0.73612885 0.75815696 0.76425094\n",
            " 0.76854953 0.77151883 0.79175155 0.77857957 0.73757898 0.74367857\n",
            " 0.75356436 0.76437026 0.77416831 0.78289533 0.79048723 0.7970348\n",
            " 0.80272615 0.80778539 0.81242639 0.81682575 0.82111096 0.82536077\n",
            " 0.82961255 0.83387202 0.83812499 0.84234643 0.84650743 0.85058033\n",
            " 0.85454178 0.85837358 0.86206317 0.86560267]\n",
            "23 day output [[0.8689883]]\n",
            "24 day input [0.82087491 0.81954563 0.85189725 0.85063702 0.82417222 0.8287125\n",
            " 0.81100024 0.78812623 0.81935573 0.83012809 0.8214446  0.79605013\n",
            " 0.78291268 0.75377205 0.73952974 0.72297414 0.7925284  0.82006353\n",
            " 0.83544522 0.83689535 0.84164279 0.84573421 0.85046439 0.85738701\n",
            " 0.85514277 0.86581155 0.88961779 0.88899631 0.87059352 0.84980838\n",
            " 0.84847909 0.81762939 0.80956738 0.83689535 0.82893692 0.77876946\n",
            " 0.80176432 0.78726306 0.81864793 0.79380589 0.78032317 0.7687049\n",
            " 0.79185513 0.79962366 0.78864413 0.77742292 0.76875669 0.77053482\n",
            " 0.77020682 0.77609364 0.77616269 0.76858406 0.75334047 0.75506681\n",
            " 0.77647343 0.80164348 0.76450989 0.77602458 0.74646963 0.75560197\n",
            " 0.75919276 0.76604633 0.76996513 0.73749266 0.76963712 0.78144529\n",
            " 0.790733   0.7625246  0.73612885 0.75815696 0.76425094 0.76854953\n",
            " 0.77151883 0.79175155 0.77857957 0.73757898 0.74367857 0.75356436\n",
            " 0.76437026 0.77416831 0.78289533 0.79048723 0.7970348  0.80272615\n",
            " 0.80778539 0.81242639 0.81682575 0.82111096 0.82536077 0.82961255\n",
            " 0.83387202 0.83812499 0.84234643 0.84650743 0.85058033 0.85454178\n",
            " 0.85837358 0.86206317 0.86560267 0.86898828]\n",
            "24 day output [[0.8722192]]\n",
            "25 day input [0.81954563 0.85189725 0.85063702 0.82417222 0.8287125  0.81100024\n",
            " 0.78812623 0.81935573 0.83012809 0.8214446  0.79605013 0.78291268\n",
            " 0.75377205 0.73952974 0.72297414 0.7925284  0.82006353 0.83544522\n",
            " 0.83689535 0.84164279 0.84573421 0.85046439 0.85738701 0.85514277\n",
            " 0.86581155 0.88961779 0.88899631 0.87059352 0.84980838 0.84847909\n",
            " 0.81762939 0.80956738 0.83689535 0.82893692 0.77876946 0.80176432\n",
            " 0.78726306 0.81864793 0.79380589 0.78032317 0.7687049  0.79185513\n",
            " 0.79962366 0.78864413 0.77742292 0.76875669 0.77053482 0.77020682\n",
            " 0.77609364 0.77616269 0.76858406 0.75334047 0.75506681 0.77647343\n",
            " 0.80164348 0.76450989 0.77602458 0.74646963 0.75560197 0.75919276\n",
            " 0.76604633 0.76996513 0.73749266 0.76963712 0.78144529 0.790733\n",
            " 0.7625246  0.73612885 0.75815696 0.76425094 0.76854953 0.77151883\n",
            " 0.79175155 0.77857957 0.73757898 0.74367857 0.75356436 0.76437026\n",
            " 0.77416831 0.78289533 0.79048723 0.7970348  0.80272615 0.80778539\n",
            " 0.81242639 0.81682575 0.82111096 0.82536077 0.82961255 0.83387202\n",
            " 0.83812499 0.84234643 0.84650743 0.85058033 0.85454178 0.85837358\n",
            " 0.86206317 0.86560267 0.86898828 0.8722192 ]\n",
            "25 day output [[0.8752967]]\n",
            "26 day input [0.85189725 0.85063702 0.82417222 0.8287125  0.81100024 0.78812623\n",
            " 0.81935573 0.83012809 0.8214446  0.79605013 0.78291268 0.75377205\n",
            " 0.73952974 0.72297414 0.7925284  0.82006353 0.83544522 0.83689535\n",
            " 0.84164279 0.84573421 0.85046439 0.85738701 0.85514277 0.86581155\n",
            " 0.88961779 0.88899631 0.87059352 0.84980838 0.84847909 0.81762939\n",
            " 0.80956738 0.83689535 0.82893692 0.77876946 0.80176432 0.78726306\n",
            " 0.81864793 0.79380589 0.78032317 0.7687049  0.79185513 0.79962366\n",
            " 0.78864413 0.77742292 0.76875669 0.77053482 0.77020682 0.77609364\n",
            " 0.77616269 0.76858406 0.75334047 0.75506681 0.77647343 0.80164348\n",
            " 0.76450989 0.77602458 0.74646963 0.75560197 0.75919276 0.76604633\n",
            " 0.76996513 0.73749266 0.76963712 0.78144529 0.790733   0.7625246\n",
            " 0.73612885 0.75815696 0.76425094 0.76854953 0.77151883 0.79175155\n",
            " 0.77857957 0.73757898 0.74367857 0.75356436 0.76437026 0.77416831\n",
            " 0.78289533 0.79048723 0.7970348  0.80272615 0.80778539 0.81242639\n",
            " 0.81682575 0.82111096 0.82536077 0.82961255 0.83387202 0.83812499\n",
            " 0.84234643 0.84650743 0.85058033 0.85454178 0.85837358 0.86206317\n",
            " 0.86560267 0.86898828 0.8722192  0.87529671]\n",
            "26 day output [[0.8782235]]\n",
            "27 day input [0.85063702 0.82417222 0.8287125  0.81100024 0.78812623 0.81935573\n",
            " 0.83012809 0.8214446  0.79605013 0.78291268 0.75377205 0.73952974\n",
            " 0.72297414 0.7925284  0.82006353 0.83544522 0.83689535 0.84164279\n",
            " 0.84573421 0.85046439 0.85738701 0.85514277 0.86581155 0.88961779\n",
            " 0.88899631 0.87059352 0.84980838 0.84847909 0.81762939 0.80956738\n",
            " 0.83689535 0.82893692 0.77876946 0.80176432 0.78726306 0.81864793\n",
            " 0.79380589 0.78032317 0.7687049  0.79185513 0.79962366 0.78864413\n",
            " 0.77742292 0.76875669 0.77053482 0.77020682 0.77609364 0.77616269\n",
            " 0.76858406 0.75334047 0.75506681 0.77647343 0.80164348 0.76450989\n",
            " 0.77602458 0.74646963 0.75560197 0.75919276 0.76604633 0.76996513\n",
            " 0.73749266 0.76963712 0.78144529 0.790733   0.7625246  0.73612885\n",
            " 0.75815696 0.76425094 0.76854953 0.77151883 0.79175155 0.77857957\n",
            " 0.73757898 0.74367857 0.75356436 0.76437026 0.77416831 0.78289533\n",
            " 0.79048723 0.7970348  0.80272615 0.80778539 0.81242639 0.81682575\n",
            " 0.82111096 0.82536077 0.82961255 0.83387202 0.83812499 0.84234643\n",
            " 0.84650743 0.85058033 0.85454178 0.85837358 0.86206317 0.86560267\n",
            " 0.86898828 0.8722192  0.87529671 0.87822348]\n",
            "27 day output [[0.8810029]]\n",
            "28 day input [0.82417222 0.8287125  0.81100024 0.78812623 0.81935573 0.83012809\n",
            " 0.8214446  0.79605013 0.78291268 0.75377205 0.73952974 0.72297414\n",
            " 0.7925284  0.82006353 0.83544522 0.83689535 0.84164279 0.84573421\n",
            " 0.85046439 0.85738701 0.85514277 0.86581155 0.88961779 0.88899631\n",
            " 0.87059352 0.84980838 0.84847909 0.81762939 0.80956738 0.83689535\n",
            " 0.82893692 0.77876946 0.80176432 0.78726306 0.81864793 0.79380589\n",
            " 0.78032317 0.7687049  0.79185513 0.79962366 0.78864413 0.77742292\n",
            " 0.76875669 0.77053482 0.77020682 0.77609364 0.77616269 0.76858406\n",
            " 0.75334047 0.75506681 0.77647343 0.80164348 0.76450989 0.77602458\n",
            " 0.74646963 0.75560197 0.75919276 0.76604633 0.76996513 0.73749266\n",
            " 0.76963712 0.78144529 0.790733   0.7625246  0.73612885 0.75815696\n",
            " 0.76425094 0.76854953 0.77151883 0.79175155 0.77857957 0.73757898\n",
            " 0.74367857 0.75356436 0.76437026 0.77416831 0.78289533 0.79048723\n",
            " 0.7970348  0.80272615 0.80778539 0.81242639 0.81682575 0.82111096\n",
            " 0.82536077 0.82961255 0.83387202 0.83812499 0.84234643 0.84650743\n",
            " 0.85058033 0.85454178 0.85837358 0.86206317 0.86560267 0.86898828\n",
            " 0.8722192  0.87529671 0.87822348 0.8810029 ]\n",
            "28 day output [[0.8836391]]\n",
            "29 day input [0.8287125  0.81100024 0.78812623 0.81935573 0.83012809 0.8214446\n",
            " 0.79605013 0.78291268 0.75377205 0.73952974 0.72297414 0.7925284\n",
            " 0.82006353 0.83544522 0.83689535 0.84164279 0.84573421 0.85046439\n",
            " 0.85738701 0.85514277 0.86581155 0.88961779 0.88899631 0.87059352\n",
            " 0.84980838 0.84847909 0.81762939 0.80956738 0.83689535 0.82893692\n",
            " 0.77876946 0.80176432 0.78726306 0.81864793 0.79380589 0.78032317\n",
            " 0.7687049  0.79185513 0.79962366 0.78864413 0.77742292 0.76875669\n",
            " 0.77053482 0.77020682 0.77609364 0.77616269 0.76858406 0.75334047\n",
            " 0.75506681 0.77647343 0.80164348 0.76450989 0.77602458 0.74646963\n",
            " 0.75560197 0.75919276 0.76604633 0.76996513 0.73749266 0.76963712\n",
            " 0.78144529 0.790733   0.7625246  0.73612885 0.75815696 0.76425094\n",
            " 0.76854953 0.77151883 0.79175155 0.77857957 0.73757898 0.74367857\n",
            " 0.75356436 0.76437026 0.77416831 0.78289533 0.79048723 0.7970348\n",
            " 0.80272615 0.80778539 0.81242639 0.81682575 0.82111096 0.82536077\n",
            " 0.82961255 0.83387202 0.83812499 0.84234643 0.84650743 0.85058033\n",
            " 0.85454178 0.85837358 0.86206317 0.86560267 0.86898828 0.8722192\n",
            " 0.87529671 0.87822348 0.8810029  0.8836391 ]\n",
            "29 day output [[0.886136]]\n",
            "30 day input [0.81100024 0.78812623 0.81935573 0.83012809 0.8214446  0.79605013\n",
            " 0.78291268 0.75377205 0.73952974 0.72297414 0.7925284  0.82006353\n",
            " 0.83544522 0.83689535 0.84164279 0.84573421 0.85046439 0.85738701\n",
            " 0.85514277 0.86581155 0.88961779 0.88899631 0.87059352 0.84980838\n",
            " 0.84847909 0.81762939 0.80956738 0.83689535 0.82893692 0.77876946\n",
            " 0.80176432 0.78726306 0.81864793 0.79380589 0.78032317 0.7687049\n",
            " 0.79185513 0.79962366 0.78864413 0.77742292 0.76875669 0.77053482\n",
            " 0.77020682 0.77609364 0.77616269 0.76858406 0.75334047 0.75506681\n",
            " 0.77647343 0.80164348 0.76450989 0.77602458 0.74646963 0.75560197\n",
            " 0.75919276 0.76604633 0.76996513 0.73749266 0.76963712 0.78144529\n",
            " 0.790733   0.7625246  0.73612885 0.75815696 0.76425094 0.76854953\n",
            " 0.77151883 0.79175155 0.77857957 0.73757898 0.74367857 0.75356436\n",
            " 0.76437026 0.77416831 0.78289533 0.79048723 0.7970348  0.80272615\n",
            " 0.80778539 0.81242639 0.81682575 0.82111096 0.82536077 0.82961255\n",
            " 0.83387202 0.83812499 0.84234643 0.84650743 0.85058033 0.85454178\n",
            " 0.85837358 0.86206317 0.86560267 0.86898828 0.8722192  0.87529671\n",
            " 0.87822348 0.8810029  0.8836391  0.886136  ]\n",
            "30 day output [[0.88849795]]\n",
            "31 day input [0.78812623 0.81935573 0.83012809 0.8214446  0.79605013 0.78291268\n",
            " 0.75377205 0.73952974 0.72297414 0.7925284  0.82006353 0.83544522\n",
            " 0.83689535 0.84164279 0.84573421 0.85046439 0.85738701 0.85514277\n",
            " 0.86581155 0.88961779 0.88899631 0.87059352 0.84980838 0.84847909\n",
            " 0.81762939 0.80956738 0.83689535 0.82893692 0.77876946 0.80176432\n",
            " 0.78726306 0.81864793 0.79380589 0.78032317 0.7687049  0.79185513\n",
            " 0.79962366 0.78864413 0.77742292 0.76875669 0.77053482 0.77020682\n",
            " 0.77609364 0.77616269 0.76858406 0.75334047 0.75506681 0.77647343\n",
            " 0.80164348 0.76450989 0.77602458 0.74646963 0.75560197 0.75919276\n",
            " 0.76604633 0.76996513 0.73749266 0.76963712 0.78144529 0.790733\n",
            " 0.7625246  0.73612885 0.75815696 0.76425094 0.76854953 0.77151883\n",
            " 0.79175155 0.77857957 0.73757898 0.74367857 0.75356436 0.76437026\n",
            " 0.77416831 0.78289533 0.79048723 0.7970348  0.80272615 0.80778539\n",
            " 0.81242639 0.81682575 0.82111096 0.82536077 0.82961255 0.83387202\n",
            " 0.83812499 0.84234643 0.84650743 0.85058033 0.85454178 0.85837358\n",
            " 0.86206317 0.86560267 0.86898828 0.8722192  0.87529671 0.87822348\n",
            " 0.8810029  0.8836391  0.886136   0.88849795]\n",
            "31 day output [[0.89072937]]\n",
            "32 day input [0.81935573 0.83012809 0.8214446  0.79605013 0.78291268 0.75377205\n",
            " 0.73952974 0.72297414 0.7925284  0.82006353 0.83544522 0.83689535\n",
            " 0.84164279 0.84573421 0.85046439 0.85738701 0.85514277 0.86581155\n",
            " 0.88961779 0.88899631 0.87059352 0.84980838 0.84847909 0.81762939\n",
            " 0.80956738 0.83689535 0.82893692 0.77876946 0.80176432 0.78726306\n",
            " 0.81864793 0.79380589 0.78032317 0.7687049  0.79185513 0.79962366\n",
            " 0.78864413 0.77742292 0.76875669 0.77053482 0.77020682 0.77609364\n",
            " 0.77616269 0.76858406 0.75334047 0.75506681 0.77647343 0.80164348\n",
            " 0.76450989 0.77602458 0.74646963 0.75560197 0.75919276 0.76604633\n",
            " 0.76996513 0.73749266 0.76963712 0.78144529 0.790733   0.7625246\n",
            " 0.73612885 0.75815696 0.76425094 0.76854953 0.77151883 0.79175155\n",
            " 0.77857957 0.73757898 0.74367857 0.75356436 0.76437026 0.77416831\n",
            " 0.78289533 0.79048723 0.7970348  0.80272615 0.80778539 0.81242639\n",
            " 0.81682575 0.82111096 0.82536077 0.82961255 0.83387202 0.83812499\n",
            " 0.84234643 0.84650743 0.85058033 0.85454178 0.85837358 0.86206317\n",
            " 0.86560267 0.86898828 0.8722192  0.87529671 0.87822348 0.8810029\n",
            " 0.8836391  0.886136   0.88849795 0.89072937]\n",
            "32 day output [[0.89283466]]\n",
            "33 day input [0.83012809 0.8214446  0.79605013 0.78291268 0.75377205 0.73952974\n",
            " 0.72297414 0.7925284  0.82006353 0.83544522 0.83689535 0.84164279\n",
            " 0.84573421 0.85046439 0.85738701 0.85514277 0.86581155 0.88961779\n",
            " 0.88899631 0.87059352 0.84980838 0.84847909 0.81762939 0.80956738\n",
            " 0.83689535 0.82893692 0.77876946 0.80176432 0.78726306 0.81864793\n",
            " 0.79380589 0.78032317 0.7687049  0.79185513 0.79962366 0.78864413\n",
            " 0.77742292 0.76875669 0.77053482 0.77020682 0.77609364 0.77616269\n",
            " 0.76858406 0.75334047 0.75506681 0.77647343 0.80164348 0.76450989\n",
            " 0.77602458 0.74646963 0.75560197 0.75919276 0.76604633 0.76996513\n",
            " 0.73749266 0.76963712 0.78144529 0.790733   0.7625246  0.73612885\n",
            " 0.75815696 0.76425094 0.76854953 0.77151883 0.79175155 0.77857957\n",
            " 0.73757898 0.74367857 0.75356436 0.76437026 0.77416831 0.78289533\n",
            " 0.79048723 0.7970348  0.80272615 0.80778539 0.81242639 0.81682575\n",
            " 0.82111096 0.82536077 0.82961255 0.83387202 0.83812499 0.84234643\n",
            " 0.84650743 0.85058033 0.85454178 0.85837358 0.86206317 0.86560267\n",
            " 0.86898828 0.8722192  0.87529671 0.87822348 0.8810029  0.8836391\n",
            " 0.886136   0.88849795 0.89072937 0.89283466]\n",
            "33 day output [[0.89481825]]\n",
            "34 day input [0.8214446  0.79605013 0.78291268 0.75377205 0.73952974 0.72297414\n",
            " 0.7925284  0.82006353 0.83544522 0.83689535 0.84164279 0.84573421\n",
            " 0.85046439 0.85738701 0.85514277 0.86581155 0.88961779 0.88899631\n",
            " 0.87059352 0.84980838 0.84847909 0.81762939 0.80956738 0.83689535\n",
            " 0.82893692 0.77876946 0.80176432 0.78726306 0.81864793 0.79380589\n",
            " 0.78032317 0.7687049  0.79185513 0.79962366 0.78864413 0.77742292\n",
            " 0.76875669 0.77053482 0.77020682 0.77609364 0.77616269 0.76858406\n",
            " 0.75334047 0.75506681 0.77647343 0.80164348 0.76450989 0.77602458\n",
            " 0.74646963 0.75560197 0.75919276 0.76604633 0.76996513 0.73749266\n",
            " 0.76963712 0.78144529 0.790733   0.7625246  0.73612885 0.75815696\n",
            " 0.76425094 0.76854953 0.77151883 0.79175155 0.77857957 0.73757898\n",
            " 0.74367857 0.75356436 0.76437026 0.77416831 0.78289533 0.79048723\n",
            " 0.7970348  0.80272615 0.80778539 0.81242639 0.81682575 0.82111096\n",
            " 0.82536077 0.82961255 0.83387202 0.83812499 0.84234643 0.84650743\n",
            " 0.85058033 0.85454178 0.85837358 0.86206317 0.86560267 0.86898828\n",
            " 0.8722192  0.87529671 0.87822348 0.8810029  0.8836391  0.886136\n",
            " 0.88849795 0.89072937 0.89283466 0.89481825]\n",
            "34 day output [[0.89668465]]\n",
            "35 day input [0.79605013 0.78291268 0.75377205 0.73952974 0.72297414 0.7925284\n",
            " 0.82006353 0.83544522 0.83689535 0.84164279 0.84573421 0.85046439\n",
            " 0.85738701 0.85514277 0.86581155 0.88961779 0.88899631 0.87059352\n",
            " 0.84980838 0.84847909 0.81762939 0.80956738 0.83689535 0.82893692\n",
            " 0.77876946 0.80176432 0.78726306 0.81864793 0.79380589 0.78032317\n",
            " 0.7687049  0.79185513 0.79962366 0.78864413 0.77742292 0.76875669\n",
            " 0.77053482 0.77020682 0.77609364 0.77616269 0.76858406 0.75334047\n",
            " 0.75506681 0.77647343 0.80164348 0.76450989 0.77602458 0.74646963\n",
            " 0.75560197 0.75919276 0.76604633 0.76996513 0.73749266 0.76963712\n",
            " 0.78144529 0.790733   0.7625246  0.73612885 0.75815696 0.76425094\n",
            " 0.76854953 0.77151883 0.79175155 0.77857957 0.73757898 0.74367857\n",
            " 0.75356436 0.76437026 0.77416831 0.78289533 0.79048723 0.7970348\n",
            " 0.80272615 0.80778539 0.81242639 0.81682575 0.82111096 0.82536077\n",
            " 0.82961255 0.83387202 0.83812499 0.84234643 0.84650743 0.85058033\n",
            " 0.85454178 0.85837358 0.86206317 0.86560267 0.86898828 0.8722192\n",
            " 0.87529671 0.87822348 0.8810029  0.8836391  0.886136   0.88849795\n",
            " 0.89072937 0.89283466 0.89481825 0.89668465]\n",
            "35 day output [[0.8984384]]\n",
            "36 day input [0.78291268 0.75377205 0.73952974 0.72297414 0.7925284  0.82006353\n",
            " 0.83544522 0.83689535 0.84164279 0.84573421 0.85046439 0.85738701\n",
            " 0.85514277 0.86581155 0.88961779 0.88899631 0.87059352 0.84980838\n",
            " 0.84847909 0.81762939 0.80956738 0.83689535 0.82893692 0.77876946\n",
            " 0.80176432 0.78726306 0.81864793 0.79380589 0.78032317 0.7687049\n",
            " 0.79185513 0.79962366 0.78864413 0.77742292 0.76875669 0.77053482\n",
            " 0.77020682 0.77609364 0.77616269 0.76858406 0.75334047 0.75506681\n",
            " 0.77647343 0.80164348 0.76450989 0.77602458 0.74646963 0.75560197\n",
            " 0.75919276 0.76604633 0.76996513 0.73749266 0.76963712 0.78144529\n",
            " 0.790733   0.7625246  0.73612885 0.75815696 0.76425094 0.76854953\n",
            " 0.77151883 0.79175155 0.77857957 0.73757898 0.74367857 0.75356436\n",
            " 0.76437026 0.77416831 0.78289533 0.79048723 0.7970348  0.80272615\n",
            " 0.80778539 0.81242639 0.81682575 0.82111096 0.82536077 0.82961255\n",
            " 0.83387202 0.83812499 0.84234643 0.84650743 0.85058033 0.85454178\n",
            " 0.85837358 0.86206317 0.86560267 0.86898828 0.8722192  0.87529671\n",
            " 0.87822348 0.8810029  0.8836391  0.886136   0.88849795 0.89072937\n",
            " 0.89283466 0.89481825 0.89668465 0.89843839]\n",
            "36 day output [[0.9000845]]\n",
            "37 day input [0.75377205 0.73952974 0.72297414 0.7925284  0.82006353 0.83544522\n",
            " 0.83689535 0.84164279 0.84573421 0.85046439 0.85738701 0.85514277\n",
            " 0.86581155 0.88961779 0.88899631 0.87059352 0.84980838 0.84847909\n",
            " 0.81762939 0.80956738 0.83689535 0.82893692 0.77876946 0.80176432\n",
            " 0.78726306 0.81864793 0.79380589 0.78032317 0.7687049  0.79185513\n",
            " 0.79962366 0.78864413 0.77742292 0.76875669 0.77053482 0.77020682\n",
            " 0.77609364 0.77616269 0.76858406 0.75334047 0.75506681 0.77647343\n",
            " 0.80164348 0.76450989 0.77602458 0.74646963 0.75560197 0.75919276\n",
            " 0.76604633 0.76996513 0.73749266 0.76963712 0.78144529 0.790733\n",
            " 0.7625246  0.73612885 0.75815696 0.76425094 0.76854953 0.77151883\n",
            " 0.79175155 0.77857957 0.73757898 0.74367857 0.75356436 0.76437026\n",
            " 0.77416831 0.78289533 0.79048723 0.7970348  0.80272615 0.80778539\n",
            " 0.81242639 0.81682575 0.82111096 0.82536077 0.82961255 0.83387202\n",
            " 0.83812499 0.84234643 0.84650743 0.85058033 0.85454178 0.85837358\n",
            " 0.86206317 0.86560267 0.86898828 0.8722192  0.87529671 0.87822348\n",
            " 0.8810029  0.8836391  0.886136   0.88849795 0.89072937 0.89283466\n",
            " 0.89481825 0.89668465 0.89843839 0.9000845 ]\n",
            "37 day output [[0.9016272]]\n",
            "38 day input [0.73952974 0.72297414 0.7925284  0.82006353 0.83544522 0.83689535\n",
            " 0.84164279 0.84573421 0.85046439 0.85738701 0.85514277 0.86581155\n",
            " 0.88961779 0.88899631 0.87059352 0.84980838 0.84847909 0.81762939\n",
            " 0.80956738 0.83689535 0.82893692 0.77876946 0.80176432 0.78726306\n",
            " 0.81864793 0.79380589 0.78032317 0.7687049  0.79185513 0.79962366\n",
            " 0.78864413 0.77742292 0.76875669 0.77053482 0.77020682 0.77609364\n",
            " 0.77616269 0.76858406 0.75334047 0.75506681 0.77647343 0.80164348\n",
            " 0.76450989 0.77602458 0.74646963 0.75560197 0.75919276 0.76604633\n",
            " 0.76996513 0.73749266 0.76963712 0.78144529 0.790733   0.7625246\n",
            " 0.73612885 0.75815696 0.76425094 0.76854953 0.77151883 0.79175155\n",
            " 0.77857957 0.73757898 0.74367857 0.75356436 0.76437026 0.77416831\n",
            " 0.78289533 0.79048723 0.7970348  0.80272615 0.80778539 0.81242639\n",
            " 0.81682575 0.82111096 0.82536077 0.82961255 0.83387202 0.83812499\n",
            " 0.84234643 0.84650743 0.85058033 0.85454178 0.85837358 0.86206317\n",
            " 0.86560267 0.86898828 0.8722192  0.87529671 0.87822348 0.8810029\n",
            " 0.8836391  0.886136   0.88849795 0.89072937 0.89283466 0.89481825\n",
            " 0.89668465 0.89843839 0.9000845  0.90162718]\n",
            "38 day output [[0.90307134]]\n",
            "39 day input [0.72297414 0.7925284  0.82006353 0.83544522 0.83689535 0.84164279\n",
            " 0.84573421 0.85046439 0.85738701 0.85514277 0.86581155 0.88961779\n",
            " 0.88899631 0.87059352 0.84980838 0.84847909 0.81762939 0.80956738\n",
            " 0.83689535 0.82893692 0.77876946 0.80176432 0.78726306 0.81864793\n",
            " 0.79380589 0.78032317 0.7687049  0.79185513 0.79962366 0.78864413\n",
            " 0.77742292 0.76875669 0.77053482 0.77020682 0.77609364 0.77616269\n",
            " 0.76858406 0.75334047 0.75506681 0.77647343 0.80164348 0.76450989\n",
            " 0.77602458 0.74646963 0.75560197 0.75919276 0.76604633 0.76996513\n",
            " 0.73749266 0.76963712 0.78144529 0.790733   0.7625246  0.73612885\n",
            " 0.75815696 0.76425094 0.76854953 0.77151883 0.79175155 0.77857957\n",
            " 0.73757898 0.74367857 0.75356436 0.76437026 0.77416831 0.78289533\n",
            " 0.79048723 0.7970348  0.80272615 0.80778539 0.81242639 0.81682575\n",
            " 0.82111096 0.82536077 0.82961255 0.83387202 0.83812499 0.84234643\n",
            " 0.84650743 0.85058033 0.85454178 0.85837358 0.86206317 0.86560267\n",
            " 0.86898828 0.8722192  0.87529671 0.87822348 0.8810029  0.8836391\n",
            " 0.886136   0.88849795 0.89072937 0.89283466 0.89481825 0.89668465\n",
            " 0.89843839 0.9000845  0.90162718 0.90307134]\n",
            "39 day output [[0.9044215]]\n",
            "40 day input [0.7925284  0.82006353 0.83544522 0.83689535 0.84164279 0.84573421\n",
            " 0.85046439 0.85738701 0.85514277 0.86581155 0.88961779 0.88899631\n",
            " 0.87059352 0.84980838 0.84847909 0.81762939 0.80956738 0.83689535\n",
            " 0.82893692 0.77876946 0.80176432 0.78726306 0.81864793 0.79380589\n",
            " 0.78032317 0.7687049  0.79185513 0.79962366 0.78864413 0.77742292\n",
            " 0.76875669 0.77053482 0.77020682 0.77609364 0.77616269 0.76858406\n",
            " 0.75334047 0.75506681 0.77647343 0.80164348 0.76450989 0.77602458\n",
            " 0.74646963 0.75560197 0.75919276 0.76604633 0.76996513 0.73749266\n",
            " 0.76963712 0.78144529 0.790733   0.7625246  0.73612885 0.75815696\n",
            " 0.76425094 0.76854953 0.77151883 0.79175155 0.77857957 0.73757898\n",
            " 0.74367857 0.75356436 0.76437026 0.77416831 0.78289533 0.79048723\n",
            " 0.7970348  0.80272615 0.80778539 0.81242639 0.81682575 0.82111096\n",
            " 0.82536077 0.82961255 0.83387202 0.83812499 0.84234643 0.84650743\n",
            " 0.85058033 0.85454178 0.85837358 0.86206317 0.86560267 0.86898828\n",
            " 0.8722192  0.87529671 0.87822348 0.8810029  0.8836391  0.886136\n",
            " 0.88849795 0.89072937 0.89283466 0.89481825 0.89668465 0.89843839\n",
            " 0.9000845  0.90162718 0.90307134 0.90442151]\n",
            "40 day output [[0.9056824]]\n",
            "41 day input [0.82006353 0.83544522 0.83689535 0.84164279 0.84573421 0.85046439\n",
            " 0.85738701 0.85514277 0.86581155 0.88961779 0.88899631 0.87059352\n",
            " 0.84980838 0.84847909 0.81762939 0.80956738 0.83689535 0.82893692\n",
            " 0.77876946 0.80176432 0.78726306 0.81864793 0.79380589 0.78032317\n",
            " 0.7687049  0.79185513 0.79962366 0.78864413 0.77742292 0.76875669\n",
            " 0.77053482 0.77020682 0.77609364 0.77616269 0.76858406 0.75334047\n",
            " 0.75506681 0.77647343 0.80164348 0.76450989 0.77602458 0.74646963\n",
            " 0.75560197 0.75919276 0.76604633 0.76996513 0.73749266 0.76963712\n",
            " 0.78144529 0.790733   0.7625246  0.73612885 0.75815696 0.76425094\n",
            " 0.76854953 0.77151883 0.79175155 0.77857957 0.73757898 0.74367857\n",
            " 0.75356436 0.76437026 0.77416831 0.78289533 0.79048723 0.7970348\n",
            " 0.80272615 0.80778539 0.81242639 0.81682575 0.82111096 0.82536077\n",
            " 0.82961255 0.83387202 0.83812499 0.84234643 0.84650743 0.85058033\n",
            " 0.85454178 0.85837358 0.86206317 0.86560267 0.86898828 0.8722192\n",
            " 0.87529671 0.87822348 0.8810029  0.8836391  0.886136   0.88849795\n",
            " 0.89072937 0.89283466 0.89481825 0.89668465 0.89843839 0.9000845\n",
            " 0.90162718 0.90307134 0.90442151 0.90568238]\n",
            "41 day output [[0.9068587]]\n",
            "42 day input [0.83544522 0.83689535 0.84164279 0.84573421 0.85046439 0.85738701\n",
            " 0.85514277 0.86581155 0.88961779 0.88899631 0.87059352 0.84980838\n",
            " 0.84847909 0.81762939 0.80956738 0.83689535 0.82893692 0.77876946\n",
            " 0.80176432 0.78726306 0.81864793 0.79380589 0.78032317 0.7687049\n",
            " 0.79185513 0.79962366 0.78864413 0.77742292 0.76875669 0.77053482\n",
            " 0.77020682 0.77609364 0.77616269 0.76858406 0.75334047 0.75506681\n",
            " 0.77647343 0.80164348 0.76450989 0.77602458 0.74646963 0.75560197\n",
            " 0.75919276 0.76604633 0.76996513 0.73749266 0.76963712 0.78144529\n",
            " 0.790733   0.7625246  0.73612885 0.75815696 0.76425094 0.76854953\n",
            " 0.77151883 0.79175155 0.77857957 0.73757898 0.74367857 0.75356436\n",
            " 0.76437026 0.77416831 0.78289533 0.79048723 0.7970348  0.80272615\n",
            " 0.80778539 0.81242639 0.81682575 0.82111096 0.82536077 0.82961255\n",
            " 0.83387202 0.83812499 0.84234643 0.84650743 0.85058033 0.85454178\n",
            " 0.85837358 0.86206317 0.86560267 0.86898828 0.8722192  0.87529671\n",
            " 0.87822348 0.8810029  0.8836391  0.886136   0.88849795 0.89072937\n",
            " 0.89283466 0.89481825 0.89668465 0.89843839 0.9000845  0.90162718\n",
            " 0.90307134 0.90442151 0.90568238 0.90685868]\n",
            "42 day output [[0.90795493]]\n",
            "43 day input [0.83689535 0.84164279 0.84573421 0.85046439 0.85738701 0.85514277\n",
            " 0.86581155 0.88961779 0.88899631 0.87059352 0.84980838 0.84847909\n",
            " 0.81762939 0.80956738 0.83689535 0.82893692 0.77876946 0.80176432\n",
            " 0.78726306 0.81864793 0.79380589 0.78032317 0.7687049  0.79185513\n",
            " 0.79962366 0.78864413 0.77742292 0.76875669 0.77053482 0.77020682\n",
            " 0.77609364 0.77616269 0.76858406 0.75334047 0.75506681 0.77647343\n",
            " 0.80164348 0.76450989 0.77602458 0.74646963 0.75560197 0.75919276\n",
            " 0.76604633 0.76996513 0.73749266 0.76963712 0.78144529 0.790733\n",
            " 0.7625246  0.73612885 0.75815696 0.76425094 0.76854953 0.77151883\n",
            " 0.79175155 0.77857957 0.73757898 0.74367857 0.75356436 0.76437026\n",
            " 0.77416831 0.78289533 0.79048723 0.7970348  0.80272615 0.80778539\n",
            " 0.81242639 0.81682575 0.82111096 0.82536077 0.82961255 0.83387202\n",
            " 0.83812499 0.84234643 0.84650743 0.85058033 0.85454178 0.85837358\n",
            " 0.86206317 0.86560267 0.86898828 0.8722192  0.87529671 0.87822348\n",
            " 0.8810029  0.8836391  0.886136   0.88849795 0.89072937 0.89283466\n",
            " 0.89481825 0.89668465 0.89843839 0.9000845  0.90162718 0.90307134\n",
            " 0.90442151 0.90568238 0.90685868 0.90795493]\n",
            "43 day output [[0.90897536]]\n",
            "44 day input [0.84164279 0.84573421 0.85046439 0.85738701 0.85514277 0.86581155\n",
            " 0.88961779 0.88899631 0.87059352 0.84980838 0.84847909 0.81762939\n",
            " 0.80956738 0.83689535 0.82893692 0.77876946 0.80176432 0.78726306\n",
            " 0.81864793 0.79380589 0.78032317 0.7687049  0.79185513 0.79962366\n",
            " 0.78864413 0.77742292 0.76875669 0.77053482 0.77020682 0.77609364\n",
            " 0.77616269 0.76858406 0.75334047 0.75506681 0.77647343 0.80164348\n",
            " 0.76450989 0.77602458 0.74646963 0.75560197 0.75919276 0.76604633\n",
            " 0.76996513 0.73749266 0.76963712 0.78144529 0.790733   0.7625246\n",
            " 0.73612885 0.75815696 0.76425094 0.76854953 0.77151883 0.79175155\n",
            " 0.77857957 0.73757898 0.74367857 0.75356436 0.76437026 0.77416831\n",
            " 0.78289533 0.79048723 0.7970348  0.80272615 0.80778539 0.81242639\n",
            " 0.81682575 0.82111096 0.82536077 0.82961255 0.83387202 0.83812499\n",
            " 0.84234643 0.84650743 0.85058033 0.85454178 0.85837358 0.86206317\n",
            " 0.86560267 0.86898828 0.8722192  0.87529671 0.87822348 0.8810029\n",
            " 0.8836391  0.886136   0.88849795 0.89072937 0.89283466 0.89481825\n",
            " 0.89668465 0.89843839 0.9000845  0.90162718 0.90307134 0.90442151\n",
            " 0.90568238 0.90685868 0.90795493 0.90897536]\n",
            "44 day output [[0.90992445]]\n",
            "45 day input [0.84573421 0.85046439 0.85738701 0.85514277 0.86581155 0.88961779\n",
            " 0.88899631 0.87059352 0.84980838 0.84847909 0.81762939 0.80956738\n",
            " 0.83689535 0.82893692 0.77876946 0.80176432 0.78726306 0.81864793\n",
            " 0.79380589 0.78032317 0.7687049  0.79185513 0.79962366 0.78864413\n",
            " 0.77742292 0.76875669 0.77053482 0.77020682 0.77609364 0.77616269\n",
            " 0.76858406 0.75334047 0.75506681 0.77647343 0.80164348 0.76450989\n",
            " 0.77602458 0.74646963 0.75560197 0.75919276 0.76604633 0.76996513\n",
            " 0.73749266 0.76963712 0.78144529 0.790733   0.7625246  0.73612885\n",
            " 0.75815696 0.76425094 0.76854953 0.77151883 0.79175155 0.77857957\n",
            " 0.73757898 0.74367857 0.75356436 0.76437026 0.77416831 0.78289533\n",
            " 0.79048723 0.7970348  0.80272615 0.80778539 0.81242639 0.81682575\n",
            " 0.82111096 0.82536077 0.82961255 0.83387202 0.83812499 0.84234643\n",
            " 0.84650743 0.85058033 0.85454178 0.85837358 0.86206317 0.86560267\n",
            " 0.86898828 0.8722192  0.87529671 0.87822348 0.8810029  0.8836391\n",
            " 0.886136   0.88849795 0.89072937 0.89283466 0.89481825 0.89668465\n",
            " 0.89843839 0.9000845  0.90162718 0.90307134 0.90442151 0.90568238\n",
            " 0.90685868 0.90795493 0.90897536 0.90992445]\n",
            "45 day output [[0.9108063]]\n",
            "46 day input [0.85046439 0.85738701 0.85514277 0.86581155 0.88961779 0.88899631\n",
            " 0.87059352 0.84980838 0.84847909 0.81762939 0.80956738 0.83689535\n",
            " 0.82893692 0.77876946 0.80176432 0.78726306 0.81864793 0.79380589\n",
            " 0.78032317 0.7687049  0.79185513 0.79962366 0.78864413 0.77742292\n",
            " 0.76875669 0.77053482 0.77020682 0.77609364 0.77616269 0.76858406\n",
            " 0.75334047 0.75506681 0.77647343 0.80164348 0.76450989 0.77602458\n",
            " 0.74646963 0.75560197 0.75919276 0.76604633 0.76996513 0.73749266\n",
            " 0.76963712 0.78144529 0.790733   0.7625246  0.73612885 0.75815696\n",
            " 0.76425094 0.76854953 0.77151883 0.79175155 0.77857957 0.73757898\n",
            " 0.74367857 0.75356436 0.76437026 0.77416831 0.78289533 0.79048723\n",
            " 0.7970348  0.80272615 0.80778539 0.81242639 0.81682575 0.82111096\n",
            " 0.82536077 0.82961255 0.83387202 0.83812499 0.84234643 0.84650743\n",
            " 0.85058033 0.85454178 0.85837358 0.86206317 0.86560267 0.86898828\n",
            " 0.8722192  0.87529671 0.87822348 0.8810029  0.8836391  0.886136\n",
            " 0.88849795 0.89072937 0.89283466 0.89481825 0.89668465 0.89843839\n",
            " 0.9000845  0.90162718 0.90307134 0.90442151 0.90568238 0.90685868\n",
            " 0.90795493 0.90897536 0.90992445 0.9108063 ]\n",
            "46 day output [[0.91162485]]\n",
            "47 day input [0.85738701 0.85514277 0.86581155 0.88961779 0.88899631 0.87059352\n",
            " 0.84980838 0.84847909 0.81762939 0.80956738 0.83689535 0.82893692\n",
            " 0.77876946 0.80176432 0.78726306 0.81864793 0.79380589 0.78032317\n",
            " 0.7687049  0.79185513 0.79962366 0.78864413 0.77742292 0.76875669\n",
            " 0.77053482 0.77020682 0.77609364 0.77616269 0.76858406 0.75334047\n",
            " 0.75506681 0.77647343 0.80164348 0.76450989 0.77602458 0.74646963\n",
            " 0.75560197 0.75919276 0.76604633 0.76996513 0.73749266 0.76963712\n",
            " 0.78144529 0.790733   0.7625246  0.73612885 0.75815696 0.76425094\n",
            " 0.76854953 0.77151883 0.79175155 0.77857957 0.73757898 0.74367857\n",
            " 0.75356436 0.76437026 0.77416831 0.78289533 0.79048723 0.7970348\n",
            " 0.80272615 0.80778539 0.81242639 0.81682575 0.82111096 0.82536077\n",
            " 0.82961255 0.83387202 0.83812499 0.84234643 0.84650743 0.85058033\n",
            " 0.85454178 0.85837358 0.86206317 0.86560267 0.86898828 0.8722192\n",
            " 0.87529671 0.87822348 0.8810029  0.8836391  0.886136   0.88849795\n",
            " 0.89072937 0.89283466 0.89481825 0.89668465 0.89843839 0.9000845\n",
            " 0.90162718 0.90307134 0.90442151 0.90568238 0.90685868 0.90795493\n",
            " 0.90897536 0.90992445 0.9108063  0.91162485]\n",
            "47 day output [[0.91238403]]\n",
            "48 day input [0.85514277 0.86581155 0.88961779 0.88899631 0.87059352 0.84980838\n",
            " 0.84847909 0.81762939 0.80956738 0.83689535 0.82893692 0.77876946\n",
            " 0.80176432 0.78726306 0.81864793 0.79380589 0.78032317 0.7687049\n",
            " 0.79185513 0.79962366 0.78864413 0.77742292 0.76875669 0.77053482\n",
            " 0.77020682 0.77609364 0.77616269 0.76858406 0.75334047 0.75506681\n",
            " 0.77647343 0.80164348 0.76450989 0.77602458 0.74646963 0.75560197\n",
            " 0.75919276 0.76604633 0.76996513 0.73749266 0.76963712 0.78144529\n",
            " 0.790733   0.7625246  0.73612885 0.75815696 0.76425094 0.76854953\n",
            " 0.77151883 0.79175155 0.77857957 0.73757898 0.74367857 0.75356436\n",
            " 0.76437026 0.77416831 0.78289533 0.79048723 0.7970348  0.80272615\n",
            " 0.80778539 0.81242639 0.81682575 0.82111096 0.82536077 0.82961255\n",
            " 0.83387202 0.83812499 0.84234643 0.84650743 0.85058033 0.85454178\n",
            " 0.85837358 0.86206317 0.86560267 0.86898828 0.8722192  0.87529671\n",
            " 0.87822348 0.8810029  0.8836391  0.886136   0.88849795 0.89072937\n",
            " 0.89283466 0.89481825 0.89668465 0.89843839 0.9000845  0.90162718\n",
            " 0.90307134 0.90442151 0.90568238 0.90685868 0.90795493 0.90897536\n",
            " 0.90992445 0.9108063  0.91162485 0.91238403]\n",
            "48 day output [[0.9130875]]\n",
            "49 day input [0.86581155 0.88961779 0.88899631 0.87059352 0.84980838 0.84847909\n",
            " 0.81762939 0.80956738 0.83689535 0.82893692 0.77876946 0.80176432\n",
            " 0.78726306 0.81864793 0.79380589 0.78032317 0.7687049  0.79185513\n",
            " 0.79962366 0.78864413 0.77742292 0.76875669 0.77053482 0.77020682\n",
            " 0.77609364 0.77616269 0.76858406 0.75334047 0.75506681 0.77647343\n",
            " 0.80164348 0.76450989 0.77602458 0.74646963 0.75560197 0.75919276\n",
            " 0.76604633 0.76996513 0.73749266 0.76963712 0.78144529 0.790733\n",
            " 0.7625246  0.73612885 0.75815696 0.76425094 0.76854953 0.77151883\n",
            " 0.79175155 0.77857957 0.73757898 0.74367857 0.75356436 0.76437026\n",
            " 0.77416831 0.78289533 0.79048723 0.7970348  0.80272615 0.80778539\n",
            " 0.81242639 0.81682575 0.82111096 0.82536077 0.82961255 0.83387202\n",
            " 0.83812499 0.84234643 0.84650743 0.85058033 0.85454178 0.85837358\n",
            " 0.86206317 0.86560267 0.86898828 0.8722192  0.87529671 0.87822348\n",
            " 0.8810029  0.8836391  0.886136   0.88849795 0.89072937 0.89283466\n",
            " 0.89481825 0.89668465 0.89843839 0.9000845  0.90162718 0.90307134\n",
            " 0.90442151 0.90568238 0.90685868 0.90795493 0.90897536 0.90992445\n",
            " 0.9108063  0.91162485 0.91238403 0.91308749]\n",
            "49 day output [[0.9137387]]\n",
            "[[0.7436785697937012], [0.7535643577575684], [0.7643702626228333], [0.7741683125495911], [0.7828953266143799], [0.7904872298240662], [0.7970348000526428], [0.802726149559021], [0.8077853918075562], [0.8124263882637024], [0.8168257474899292], [0.8211109638214111], [0.8253607749938965], [0.8296125531196594], [0.8338720202445984], [0.8381249904632568], [0.8423464298248291], [0.8465074300765991], [0.8505803346633911], [0.8545417785644531], [0.8583735823631287], [0.8620631694793701], [0.8656026721000671], [0.8689882755279541], [0.8722192049026489], [0.8752967119216919], [0.8782234787940979], [0.8810029029846191], [0.8836390972137451], [0.886135995388031], [0.8884979486465454], [0.8907293677330017], [0.8928346633911133], [0.8948182463645935], [0.8966846466064453], [0.8984383940696716], [0.9000844955444336], [0.9016271829605103], [0.9030713438987732], [0.9044215083122253], [0.905682384967804], [0.9068586826324463], [0.9079549312591553], [0.90897536277771], [0.9099244475364685], [0.9108062982559204], [0.9116248488426208], [0.912384033203125], [0.9130874872207642], [0.9137387275695801]]\n"
          ]
        }
      ]
    },
    {
      "cell_type": "code",
      "source": [
        "day_new = np.arange(1,101)\n",
        "day_pred = np.arange(101,151)"
      ],
      "metadata": {
        "id": "Oy0gNjTy4umc"
      },
      "execution_count": 54,
      "outputs": []
    },
    {
      "cell_type": "code",
      "source": [
        "len(df1)"
      ],
      "metadata": {
        "colab": {
          "base_uri": "https://localhost:8080/"
        },
        "id": "vVpSmyY65WiE",
        "outputId": "79717b64-63a7-4d8b-b27a-0f3f7ef97301"
      },
      "execution_count": 55,
      "outputs": [
        {
          "output_type": "execute_result",
          "data": {
            "text/plain": [
              "5306"
            ]
          },
          "metadata": {},
          "execution_count": 55
        }
      ]
    },
    {
      "cell_type": "code",
      "source": [
        "# Plotting the prediction for next 50 days\n",
        "plt.plot(day_new, scaler.inverse_transform(df1[5206:]))\n",
        "plt.plot(day_pred, scaler.inverse_transform(lst_output))\n"
      ],
      "metadata": {
        "colab": {
          "base_uri": "https://localhost:8080/",
          "height": 283
        },
        "id": "yXxgtU3z6NN1",
        "outputId": "1e62a8aa-e70e-431f-d44d-7fd72d94eb41"
      },
      "execution_count": 56,
      "outputs": [
        {
          "output_type": "execute_result",
          "data": {
            "text/plain": [
              "[<matplotlib.lines.Line2D at 0x7fb080fce970>]"
            ]
          },
          "metadata": {},
          "execution_count": 56
        },
        {
          "output_type": "display_data",
          "data": {
            "text/plain": [
              "<Figure size 432x288 with 1 Axes>"
            ],
            "image/png": "[encoded data removed]"
          },
          "metadata": {
            "needs_background": "light"
          }
        }
      ]
    },
    {
      "cell_type": "code",
      "source": [
        "df3 = df1.tolist()\n",
        "df3.extend(lst_output)\n",
        "plt.plot(scaler.inverse_transform(df3[5000:]))"
      ],
      "metadata": {
        "colab": {
          "base_uri": "https://localhost:8080/",
          "height": 287
        },
        "id": "xNM59QtF6c0d",
        "outputId": "9409c612-aa60-4745-a2ca-9752d248b4fe"
      },
      "execution_count": 57,
      "outputs": [
        {
          "output_type": "execute_result",
          "data": {
            "text/plain": [
              "[<matplotlib.lines.Line2D at 0x7fb0880d3fa0>]"
            ]
          },
          "metadata": {},
          "execution_count": 57
        },
        {
          "output_type": "display_data",
          "data": {
            "text/plain": [
              "<Figure size 432x288 with 1 Axes>"
            ],
            "image/png": "[encoded data removed]"
          },
          "metadata": {
            "needs_background": "light"
          }
        }
      ]
    },
    {
      "cell_type": "code",
      "source": [],
      "metadata": {
        "id": "Kzk8sRWMS-_v"
      },
      "execution_count": null,
      "outputs": []
    }
  ]
}
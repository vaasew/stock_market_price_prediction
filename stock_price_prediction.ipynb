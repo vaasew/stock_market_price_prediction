{
  "nbformat": 4,
  "nbformat_minor": 0,
  "metadata": {
    "colab": {
      "provenance": []
    },
    "kernelspec": {
      "name": "python3",
      "display_name": "Python 3"
    },
    "language_info": {
      "name": "python"
    },
    "accelerator": "GPU",
    "gpuClass": "standard"
  },
  "cells": [
    {
      "cell_type": "code",
      "execution_count": 5,
      "metadata": {
        "id": "IQjAjuBZdjRF",
        "colab": {
          "base_uri": "https://localhost:8080/"
        },
        "outputId": "0e464c37-1b3c-4ab6-bbde-96cc611b79c8"
      },
      "outputs": [
        {
          "output_type": "stream",
          "name": "stdout",
          "text": [
            "Mounted at /content/gdrive\n"
          ]
        }
      ],
      "source": [
        "from google.colab import drive\n",
        "drive.mount(\"/content/gdrive\")"
      ]
    },
    {
      "cell_type": "code",
      "source": [
        "#importing HDFC stock price dataset till 2021 April\n",
        "import pandas as pd\n",
        "dataset=pd.read_csv('/content/gdrive/My Drive/datasets/HDFC.csv')"
      ],
      "metadata": {
        "id": "DdRbiYSaV6lR"
      },
      "execution_count": 6,
      "outputs": []
    },
    {
      "cell_type": "code",
      "source": [
        "# Dataset of HDFC closing prices only\n",
        "df=dataset.iloc[:,[8]]"
      ],
      "metadata": {
        "id": "T6G80B8zXXlw"
      },
      "execution_count": 7,
      "outputs": []
    },
    {
      "cell_type": "code",
      "source": [
        "# Checking for null values in dataset\n",
        "df.head()\n",
        "df[\"Close\"].isna().sum()"
      ],
      "metadata": {
        "colab": {
          "base_uri": "https://localhost:8080/"
        },
        "id": "Hey6lUKBZBR-",
        "outputId": "7f8194fb-0a13-4a9d-9df1-3eb98cc74927"
      },
      "execution_count": 8,
      "outputs": [
        {
          "output_type": "execute_result",
          "data": {
            "text/plain": [
              "0"
            ]
          },
          "metadata": {},
          "execution_count": 8
        }
      ]
    },
    {
      "cell_type": "code",
      "source": [
        "import matplotlib.pyplot as plt\n",
        "plt.plot(df)"
      ],
      "metadata": {
        "colab": {
          "base_uri": "https://localhost:8080/",
          "height": 283
        },
        "id": "qA8iQFa3wcFi",
        "outputId": "fe3d50d3-1259-434d-9495-984b008ec63d"
      },
      "execution_count": 9,
      "outputs": [
        {
          "output_type": "execute_result",
          "data": {
            "text/plain": [
              "[<matplotlib.lines.Line2D at 0x7fa069e1f430>]"
            ]
          },
          "metadata": {},
          "execution_count": 9
        },
        {
          "output_type": "display_data",
          "data": {
            "text/plain": [
              "<Figure size 432x288 with 1 Axes>"
            ],
            "image/png": "[encoded data removed]"
          },
          "metadata": {
            "needs_background": "light"
          }
        }
      ]
    },
    {
      "cell_type": "code",
      "source": [
        "import numpy as np"
      ],
      "metadata": {
        "id": "sNWQ8A4WxDYn"
      },
      "execution_count": 10,
      "outputs": []
    },
    {
      "cell_type": "code",
      "source": [
        "# Scaling the data\n",
        "from sklearn.preprocessing import MinMaxScaler\n",
        "scaler=MinMaxScaler(feature_range=(0,1))\n",
        "df1=scaler.fit_transform(np.array(df).reshape(-1,1))"
      ],
      "metadata": {
        "id": "Jtd_bfX5xWN4"
      },
      "execution_count": 11,
      "outputs": []
    },
    {
      "cell_type": "code",
      "source": [
        "# Splitting the dataframe\n",
        "training_size=int(len(df1)*0.65)\n",
        "test_size=int(len(df1)*0.35)\n",
        "train_data,test_data=df1[0:training_size],df1[training_size:len(df1)]"
      ],
      "metadata": {
        "id": "WCJbQ5Usx0jM"
      },
      "execution_count": 12,
      "outputs": []
    },
    {
      "cell_type": "code",
      "source": [
        "# Creating sequential data for LSTM with time_step=100\n",
        "def create_dataset(dataset,time_step=1):\n",
        "  dataX,dataY=[],[]\n",
        "  for i in range(len(dataset)-time_step-1):\n",
        "    a=dataset[i:(i+time_step),0]\n",
        "    dataX.append(a)\n",
        "    dataY.append(dataset[i+time_step,0])\n",
        "  return np.array(dataX),np.array(dataY)"
      ],
      "metadata": {
        "id": "p-ztVM5iyB1b"
      },
      "execution_count": 13,
      "outputs": []
    },
    {
      "cell_type": "code",
      "source": [
        "time_step=100\n",
        "X_train,y_train=create_dataset(train_data,time_step)\n",
        "X_test,y_test=create_dataset(test_data,time_step)"
      ],
      "metadata": {
        "id": "YQ9nu53B3GXF"
      },
      "execution_count": 14,
      "outputs": []
    },
    {
      "cell_type": "code",
      "source": [
        "print(X_train.shape)"
      ],
      "metadata": {
        "colab": {
          "base_uri": "https://localhost:8080/"
        },
        "id": "TXocuPoQ3-uC",
        "outputId": "4f9cdeed-a1e7-4fc4-9483-0cd843e99e6a"
      },
      "execution_count": 15,
      "outputs": [
        {
          "output_type": "stream",
          "name": "stdout",
          "text": [
            "(3347, 100)\n"
          ]
        }
      ]
    },
    {
      "cell_type": "code",
      "source": [
        "X_train=X_train.reshape(X_train.shape[0],X_train.shape[1],1)\n",
        "X_test=X_test.reshape(X_test.shape[0],X_test.shape[1],1)"
      ],
      "metadata": {
        "id": "IEG-wXDw5Egh"
      },
      "execution_count": 16,
      "outputs": []
    },
    {
      "cell_type": "code",
      "source": [
        "from tensorflow.keras.models import Sequential\n",
        "from tensorflow.keras.layers import Dense\n",
        "from tensorflow.keras.layers import LSTM\n",
        "from tensorflow.keras.layers import Dropout"
      ],
      "metadata": {
        "id": "9tebw_dW6jb8"
      },
      "execution_count": 36,
      "outputs": []
    },
    {
      "cell_type": "code",
      "source": [
        "# Stacked LSTM model\n",
        "model=Sequential()\n",
        "model.add(LSTM(50,return_sequences=True,input_shape=(100,1)))\n",
        "model.add(Dropout(0.2))\n",
        "model.add(LSTM(50,return_sequences=True))\n",
        "model.add(LSTM(50))\n",
        "model.add(Dense(25,activation=\"relu\"))\n",
        "model.add(Dense(1))\n",
        "model.compile(loss=\"mean_squared_error\",optimizer=\"adam\")\n"
      ],
      "metadata": {
        "id": "A8PRSQ5j6_nM"
      },
      "execution_count": 82,
      "outputs": []
    },
    {
      "cell_type": "code",
      "source": [
        "model.summary()"
      ],
      "metadata": {
        "colab": {
          "base_uri": "https://localhost:8080/"
        },
        "id": "ha_Mp0OI7rDS",
        "outputId": "4d8a5920-2c08-47b6-8dc0-e5f333e29510"
      },
      "execution_count": 83,
      "outputs": [
        {
          "output_type": "stream",
          "name": "stdout",
          "text": [
            "Model: \"sequential_9\"\n",
            "_________________________________________________________________\n",
            " Layer (type)                Output Shape              Param #   \n",
            "=================================================================\n",
            " lstm_29 (LSTM)              (None, 100, 50)           10400     \n",
            "                                                                 \n",
            " dropout_11 (Dropout)        (None, 100, 50)           0         \n",
            "                                                                 \n",
            " lstm_30 (LSTM)              (None, 100, 50)           20200     \n",
            "                                                                 \n",
            " lstm_31 (LSTM)              (None, 50)                20200     \n",
            "                                                                 \n",
            " dense_12 (Dense)            (None, 25)                1275      \n",
            "                                                                 \n",
            " dense_13 (Dense)            (None, 1)                 26        \n",
            "                                                                 \n",
            "=================================================================\n",
            "Total params: 52,101\n",
            "Trainable params: 52,101\n",
            "Non-trainable params: 0\n",
            "_________________________________________________________________\n"
          ]
        }
      ]
    },
    {
      "cell_type": "code",
      "source": [
        "model.fit(X_train, y_train, validation_data = (X_test, y_test), epochs = 100, batch_size = 60, verbose = 1)"
      ],
      "metadata": {
        "colab": {
          "base_uri": "https://localhost:8080/"
        },
        "id": "uPc9MJgysZpS",
        "outputId": "5e172fa0-299f-4115-e475-0d426e0b7677"
      },
      "execution_count": 84,
      "outputs": [
        {
          "output_type": "stream",
          "name": "stdout",
          "text": [
            "Epoch 1/100\n",
            "56/56 [==============================] - 8s 34ms/step - loss: 0.0196 - val_loss: 0.0017\n",
            "Epoch 2/100\n",
            "56/56 [==============================] - 1s 15ms/step - loss: 0.0029 - val_loss: 0.0013\n",
            "Epoch 3/100\n",
            "56/56 [==============================] - 1s 15ms/step - loss: 0.0024 - val_loss: 0.0010\n",
            "Epoch 4/100\n",
            "56/56 [==============================] - 1s 15ms/step - loss: 0.0024 - val_loss: 6.0405e-04\n",
            "Epoch 5/100\n",
            "56/56 [==============================] - 1s 15ms/step - loss: 0.0018 - val_loss: 8.7122e-04\n",
            "Epoch 6/100\n",
            "56/56 [==============================] - 1s 18ms/step - loss: 0.0019 - val_loss: 0.0012\n",
            "Epoch 7/100\n",
            "56/56 [==============================] - 1s 21ms/step - loss: 0.0019 - val_loss: 6.0046e-04\n",
            "Epoch 8/100\n",
            "56/56 [==============================] - 1s 21ms/step - loss: 0.0016 - val_loss: 5.6786e-04\n",
            "Epoch 9/100\n",
            "56/56 [==============================] - 1s 17ms/step - loss: 0.0016 - val_loss: 0.0018\n",
            "Epoch 10/100\n",
            "56/56 [==============================] - 1s 15ms/step - loss: 0.0015 - val_loss: 5.0813e-04\n",
            "Epoch 11/100\n",
            "56/56 [==============================] - 1s 15ms/step - loss: 0.0015 - val_loss: 4.3390e-04\n",
            "Epoch 12/100\n",
            "56/56 [==============================] - 1s 15ms/step - loss: 0.0014 - val_loss: 3.9590e-04\n",
            "Epoch 13/100\n",
            "56/56 [==============================] - 1s 15ms/step - loss: 0.0013 - val_loss: 8.7984e-04\n",
            "Epoch 14/100\n",
            "56/56 [==============================] - 1s 15ms/step - loss: 0.0013 - val_loss: 6.7835e-04\n",
            "Epoch 15/100\n",
            "56/56 [==============================] - 1s 16ms/step - loss: 0.0013 - val_loss: 6.4199e-04\n",
            "Epoch 16/100\n",
            "56/56 [==============================] - 1s 15ms/step - loss: 0.0011 - val_loss: 6.9551e-04\n",
            "Epoch 17/100\n",
            "56/56 [==============================] - 1s 15ms/step - loss: 0.0011 - val_loss: 3.0824e-04\n",
            "Epoch 18/100\n",
            "56/56 [==============================] - 1s 15ms/step - loss: 0.0010 - val_loss: 7.2069e-04\n",
            "Epoch 19/100\n",
            "56/56 [==============================] - 1s 15ms/step - loss: 9.4953e-04 - val_loss: 3.6000e-04\n",
            "Epoch 20/100\n",
            "56/56 [==============================] - 1s 18ms/step - loss: 9.3370e-04 - val_loss: 2.9249e-04\n",
            "Epoch 21/100\n",
            "56/56 [==============================] - 1s 22ms/step - loss: 8.8483e-04 - val_loss: 3.0295e-04\n",
            "Epoch 22/100\n",
            "56/56 [==============================] - 1s 22ms/step - loss: 9.2040e-04 - val_loss: 4.5368e-04\n",
            "Epoch 23/100\n",
            "56/56 [==============================] - 1s 20ms/step - loss: 8.4416e-04 - val_loss: 2.5834e-04\n",
            "Epoch 24/100\n",
            "56/56 [==============================] - 1s 15ms/step - loss: 9.1532e-04 - val_loss: 2.8092e-04\n",
            "Epoch 25/100\n",
            "56/56 [==============================] - 1s 15ms/step - loss: 8.3316e-04 - val_loss: 2.8950e-04\n",
            "Epoch 26/100\n",
            "56/56 [==============================] - 1s 18ms/step - loss: 8.3353e-04 - val_loss: 6.8088e-04\n",
            "Epoch 27/100\n",
            "56/56 [==============================] - 1s 15ms/step - loss: 7.5178e-04 - val_loss: 2.5649e-04\n",
            "Epoch 28/100\n",
            "56/56 [==============================] - 1s 15ms/step - loss: 7.5992e-04 - val_loss: 0.0022\n",
            "Epoch 29/100\n",
            "56/56 [==============================] - 1s 15ms/step - loss: 8.5821e-04 - val_loss: 3.1239e-04\n",
            "Epoch 30/100\n",
            "56/56 [==============================] - 1s 15ms/step - loss: 7.4973e-04 - val_loss: 2.7009e-04\n",
            "Epoch 31/100\n",
            "56/56 [==============================] - 1s 15ms/step - loss: 7.2127e-04 - val_loss: 2.1969e-04\n",
            "Epoch 32/100\n",
            "56/56 [==============================] - 1s 18ms/step - loss: 6.8368e-04 - val_loss: 7.7771e-04\n",
            "Epoch 33/100\n",
            "56/56 [==============================] - 1s 15ms/step - loss: 7.9577e-04 - val_loss: 2.5743e-04\n",
            "Epoch 34/100\n",
            "56/56 [==============================] - 1s 15ms/step - loss: 7.5101e-04 - val_loss: 8.5672e-04\n",
            "Epoch 35/100\n",
            "56/56 [==============================] - 1s 22ms/step - loss: 6.6292e-04 - val_loss: 8.4764e-04\n",
            "Epoch 36/100\n",
            "56/56 [==============================] - 1s 22ms/step - loss: 8.3429e-04 - val_loss: 4.9605e-04\n",
            "Epoch 37/100\n",
            "56/56 [==============================] - 1s 20ms/step - loss: 7.1150e-04 - val_loss: 3.3487e-04\n",
            "Epoch 38/100\n",
            "56/56 [==============================] - 1s 15ms/step - loss: 6.8158e-04 - val_loss: 2.6183e-04\n",
            "Epoch 39/100\n",
            "56/56 [==============================] - 1s 18ms/step - loss: 6.3557e-04 - val_loss: 2.4383e-04\n",
            "Epoch 40/100\n",
            "56/56 [==============================] - 1s 15ms/step - loss: 6.0941e-04 - val_loss: 3.0950e-04\n",
            "Epoch 41/100\n",
            "56/56 [==============================] - 1s 15ms/step - loss: 6.6969e-04 - val_loss: 3.6528e-04\n",
            "Epoch 42/100\n",
            "56/56 [==============================] - 1s 15ms/step - loss: 6.9201e-04 - val_loss: 0.0014\n",
            "Epoch 43/100\n",
            "56/56 [==============================] - 1s 15ms/step - loss: 6.9949e-04 - val_loss: 2.5680e-04\n",
            "Epoch 44/100\n",
            "56/56 [==============================] - 1s 15ms/step - loss: 5.6784e-04 - val_loss: 1.8094e-04\n",
            "Epoch 45/100\n",
            "56/56 [==============================] - 1s 18ms/step - loss: 5.9073e-04 - val_loss: 3.3108e-04\n",
            "Epoch 46/100\n",
            "56/56 [==============================] - 1s 15ms/step - loss: 5.6632e-04 - val_loss: 1.9662e-04\n",
            "Epoch 47/100\n",
            "56/56 [==============================] - 1s 15ms/step - loss: 6.6854e-04 - val_loss: 1.9491e-04\n",
            "Epoch 48/100\n",
            "56/56 [==============================] - 1s 15ms/step - loss: 5.8158e-04 - val_loss: 1.9558e-04\n",
            "Epoch 49/100\n",
            "56/56 [==============================] - 1s 23ms/step - loss: 6.5780e-04 - val_loss: 1.8126e-04\n",
            "Epoch 50/100\n",
            "56/56 [==============================] - 1s 22ms/step - loss: 6.2207e-04 - val_loss: 2.7736e-04\n",
            "Epoch 51/100\n",
            "56/56 [==============================] - 1s 21ms/step - loss: 5.9003e-04 - val_loss: 4.3806e-04\n",
            "Epoch 52/100\n",
            "56/56 [==============================] - 1s 15ms/step - loss: 5.4809e-04 - val_loss: 1.7654e-04\n",
            "Epoch 53/100\n",
            "56/56 [==============================] - 1s 15ms/step - loss: 5.3485e-04 - val_loss: 2.4121e-04\n",
            "Epoch 54/100\n",
            "56/56 [==============================] - 1s 16ms/step - loss: 5.7691e-04 - val_loss: 2.4008e-04\n",
            "Epoch 55/100\n",
            "56/56 [==============================] - 1s 16ms/step - loss: 6.3134e-04 - val_loss: 2.3904e-04\n",
            "Epoch 56/100\n",
            "56/56 [==============================] - 1s 15ms/step - loss: 5.3635e-04 - val_loss: 3.0634e-04\n",
            "Epoch 57/100\n",
            "56/56 [==============================] - 1s 15ms/step - loss: 5.3548e-04 - val_loss: 1.6961e-04\n",
            "Epoch 58/100\n",
            "56/56 [==============================] - 1s 16ms/step - loss: 6.7274e-04 - val_loss: 5.1595e-04\n",
            "Epoch 59/100\n",
            "56/56 [==============================] - 1s 15ms/step - loss: 5.5386e-04 - val_loss: 1.8007e-04\n",
            "Epoch 60/100\n",
            "56/56 [==============================] - 1s 16ms/step - loss: 5.4433e-04 - val_loss: 3.9588e-04\n",
            "Epoch 61/100\n",
            "56/56 [==============================] - 1s 15ms/step - loss: 6.5339e-04 - val_loss: 1.9970e-04\n",
            "Epoch 62/100\n",
            "56/56 [==============================] - 1s 15ms/step - loss: 5.6561e-04 - val_loss: 2.1276e-04\n",
            "Epoch 63/100\n",
            "56/56 [==============================] - 1s 19ms/step - loss: 5.5737e-04 - val_loss: 2.2416e-04\n",
            "Epoch 64/100\n",
            "56/56 [==============================] - 1s 21ms/step - loss: 5.3869e-04 - val_loss: 1.7713e-04\n",
            "Epoch 65/100\n",
            "56/56 [==============================] - 1s 21ms/step - loss: 5.4044e-04 - val_loss: 2.4733e-04\n",
            "Epoch 66/100\n",
            "56/56 [==============================] - 1s 17ms/step - loss: 5.7796e-04 - val_loss: 4.6387e-04\n",
            "Epoch 67/100\n",
            "56/56 [==============================] - 1s 15ms/step - loss: 5.3461e-04 - val_loss: 3.0048e-04\n",
            "Epoch 68/100\n",
            "56/56 [==============================] - 1s 15ms/step - loss: 4.8688e-04 - val_loss: 1.5714e-04\n",
            "Epoch 69/100\n",
            "56/56 [==============================] - 1s 15ms/step - loss: 5.8889e-04 - val_loss: 2.4882e-04\n",
            "Epoch 70/100\n",
            "56/56 [==============================] - 1s 16ms/step - loss: 5.5214e-04 - val_loss: 3.0807e-04\n",
            "Epoch 71/100\n",
            "56/56 [==============================] - 1s 15ms/step - loss: 5.3975e-04 - val_loss: 8.4028e-04\n",
            "Epoch 72/100\n",
            "56/56 [==============================] - 1s 18ms/step - loss: 5.4561e-04 - val_loss: 1.5488e-04\n",
            "Epoch 73/100\n",
            "56/56 [==============================] - 1s 15ms/step - loss: 6.0362e-04 - val_loss: 1.7829e-04\n",
            "Epoch 74/100\n",
            "56/56 [==============================] - 1s 15ms/step - loss: 5.5448e-04 - val_loss: 5.7512e-04\n",
            "Epoch 75/100\n",
            "56/56 [==============================] - 1s 15ms/step - loss: 5.5431e-04 - val_loss: 2.5453e-04\n",
            "Epoch 76/100\n",
            "56/56 [==============================] - 1s 16ms/step - loss: 5.4862e-04 - val_loss: 1.5629e-04\n",
            "Epoch 77/100\n",
            "56/56 [==============================] - 1s 18ms/step - loss: 4.8789e-04 - val_loss: 7.3098e-04\n",
            "Epoch 78/100\n",
            "56/56 [==============================] - 1s 21ms/step - loss: 5.7123e-04 - val_loss: 2.7509e-04\n",
            "Epoch 79/100\n",
            "56/56 [==============================] - 1s 21ms/step - loss: 5.2565e-04 - val_loss: 1.6112e-04\n",
            "Epoch 80/100\n",
            "56/56 [==============================] - 1s 21ms/step - loss: 4.8456e-04 - val_loss: 2.2318e-04\n",
            "Epoch 81/100\n",
            "56/56 [==============================] - 1s 15ms/step - loss: 5.0818e-04 - val_loss: 3.1347e-04\n",
            "Epoch 82/100\n",
            "56/56 [==============================] - 1s 16ms/step - loss: 5.4575e-04 - val_loss: 1.7578e-04\n",
            "Epoch 83/100\n",
            "56/56 [==============================] - 1s 15ms/step - loss: 5.2392e-04 - val_loss: 2.3031e-04\n",
            "Epoch 84/100\n",
            "56/56 [==============================] - 1s 15ms/step - loss: 5.4393e-04 - val_loss: 1.4998e-04\n",
            "Epoch 85/100\n",
            "56/56 [==============================] - 1s 15ms/step - loss: 5.3271e-04 - val_loss: 1.4609e-04\n",
            "Epoch 86/100\n",
            "56/56 [==============================] - 1s 15ms/step - loss: 4.9680e-04 - val_loss: 1.6808e-04\n",
            "Epoch 87/100\n",
            "56/56 [==============================] - 1s 16ms/step - loss: 5.3675e-04 - val_loss: 2.1750e-04\n",
            "Epoch 88/100\n",
            "56/56 [==============================] - 1s 16ms/step - loss: 4.9471e-04 - val_loss: 1.5463e-04\n",
            "Epoch 89/100\n",
            "56/56 [==============================] - 1s 15ms/step - loss: 5.2673e-04 - val_loss: 1.4070e-04\n",
            "Epoch 90/100\n",
            "56/56 [==============================] - 1s 15ms/step - loss: 5.2374e-04 - val_loss: 1.9320e-04\n",
            "Epoch 91/100\n",
            "56/56 [==============================] - 1s 15ms/step - loss: 4.7818e-04 - val_loss: 1.7110e-04\n",
            "Epoch 92/100\n",
            "56/56 [==============================] - 1s 22ms/step - loss: 4.6302e-04 - val_loss: 1.3662e-04\n",
            "Epoch 93/100\n",
            "56/56 [==============================] - 1s 21ms/step - loss: 5.0612e-04 - val_loss: 1.4283e-04\n",
            "Epoch 94/100\n",
            "56/56 [==============================] - 1s 21ms/step - loss: 5.3018e-04 - val_loss: 2.0740e-04\n",
            "Epoch 95/100\n",
            "56/56 [==============================] - 1s 18ms/step - loss: 4.9152e-04 - val_loss: 1.3939e-04\n",
            "Epoch 96/100\n",
            "56/56 [==============================] - 1s 15ms/step - loss: 4.9169e-04 - val_loss: 3.1173e-04\n",
            "Epoch 97/100\n",
            "56/56 [==============================] - 1s 15ms/step - loss: 5.0021e-04 - val_loss: 1.9708e-04\n",
            "Epoch 98/100\n",
            "56/56 [==============================] - 1s 15ms/step - loss: 4.5637e-04 - val_loss: 5.9069e-04\n",
            "Epoch 99/100\n",
            "56/56 [==============================] - 1s 16ms/step - loss: 5.3269e-04 - val_loss: 4.7135e-04\n",
            "Epoch 100/100\n",
            "56/56 [==============================] - 1s 15ms/step - loss: 5.5039e-04 - val_loss: 2.6435e-04\n"
          ]
        },
        {
          "output_type": "execute_result",
          "data": {
            "text/plain": [
              "<keras.callbacks.History at 0x7f9f29353730>"
            ]
          },
          "metadata": {},
          "execution_count": 84
        }
      ]
    },
    {
      "cell_type": "code",
      "source": [
        "train_predict = model.predict(X_train)\n",
        "test_predict = model.predict(X_test)"
      ],
      "metadata": {
        "colab": {
          "base_uri": "https://localhost:8080/"
        },
        "id": "RHBi8i67tcVv",
        "outputId": "5f54f3d5-bb55-4a7d-d27e-65fbb14ccd22"
      },
      "execution_count": 85,
      "outputs": [
        {
          "output_type": "stream",
          "name": "stdout",
          "text": [
            "105/105 [==============================] - 2s 6ms/step\n",
            "55/55 [==============================] - 0s 7ms/step\n"
          ]
        }
      ]
    },
    {
      "cell_type": "code",
      "source": [
        "import math\n",
        "from sklearn.metrics import mean_squared_error\n",
        "print(math.sqrt(mean_squared_error(y_train, train_predict)))\n",
        "print(math.sqrt(mean_squared_error(y_test, test_predict)))"
      ],
      "metadata": {
        "colab": {
          "base_uri": "https://localhost:8080/"
        },
        "id": "sZtxQG9N-R1s",
        "outputId": "ff809f5b-b164-4d85-b0e2-190693125cc2"
      },
      "execution_count": 86,
      "outputs": [
        {
          "output_type": "stream",
          "name": "stdout",
          "text": [
            "0.02045369399181239\n",
            "0.01625882482829127\n"
          ]
        }
      ]
    },
    {
      "cell_type": "code",
      "source": [
        "train_predict = scaler.inverse_transform(train_predict)\n",
        "test_predict = scaler.inverse_transform(test_predict)"
      ],
      "metadata": {
        "id": "dj8X-vIxuLoj"
      },
      "execution_count": 87,
      "outputs": []
    },
    {
      "cell_type": "code",
      "source": [
        "y_train1=scaler.inverse_transform(y_train.reshape(-1,1))\n",
        "y_test1=scaler.inverse_transform(y_test.reshape(-1,1))"
      ],
      "metadata": {
        "id": "jw7UZ69zVfpA"
      },
      "execution_count": 88,
      "outputs": []
    },
    {
      "cell_type": "code",
      "source": [
        "# Calculating rmse value for unscaled train and test data\n",
        "print(math.sqrt(mean_squared_error(y_train1, train_predict)))"
      ],
      "metadata": {
        "colab": {
          "base_uri": "https://localhost:8080/"
        },
        "id": "oga9t1tOwpku",
        "outputId": "9ac32fe9-edb1-47dd-9087-aa16d88c2f8c"
      },
      "execution_count": 89,
      "outputs": [
        {
          "output_type": "stream",
          "name": "stdout",
          "text": [
            "59.24002905444212\n"
          ]
        }
      ]
    },
    {
      "cell_type": "code",
      "source": [
        "print(math.sqrt(mean_squared_error(y_test1, test_predict)))\n"
      ],
      "metadata": {
        "colab": {
          "base_uri": "https://localhost:8080/"
        },
        "id": "4WIRjyhIw7rJ",
        "outputId": "a74e7c6c-83a9-44fe-b99a-67408125bc4f"
      },
      "execution_count": 90,
      "outputs": [
        {
          "output_type": "stream",
          "name": "stdout",
          "text": [
            "47.09041912600089\n"
          ]
        }
      ]
    },
    {
      "cell_type": "code",
      "source": [
        "# Plotting the predicted values on actual values\n",
        "look_back = 100\n",
        "trainPredictPlot = np.empty_like(df1)\n",
        "trainPredictPlot[:,:] = np.nan\n",
        "trainPredictPlot[look_back:len(train_predict) + look_back, :] = train_predict\n",
        "\n",
        "#Shift test prediction for plotting\n",
        "testPredictPlot = np.empty_like(df1)\n",
        "testPredictPlot[:,:] = np.nan\n",
        "testPredictPlot[len(train_predict) + (look_back * 2)+1:len(df) - 1, :] = test_predict\n",
        "\n",
        "#Plot baseline and predictions\n",
        "plt.plot(scaler.inverse_transform(df1))\n",
        "plt.plot(trainPredictPlot)\n",
        "plt.plot(testPredictPlot)\n",
        "plt.show()"
      ],
      "metadata": {
        "colab": {
          "base_uri": "https://localhost:8080/",
          "height": 265
        },
        "id": "CyRS-_u4x4Db",
        "outputId": "25f6dc3c-129e-4e9e-9f93-9cdd2229b8bc"
      },
      "execution_count": 91,
      "outputs": [
        {
          "output_type": "display_data",
          "data": {
            "text/plain": [
              "<Figure size 432x288 with 1 Axes>"
            ],
            "image/png": "[encoded data removed]"
          },
          "metadata": {
            "needs_background": "light"
          }
        }
      ]
    },
    {
      "cell_type": "code",
      "source": [
        "\n",
        "len(test_data), X_test.shape\n"
      ],
      "metadata": {
        "colab": {
          "base_uri": "https://localhost:8080/"
        },
        "id": "PaRYrc4WyTt9",
        "outputId": "f3598a02-b21c-437a-9eb6-509934dbaf27"
      },
      "execution_count": 92,
      "outputs": [
        {
          "output_type": "execute_result",
          "data": {
            "text/plain": [
              "(1858, (1757, 100, 1))"
            ]
          },
          "metadata": {},
          "execution_count": 92
        }
      ]
    },
    {
      "cell_type": "code",
      "source": [
        "\n",
        "x_input = test_data[1758:].reshape(1,-1)\n",
        "x_input.shape"
      ],
      "metadata": {
        "colab": {
          "base_uri": "https://localhost:8080/"
        },
        "id": "kQ2gl2YR3996",
        "outputId": "1ea24109-569d-459b-9f36-bae02dcaa406"
      },
      "execution_count": 93,
      "outputs": [
        {
          "output_type": "execute_result",
          "data": {
            "text/plain": [
              "(1, 100)"
            ]
          },
          "metadata": {},
          "execution_count": 93
        }
      ]
    },
    {
      "cell_type": "code",
      "source": [
        "temp_input = list(x_input)\n",
        "temp_input = temp_input[0].tolist()"
      ],
      "metadata": {
        "id": "Pzy7A9T04JSE"
      },
      "execution_count": 94,
      "outputs": []
    },
    {
      "cell_type": "code",
      "source": [
        "# Predicting next 50 days closing price of the stock\n",
        "lst_output=[]\n",
        "n_steps=100\n",
        "nextNumberOfDays = 50\n",
        "i=0\n",
        "\n",
        "while(i<nextNumberOfDays):\n",
        "    \n",
        "    if(len(temp_input)>100):\n",
        "        x_input=np.array(temp_input[1:])\n",
        "        print(\"{} day input {}\".format(i,x_input))\n",
        "        x_input=x_input.reshape(1,-1)\n",
        "        x_input = x_input.reshape((1, n_steps, 1))\n",
        "        yhat = model.predict(x_input, verbose=0)\n",
        "        print(\"{} day output {}\".format(i,yhat))\n",
        "        temp_input.extend(yhat[0].tolist())\n",
        "        temp_input=temp_input[1:]\n",
        "        lst_output.extend(yhat.tolist())\n",
        "        i=i+1\n",
        "    else:\n",
        "        x_input = x_input.reshape((1, n_steps,1))\n",
        "        yhat = model.predict(x_input, verbose=0)\n",
        "        print(yhat[0])\n",
        "        temp_input.extend(yhat[0].tolist())\n",
        "        print(len(temp_input))\n",
        "        lst_output.extend(yhat.tolist())\n",
        "        i=i+1\n",
        "    \n",
        "\n",
        "print(lst_output)"
      ],
      "metadata": {
        "colab": {
          "base_uri": "https://localhost:8080/"
        },
        "id": "GS856NN74dC0",
        "outputId": "a82dca1f-1495-4273-b75c-983fd892e50c"
      },
      "execution_count": 95,
      "outputs": [
        {
          "output_type": "stream",
          "name": "stdout",
          "text": [
            "[0.75517434]\n",
            "101\n",
            "1 day input [0.67743328 0.6974243  0.69947865 0.69842558 0.69234886 0.69469668\n",
            " 0.69702724 0.71349653 0.73914995 0.76330145 0.75805338 0.73574906\n",
            " 0.73189932 0.73169216 0.74968063 0.75703484 0.77170873 0.77139799\n",
            " 0.78541588 0.78890308 0.79226945 0.81759486 0.81310638 0.82087491\n",
            " 0.81954563 0.85189725 0.85063702 0.82417222 0.8287125  0.81100024\n",
            " 0.78812623 0.81935573 0.83012809 0.8214446  0.79605013 0.78291268\n",
            " 0.75377205 0.73952974 0.72297414 0.7925284  0.82006353 0.83544522\n",
            " 0.83689535 0.84164279 0.84573421 0.85046439 0.85738701 0.85514277\n",
            " 0.86581155 0.88961779 0.88899631 0.87059352 0.84980838 0.84847909\n",
            " 0.81762939 0.80956738 0.83689535 0.82893692 0.77876946 0.80176432\n",
            " 0.78726306 0.81864793 0.79380589 0.78032317 0.7687049  0.79185513\n",
            " 0.79962366 0.78864413 0.77742292 0.76875669 0.77053482 0.77020682\n",
            " 0.77609364 0.77616269 0.76858406 0.75334047 0.75506681 0.77647343\n",
            " 0.80164348 0.76450989 0.77602458 0.74646963 0.75560197 0.75919276\n",
            " 0.76604633 0.76996513 0.73749266 0.76963712 0.78144529 0.790733\n",
            " 0.7625246  0.73612885 0.75815696 0.76425094 0.76854953 0.77151883\n",
            " 0.79175155 0.77857957 0.73757898 0.75517434]\n",
            "1 day output [[0.76986617]]\n",
            "2 day input [0.6974243  0.69947865 0.69842558 0.69234886 0.69469668 0.69702724\n",
            " 0.71349653 0.73914995 0.76330145 0.75805338 0.73574906 0.73189932\n",
            " 0.73169216 0.74968063 0.75703484 0.77170873 0.77139799 0.78541588\n",
            " 0.78890308 0.79226945 0.81759486 0.81310638 0.82087491 0.81954563\n",
            " 0.85189725 0.85063702 0.82417222 0.8287125  0.81100024 0.78812623\n",
            " 0.81935573 0.83012809 0.8214446  0.79605013 0.78291268 0.75377205\n",
            " 0.73952974 0.72297414 0.7925284  0.82006353 0.83544522 0.83689535\n",
            " 0.84164279 0.84573421 0.85046439 0.85738701 0.85514277 0.86581155\n",
            " 0.88961779 0.88899631 0.87059352 0.84980838 0.84847909 0.81762939\n",
            " 0.80956738 0.83689535 0.82893692 0.77876946 0.80176432 0.78726306\n",
            " 0.81864793 0.79380589 0.78032317 0.7687049  0.79185513 0.79962366\n",
            " 0.78864413 0.77742292 0.76875669 0.77053482 0.77020682 0.77609364\n",
            " 0.77616269 0.76858406 0.75334047 0.75506681 0.77647343 0.80164348\n",
            " 0.76450989 0.77602458 0.74646963 0.75560197 0.75919276 0.76604633\n",
            " 0.76996513 0.73749266 0.76963712 0.78144529 0.790733   0.7625246\n",
            " 0.73612885 0.75815696 0.76425094 0.76854953 0.77151883 0.79175155\n",
            " 0.77857957 0.73757898 0.75517434 0.76986617]\n",
            "2 day output [[0.7843462]]\n",
            "3 day input [0.69947865 0.69842558 0.69234886 0.69469668 0.69702724 0.71349653\n",
            " 0.73914995 0.76330145 0.75805338 0.73574906 0.73189932 0.73169216\n",
            " 0.74968063 0.75703484 0.77170873 0.77139799 0.78541588 0.78890308\n",
            " 0.79226945 0.81759486 0.81310638 0.82087491 0.81954563 0.85189725\n",
            " 0.85063702 0.82417222 0.8287125  0.81100024 0.78812623 0.81935573\n",
            " 0.83012809 0.8214446  0.79605013 0.78291268 0.75377205 0.73952974\n",
            " 0.72297414 0.7925284  0.82006353 0.83544522 0.83689535 0.84164279\n",
            " 0.84573421 0.85046439 0.85738701 0.85514277 0.86581155 0.88961779\n",
            " 0.88899631 0.87059352 0.84980838 0.84847909 0.81762939 0.80956738\n",
            " 0.83689535 0.82893692 0.77876946 0.80176432 0.78726306 0.81864793\n",
            " 0.79380589 0.78032317 0.7687049  0.79185513 0.79962366 0.78864413\n",
            " 0.77742292 0.76875669 0.77053482 0.77020682 0.77609364 0.77616269\n",
            " 0.76858406 0.75334047 0.75506681 0.77647343 0.80164348 0.76450989\n",
            " 0.77602458 0.74646963 0.75560197 0.75919276 0.76604633 0.76996513\n",
            " 0.73749266 0.76963712 0.78144529 0.790733   0.7625246  0.73612885\n",
            " 0.75815696 0.76425094 0.76854953 0.77151883 0.79175155 0.77857957\n",
            " 0.73757898 0.75517434 0.76986617 0.78434622]\n",
            "3 day output [[0.7949321]]\n",
            "4 day input [0.69842558 0.69234886 0.69469668 0.69702724 0.71349653 0.73914995\n",
            " 0.76330145 0.75805338 0.73574906 0.73189932 0.73169216 0.74968063\n",
            " 0.75703484 0.77170873 0.77139799 0.78541588 0.78890308 0.79226945\n",
            " 0.81759486 0.81310638 0.82087491 0.81954563 0.85189725 0.85063702\n",
            " 0.82417222 0.8287125  0.81100024 0.78812623 0.81935573 0.83012809\n",
            " 0.8214446  0.79605013 0.78291268 0.75377205 0.73952974 0.72297414\n",
            " 0.7925284  0.82006353 0.83544522 0.83689535 0.84164279 0.84573421\n",
            " 0.85046439 0.85738701 0.85514277 0.86581155 0.88961779 0.88899631\n",
            " 0.87059352 0.84980838 0.84847909 0.81762939 0.80956738 0.83689535\n",
            " 0.82893692 0.77876946 0.80176432 0.78726306 0.81864793 0.79380589\n",
            " 0.78032317 0.7687049  0.79185513 0.79962366 0.78864413 0.77742292\n",
            " 0.76875669 0.77053482 0.77020682 0.77609364 0.77616269 0.76858406\n",
            " 0.75334047 0.75506681 0.77647343 0.80164348 0.76450989 0.77602458\n",
            " 0.74646963 0.75560197 0.75919276 0.76604633 0.76996513 0.73749266\n",
            " 0.76963712 0.78144529 0.790733   0.7625246  0.73612885 0.75815696\n",
            " 0.76425094 0.76854953 0.77151883 0.79175155 0.77857957 0.73757898\n",
            " 0.75517434 0.76986617 0.78434622 0.79493213]\n",
            "4 day output [[0.8027354]]\n",
            "5 day input [0.69234886 0.69469668 0.69702724 0.71349653 0.73914995 0.76330145\n",
            " 0.75805338 0.73574906 0.73189932 0.73169216 0.74968063 0.75703484\n",
            " 0.77170873 0.77139799 0.78541588 0.78890308 0.79226945 0.81759486\n",
            " 0.81310638 0.82087491 0.81954563 0.85189725 0.85063702 0.82417222\n",
            " 0.8287125  0.81100024 0.78812623 0.81935573 0.83012809 0.8214446\n",
            " 0.79605013 0.78291268 0.75377205 0.73952974 0.72297414 0.7925284\n",
            " 0.82006353 0.83544522 0.83689535 0.84164279 0.84573421 0.85046439\n",
            " 0.85738701 0.85514277 0.86581155 0.88961779 0.88899631 0.87059352\n",
            " 0.84980838 0.84847909 0.81762939 0.80956738 0.83689535 0.82893692\n",
            " 0.77876946 0.80176432 0.78726306 0.81864793 0.79380589 0.78032317\n",
            " 0.7687049  0.79185513 0.79962366 0.78864413 0.77742292 0.76875669\n",
            " 0.77053482 0.77020682 0.77609364 0.77616269 0.76858406 0.75334047\n",
            " 0.75506681 0.77647343 0.80164348 0.76450989 0.77602458 0.74646963\n",
            " 0.75560197 0.75919276 0.76604633 0.76996513 0.73749266 0.76963712\n",
            " 0.78144529 0.790733   0.7625246  0.73612885 0.75815696 0.76425094\n",
            " 0.76854953 0.77151883 0.79175155 0.77857957 0.73757898 0.75517434\n",
            " 0.76986617 0.78434622 0.79493213 0.80273539]\n",
            "5 day output [[0.8090231]]\n",
            "6 day input [0.69469668 0.69702724 0.71349653 0.73914995 0.76330145 0.75805338\n",
            " 0.73574906 0.73189932 0.73169216 0.74968063 0.75703484 0.77170873\n",
            " 0.77139799 0.78541588 0.78890308 0.79226945 0.81759486 0.81310638\n",
            " 0.82087491 0.81954563 0.85189725 0.85063702 0.82417222 0.8287125\n",
            " 0.81100024 0.78812623 0.81935573 0.83012809 0.8214446  0.79605013\n",
            " 0.78291268 0.75377205 0.73952974 0.72297414 0.7925284  0.82006353\n",
            " 0.83544522 0.83689535 0.84164279 0.84573421 0.85046439 0.85738701\n",
            " 0.85514277 0.86581155 0.88961779 0.88899631 0.87059352 0.84980838\n",
            " 0.84847909 0.81762939 0.80956738 0.83689535 0.82893692 0.77876946\n",
            " 0.80176432 0.78726306 0.81864793 0.79380589 0.78032317 0.7687049\n",
            " 0.79185513 0.79962366 0.78864413 0.77742292 0.76875669 0.77053482\n",
            " 0.77020682 0.77609364 0.77616269 0.76858406 0.75334047 0.75506681\n",
            " 0.77647343 0.80164348 0.76450989 0.77602458 0.74646963 0.75560197\n",
            " 0.75919276 0.76604633 0.76996513 0.73749266 0.76963712 0.78144529\n",
            " 0.790733   0.7625246  0.73612885 0.75815696 0.76425094 0.76854953\n",
            " 0.77151883 0.79175155 0.77857957 0.73757898 0.75517434 0.76986617\n",
            " 0.78434622 0.79493213 0.80273539 0.80902308]\n",
            "6 day output [[0.8145509]]\n",
            "7 day input [0.69702724 0.71349653 0.73914995 0.76330145 0.75805338 0.73574906\n",
            " 0.73189932 0.73169216 0.74968063 0.75703484 0.77170873 0.77139799\n",
            " 0.78541588 0.78890308 0.79226945 0.81759486 0.81310638 0.82087491\n",
            " 0.81954563 0.85189725 0.85063702 0.82417222 0.8287125  0.81100024\n",
            " 0.78812623 0.81935573 0.83012809 0.8214446  0.79605013 0.78291268\n",
            " 0.75377205 0.73952974 0.72297414 0.7925284  0.82006353 0.83544522\n",
            " 0.83689535 0.84164279 0.84573421 0.85046439 0.85738701 0.85514277\n",
            " 0.86581155 0.88961779 0.88899631 0.87059352 0.84980838 0.84847909\n",
            " 0.81762939 0.80956738 0.83689535 0.82893692 0.77876946 0.80176432\n",
            " 0.78726306 0.81864793 0.79380589 0.78032317 0.7687049  0.79185513\n",
            " 0.79962366 0.78864413 0.77742292 0.76875669 0.77053482 0.77020682\n",
            " 0.77609364 0.77616269 0.76858406 0.75334047 0.75506681 0.77647343\n",
            " 0.80164348 0.76450989 0.77602458 0.74646963 0.75560197 0.75919276\n",
            " 0.76604633 0.76996513 0.73749266 0.76963712 0.78144529 0.790733\n",
            " 0.7625246  0.73612885 0.75815696 0.76425094 0.76854953 0.77151883\n",
            " 0.79175155 0.77857957 0.73757898 0.75517434 0.76986617 0.78434622\n",
            " 0.79493213 0.80273539 0.80902308 0.81455088]\n",
            "7 day output [[0.81961447]]\n",
            "8 day input [0.71349653 0.73914995 0.76330145 0.75805338 0.73574906 0.73189932\n",
            " 0.73169216 0.74968063 0.75703484 0.77170873 0.77139799 0.78541588\n",
            " 0.78890308 0.79226945 0.81759486 0.81310638 0.82087491 0.81954563\n",
            " 0.85189725 0.85063702 0.82417222 0.8287125  0.81100024 0.78812623\n",
            " 0.81935573 0.83012809 0.8214446  0.79605013 0.78291268 0.75377205\n",
            " 0.73952974 0.72297414 0.7925284  0.82006353 0.83544522 0.83689535\n",
            " 0.84164279 0.84573421 0.85046439 0.85738701 0.85514277 0.86581155\n",
            " 0.88961779 0.88899631 0.87059352 0.84980838 0.84847909 0.81762939\n",
            " 0.80956738 0.83689535 0.82893692 0.77876946 0.80176432 0.78726306\n",
            " 0.81864793 0.79380589 0.78032317 0.7687049  0.79185513 0.79962366\n",
            " 0.78864413 0.77742292 0.76875669 0.77053482 0.77020682 0.77609364\n",
            " 0.77616269 0.76858406 0.75334047 0.75506681 0.77647343 0.80164348\n",
            " 0.76450989 0.77602458 0.74646963 0.75560197 0.75919276 0.76604633\n",
            " 0.76996513 0.73749266 0.76963712 0.78144529 0.790733   0.7625246\n",
            " 0.73612885 0.75815696 0.76425094 0.76854953 0.77151883 0.79175155\n",
            " 0.77857957 0.73757898 0.75517434 0.76986617 0.78434622 0.79493213\n",
            " 0.80273539 0.80902308 0.81455088 0.81961447]\n",
            "8 day output [[0.8242841]]\n",
            "9 day input [0.73914995 0.76330145 0.75805338 0.73574906 0.73189932 0.73169216\n",
            " 0.74968063 0.75703484 0.77170873 0.77139799 0.78541588 0.78890308\n",
            " 0.79226945 0.81759486 0.81310638 0.82087491 0.81954563 0.85189725\n",
            " 0.85063702 0.82417222 0.8287125  0.81100024 0.78812623 0.81935573\n",
            " 0.83012809 0.8214446  0.79605013 0.78291268 0.75377205 0.73952974\n",
            " 0.72297414 0.7925284  0.82006353 0.83544522 0.83689535 0.84164279\n",
            " 0.84573421 0.85046439 0.85738701 0.85514277 0.86581155 0.88961779\n",
            " 0.88899631 0.87059352 0.84980838 0.84847909 0.81762939 0.80956738\n",
            " 0.83689535 0.82893692 0.77876946 0.80176432 0.78726306 0.81864793\n",
            " 0.79380589 0.78032317 0.7687049  0.79185513 0.79962366 0.78864413\n",
            " 0.77742292 0.76875669 0.77053482 0.77020682 0.77609364 0.77616269\n",
            " 0.76858406 0.75334047 0.75506681 0.77647343 0.80164348 0.76450989\n",
            " 0.77602458 0.74646963 0.75560197 0.75919276 0.76604633 0.76996513\n",
            " 0.73749266 0.76963712 0.78144529 0.790733   0.7625246  0.73612885\n",
            " 0.75815696 0.76425094 0.76854953 0.77151883 0.79175155 0.77857957\n",
            " 0.73757898 0.75517434 0.76986617 0.78434622 0.79493213 0.80273539\n",
            " 0.80902308 0.81455088 0.81961447 0.82428408]\n",
            "9 day output [[0.8285786]]\n",
            "10 day input [0.76330145 0.75805338 0.73574906 0.73189932 0.73169216 0.74968063\n",
            " 0.75703484 0.77170873 0.77139799 0.78541588 0.78890308 0.79226945\n",
            " 0.81759486 0.81310638 0.82087491 0.81954563 0.85189725 0.85063702\n",
            " 0.82417222 0.8287125  0.81100024 0.78812623 0.81935573 0.83012809\n",
            " 0.8214446  0.79605013 0.78291268 0.75377205 0.73952974 0.72297414\n",
            " 0.7925284  0.82006353 0.83544522 0.83689535 0.84164279 0.84573421\n",
            " 0.85046439 0.85738701 0.85514277 0.86581155 0.88961779 0.88899631\n",
            " 0.87059352 0.84980838 0.84847909 0.81762939 0.80956738 0.83689535\n",
            " 0.82893692 0.77876946 0.80176432 0.78726306 0.81864793 0.79380589\n",
            " 0.78032317 0.7687049  0.79185513 0.79962366 0.78864413 0.77742292\n",
            " 0.76875669 0.77053482 0.77020682 0.77609364 0.77616269 0.76858406\n",
            " 0.75334047 0.75506681 0.77647343 0.80164348 0.76450989 0.77602458\n",
            " 0.74646963 0.75560197 0.75919276 0.76604633 0.76996513 0.73749266\n",
            " 0.76963712 0.78144529 0.790733   0.7625246  0.73612885 0.75815696\n",
            " 0.76425094 0.76854953 0.77151883 0.79175155 0.77857957 0.73757898\n",
            " 0.75517434 0.76986617 0.78434622 0.79493213 0.80273539 0.80902308\n",
            " 0.81455088 0.81961447 0.82428408 0.82857859]\n",
            "10 day output [[0.83253556]]\n",
            "11 day input [0.75805338 0.73574906 0.73189932 0.73169216 0.74968063 0.75703484\n",
            " 0.77170873 0.77139799 0.78541588 0.78890308 0.79226945 0.81759486\n",
            " 0.81310638 0.82087491 0.81954563 0.85189725 0.85063702 0.82417222\n",
            " 0.8287125  0.81100024 0.78812623 0.81935573 0.83012809 0.8214446\n",
            " 0.79605013 0.78291268 0.75377205 0.73952974 0.72297414 0.7925284\n",
            " 0.82006353 0.83544522 0.83689535 0.84164279 0.84573421 0.85046439\n",
            " 0.85738701 0.85514277 0.86581155 0.88961779 0.88899631 0.87059352\n",
            " 0.84980838 0.84847909 0.81762939 0.80956738 0.83689535 0.82893692\n",
            " 0.77876946 0.80176432 0.78726306 0.81864793 0.79380589 0.78032317\n",
            " 0.7687049  0.79185513 0.79962366 0.78864413 0.77742292 0.76875669\n",
            " 0.77053482 0.77020682 0.77609364 0.77616269 0.76858406 0.75334047\n",
            " 0.75506681 0.77647343 0.80164348 0.76450989 0.77602458 0.74646963\n",
            " 0.75560197 0.75919276 0.76604633 0.76996513 0.73749266 0.76963712\n",
            " 0.78144529 0.790733   0.7625246  0.73612885 0.75815696 0.76425094\n",
            " 0.76854953 0.77151883 0.79175155 0.77857957 0.73757898 0.75517434\n",
            " 0.76986617 0.78434622 0.79493213 0.80273539 0.80902308 0.81455088\n",
            " 0.81961447 0.82428408 0.82857859 0.83253556]\n",
            "11 day output [[0.836215]]\n",
            "12 day input [0.73574906 0.73189932 0.73169216 0.74968063 0.75703484 0.77170873\n",
            " 0.77139799 0.78541588 0.78890308 0.79226945 0.81759486 0.81310638\n",
            " 0.82087491 0.81954563 0.85189725 0.85063702 0.82417222 0.8287125\n",
            " 0.81100024 0.78812623 0.81935573 0.83012809 0.8214446  0.79605013\n",
            " 0.78291268 0.75377205 0.73952974 0.72297414 0.7925284  0.82006353\n",
            " 0.83544522 0.83689535 0.84164279 0.84573421 0.85046439 0.85738701\n",
            " 0.85514277 0.86581155 0.88961779 0.88899631 0.87059352 0.84980838\n",
            " 0.84847909 0.81762939 0.80956738 0.83689535 0.82893692 0.77876946\n",
            " 0.80176432 0.78726306 0.81864793 0.79380589 0.78032317 0.7687049\n",
            " 0.79185513 0.79962366 0.78864413 0.77742292 0.76875669 0.77053482\n",
            " 0.77020682 0.77609364 0.77616269 0.76858406 0.75334047 0.75506681\n",
            " 0.77647343 0.80164348 0.76450989 0.77602458 0.74646963 0.75560197\n",
            " 0.75919276 0.76604633 0.76996513 0.73749266 0.76963712 0.78144529\n",
            " 0.790733   0.7625246  0.73612885 0.75815696 0.76425094 0.76854953\n",
            " 0.77151883 0.79175155 0.77857957 0.73757898 0.75517434 0.76986617\n",
            " 0.78434622 0.79493213 0.80273539 0.80902308 0.81455088 0.81961447\n",
            " 0.82428408 0.82857859 0.83253556 0.83621502]\n",
            "12 day output [[0.83968127]]\n",
            "13 day input [0.73189932 0.73169216 0.74968063 0.75703484 0.77170873 0.77139799\n",
            " 0.78541588 0.78890308 0.79226945 0.81759486 0.81310638 0.82087491\n",
            " 0.81954563 0.85189725 0.85063702 0.82417222 0.8287125  0.81100024\n",
            " 0.78812623 0.81935573 0.83012809 0.8214446  0.79605013 0.78291268\n",
            " 0.75377205 0.73952974 0.72297414 0.7925284  0.82006353 0.83544522\n",
            " 0.83689535 0.84164279 0.84573421 0.85046439 0.85738701 0.85514277\n",
            " 0.86581155 0.88961779 0.88899631 0.87059352 0.84980838 0.84847909\n",
            " 0.81762939 0.80956738 0.83689535 0.82893692 0.77876946 0.80176432\n",
            " 0.78726306 0.81864793 0.79380589 0.78032317 0.7687049  0.79185513\n",
            " 0.79962366 0.78864413 0.77742292 0.76875669 0.77053482 0.77020682\n",
            " 0.77609364 0.77616269 0.76858406 0.75334047 0.75506681 0.77647343\n",
            " 0.80164348 0.76450989 0.77602458 0.74646963 0.75560197 0.75919276\n",
            " 0.76604633 0.76996513 0.73749266 0.76963712 0.78144529 0.790733\n",
            " 0.7625246  0.73612885 0.75815696 0.76425094 0.76854953 0.77151883\n",
            " 0.79175155 0.77857957 0.73757898 0.75517434 0.76986617 0.78434622\n",
            " 0.79493213 0.80273539 0.80902308 0.81455088 0.81961447 0.82428408\n",
            " 0.82857859 0.83253556 0.83621502 0.83968127]\n",
            "13 day output [[0.84298676]]\n",
            "14 day input [0.73169216 0.74968063 0.75703484 0.77170873 0.77139799 0.78541588\n",
            " 0.78890308 0.79226945 0.81759486 0.81310638 0.82087491 0.81954563\n",
            " 0.85189725 0.85063702 0.82417222 0.8287125  0.81100024 0.78812623\n",
            " 0.81935573 0.83012809 0.8214446  0.79605013 0.78291268 0.75377205\n",
            " 0.73952974 0.72297414 0.7925284  0.82006353 0.83544522 0.83689535\n",
            " 0.84164279 0.84573421 0.85046439 0.85738701 0.85514277 0.86581155\n",
            " 0.88961779 0.88899631 0.87059352 0.84980838 0.84847909 0.81762939\n",
            " 0.80956738 0.83689535 0.82893692 0.77876946 0.80176432 0.78726306\n",
            " 0.81864793 0.79380589 0.78032317 0.7687049  0.79185513 0.79962366\n",
            " 0.78864413 0.77742292 0.76875669 0.77053482 0.77020682 0.77609364\n",
            " 0.77616269 0.76858406 0.75334047 0.75506681 0.77647343 0.80164348\n",
            " 0.76450989 0.77602458 0.74646963 0.75560197 0.75919276 0.76604633\n",
            " 0.76996513 0.73749266 0.76963712 0.78144529 0.790733   0.7625246\n",
            " 0.73612885 0.75815696 0.76425094 0.76854953 0.77151883 0.79175155\n",
            " 0.77857957 0.73757898 0.75517434 0.76986617 0.78434622 0.79493213\n",
            " 0.80273539 0.80902308 0.81455088 0.81961447 0.82428408 0.82857859\n",
            " 0.83253556 0.83621502 0.83968127 0.84298676]\n",
            "14 day output [[0.84616524]]\n",
            "15 day input [0.74968063 0.75703484 0.77170873 0.77139799 0.78541588 0.78890308\n",
            " 0.79226945 0.81759486 0.81310638 0.82087491 0.81954563 0.85189725\n",
            " 0.85063702 0.82417222 0.8287125  0.81100024 0.78812623 0.81935573\n",
            " 0.83012809 0.8214446  0.79605013 0.78291268 0.75377205 0.73952974\n",
            " 0.72297414 0.7925284  0.82006353 0.83544522 0.83689535 0.84164279\n",
            " 0.84573421 0.85046439 0.85738701 0.85514277 0.86581155 0.88961779\n",
            " 0.88899631 0.87059352 0.84980838 0.84847909 0.81762939 0.80956738\n",
            " 0.83689535 0.82893692 0.77876946 0.80176432 0.78726306 0.81864793\n",
            " 0.79380589 0.78032317 0.7687049  0.79185513 0.79962366 0.78864413\n",
            " 0.77742292 0.76875669 0.77053482 0.77020682 0.77609364 0.77616269\n",
            " 0.76858406 0.75334047 0.75506681 0.77647343 0.80164348 0.76450989\n",
            " 0.77602458 0.74646963 0.75560197 0.75919276 0.76604633 0.76996513\n",
            " 0.73749266 0.76963712 0.78144529 0.790733   0.7625246  0.73612885\n",
            " 0.75815696 0.76425094 0.76854953 0.77151883 0.79175155 0.77857957\n",
            " 0.73757898 0.75517434 0.76986617 0.78434622 0.79493213 0.80273539\n",
            " 0.80902308 0.81455088 0.81961447 0.82428408 0.82857859 0.83253556\n",
            " 0.83621502 0.83968127 0.84298676 0.84616524]\n",
            "15 day output [[0.84923214]]\n",
            "16 day input [0.75703484 0.77170873 0.77139799 0.78541588 0.78890308 0.79226945\n",
            " 0.81759486 0.81310638 0.82087491 0.81954563 0.85189725 0.85063702\n",
            " 0.82417222 0.8287125  0.81100024 0.78812623 0.81935573 0.83012809\n",
            " 0.8214446  0.79605013 0.78291268 0.75377205 0.73952974 0.72297414\n",
            " 0.7925284  0.82006353 0.83544522 0.83689535 0.84164279 0.84573421\n",
            " 0.85046439 0.85738701 0.85514277 0.86581155 0.88961779 0.88899631\n",
            " 0.87059352 0.84980838 0.84847909 0.81762939 0.80956738 0.83689535\n",
            " 0.82893692 0.77876946 0.80176432 0.78726306 0.81864793 0.79380589\n",
            " 0.78032317 0.7687049  0.79185513 0.79962366 0.78864413 0.77742292\n",
            " 0.76875669 0.77053482 0.77020682 0.77609364 0.77616269 0.76858406\n",
            " 0.75334047 0.75506681 0.77647343 0.80164348 0.76450989 0.77602458\n",
            " 0.74646963 0.75560197 0.75919276 0.76604633 0.76996513 0.73749266\n",
            " 0.76963712 0.78144529 0.790733   0.7625246  0.73612885 0.75815696\n",
            " 0.76425094 0.76854953 0.77151883 0.79175155 0.77857957 0.73757898\n",
            " 0.75517434 0.76986617 0.78434622 0.79493213 0.80273539 0.80902308\n",
            " 0.81455088 0.81961447 0.82428408 0.82857859 0.83253556 0.83621502\n",
            " 0.83968127 0.84298676 0.84616524 0.84923214]\n",
            "16 day output [[0.85218877]]\n",
            "17 day input [0.77170873 0.77139799 0.78541588 0.78890308 0.79226945 0.81759486\n",
            " 0.81310638 0.82087491 0.81954563 0.85189725 0.85063702 0.82417222\n",
            " 0.8287125  0.81100024 0.78812623 0.81935573 0.83012809 0.8214446\n",
            " 0.79605013 0.78291268 0.75377205 0.73952974 0.72297414 0.7925284\n",
            " 0.82006353 0.83544522 0.83689535 0.84164279 0.84573421 0.85046439\n",
            " 0.85738701 0.85514277 0.86581155 0.88961779 0.88899631 0.87059352\n",
            " 0.84980838 0.84847909 0.81762939 0.80956738 0.83689535 0.82893692\n",
            " 0.77876946 0.80176432 0.78726306 0.81864793 0.79380589 0.78032317\n",
            " 0.7687049  0.79185513 0.79962366 0.78864413 0.77742292 0.76875669\n",
            " 0.77053482 0.77020682 0.77609364 0.77616269 0.76858406 0.75334047\n",
            " 0.75506681 0.77647343 0.80164348 0.76450989 0.77602458 0.74646963\n",
            " 0.75560197 0.75919276 0.76604633 0.76996513 0.73749266 0.76963712\n",
            " 0.78144529 0.790733   0.7625246  0.73612885 0.75815696 0.76425094\n",
            " 0.76854953 0.77151883 0.79175155 0.77857957 0.73757898 0.75517434\n",
            " 0.76986617 0.78434622 0.79493213 0.80273539 0.80902308 0.81455088\n",
            " 0.81961447 0.82428408 0.82857859 0.83253556 0.83621502 0.83968127\n",
            " 0.84298676 0.84616524 0.84923214 0.85218877]\n",
            "17 day output [[0.8550274]]\n",
            "18 day input [0.77139799 0.78541588 0.78890308 0.79226945 0.81759486 0.81310638\n",
            " 0.82087491 0.81954563 0.85189725 0.85063702 0.82417222 0.8287125\n",
            " 0.81100024 0.78812623 0.81935573 0.83012809 0.8214446  0.79605013\n",
            " 0.78291268 0.75377205 0.73952974 0.72297414 0.7925284  0.82006353\n",
            " 0.83544522 0.83689535 0.84164279 0.84573421 0.85046439 0.85738701\n",
            " 0.85514277 0.86581155 0.88961779 0.88899631 0.87059352 0.84980838\n",
            " 0.84847909 0.81762939 0.80956738 0.83689535 0.82893692 0.77876946\n",
            " 0.80176432 0.78726306 0.81864793 0.79380589 0.78032317 0.7687049\n",
            " 0.79185513 0.79962366 0.78864413 0.77742292 0.76875669 0.77053482\n",
            " 0.77020682 0.77609364 0.77616269 0.76858406 0.75334047 0.75506681\n",
            " 0.77647343 0.80164348 0.76450989 0.77602458 0.74646963 0.75560197\n",
            " 0.75919276 0.76604633 0.76996513 0.73749266 0.76963712 0.78144529\n",
            " 0.790733   0.7625246  0.73612885 0.75815696 0.76425094 0.76854953\n",
            " 0.77151883 0.79175155 0.77857957 0.73757898 0.75517434 0.76986617\n",
            " 0.78434622 0.79493213 0.80273539 0.80902308 0.81455088 0.81961447\n",
            " 0.82428408 0.82857859 0.83253556 0.83621502 0.83968127 0.84298676\n",
            " 0.84616524 0.84923214 0.85218877 0.85502738]\n",
            "18 day output [[0.8577353]]\n",
            "19 day input [0.78541588 0.78890308 0.79226945 0.81759486 0.81310638 0.82087491\n",
            " 0.81954563 0.85189725 0.85063702 0.82417222 0.8287125  0.81100024\n",
            " 0.78812623 0.81935573 0.83012809 0.8214446  0.79605013 0.78291268\n",
            " 0.75377205 0.73952974 0.72297414 0.7925284  0.82006353 0.83544522\n",
            " 0.83689535 0.84164279 0.84573421 0.85046439 0.85738701 0.85514277\n",
            " 0.86581155 0.88961779 0.88899631 0.87059352 0.84980838 0.84847909\n",
            " 0.81762939 0.80956738 0.83689535 0.82893692 0.77876946 0.80176432\n",
            " 0.78726306 0.81864793 0.79380589 0.78032317 0.7687049  0.79185513\n",
            " 0.79962366 0.78864413 0.77742292 0.76875669 0.77053482 0.77020682\n",
            " 0.77609364 0.77616269 0.76858406 0.75334047 0.75506681 0.77647343\n",
            " 0.80164348 0.76450989 0.77602458 0.74646963 0.75560197 0.75919276\n",
            " 0.76604633 0.76996513 0.73749266 0.76963712 0.78144529 0.790733\n",
            " 0.7625246  0.73612885 0.75815696 0.76425094 0.76854953 0.77151883\n",
            " 0.79175155 0.77857957 0.73757898 0.75517434 0.76986617 0.78434622\n",
            " 0.79493213 0.80273539 0.80902308 0.81455088 0.81961447 0.82428408\n",
            " 0.82857859 0.83253556 0.83621502 0.83968127 0.84298676 0.84616524\n",
            " 0.84923214 0.85218877 0.85502738 0.85773528]\n",
            "19 day output [[0.8602986]]\n",
            "20 day input [0.78890308 0.79226945 0.81759486 0.81310638 0.82087491 0.81954563\n",
            " 0.85189725 0.85063702 0.82417222 0.8287125  0.81100024 0.78812623\n",
            " 0.81935573 0.83012809 0.8214446  0.79605013 0.78291268 0.75377205\n",
            " 0.73952974 0.72297414 0.7925284  0.82006353 0.83544522 0.83689535\n",
            " 0.84164279 0.84573421 0.85046439 0.85738701 0.85514277 0.86581155\n",
            " 0.88961779 0.88899631 0.87059352 0.84980838 0.84847909 0.81762939\n",
            " 0.80956738 0.83689535 0.82893692 0.77876946 0.80176432 0.78726306\n",
            " 0.81864793 0.79380589 0.78032317 0.7687049  0.79185513 0.79962366\n",
            " 0.78864413 0.77742292 0.76875669 0.77053482 0.77020682 0.77609364\n",
            " 0.77616269 0.76858406 0.75334047 0.75506681 0.77647343 0.80164348\n",
            " 0.76450989 0.77602458 0.74646963 0.75560197 0.75919276 0.76604633\n",
            " 0.76996513 0.73749266 0.76963712 0.78144529 0.790733   0.7625246\n",
            " 0.73612885 0.75815696 0.76425094 0.76854953 0.77151883 0.79175155\n",
            " 0.77857957 0.73757898 0.75517434 0.76986617 0.78434622 0.79493213\n",
            " 0.80273539 0.80902308 0.81455088 0.81961447 0.82428408 0.82857859\n",
            " 0.83253556 0.83621502 0.83968127 0.84298676 0.84616524 0.84923214\n",
            " 0.85218877 0.85502738 0.85773528 0.86029857]\n",
            "20 day output [[0.8627052]]\n",
            "21 day input [0.79226945 0.81759486 0.81310638 0.82087491 0.81954563 0.85189725\n",
            " 0.85063702 0.82417222 0.8287125  0.81100024 0.78812623 0.81935573\n",
            " 0.83012809 0.8214446  0.79605013 0.78291268 0.75377205 0.73952974\n",
            " 0.72297414 0.7925284  0.82006353 0.83544522 0.83689535 0.84164279\n",
            " 0.84573421 0.85046439 0.85738701 0.85514277 0.86581155 0.88961779\n",
            " 0.88899631 0.87059352 0.84980838 0.84847909 0.81762939 0.80956738\n",
            " 0.83689535 0.82893692 0.77876946 0.80176432 0.78726306 0.81864793\n",
            " 0.79380589 0.78032317 0.7687049  0.79185513 0.79962366 0.78864413\n",
            " 0.77742292 0.76875669 0.77053482 0.77020682 0.77609364 0.77616269\n",
            " 0.76858406 0.75334047 0.75506681 0.77647343 0.80164348 0.76450989\n",
            " 0.77602458 0.74646963 0.75560197 0.75919276 0.76604633 0.76996513\n",
            " 0.73749266 0.76963712 0.78144529 0.790733   0.7625246  0.73612885\n",
            " 0.75815696 0.76425094 0.76854953 0.77151883 0.79175155 0.77857957\n",
            " 0.73757898 0.75517434 0.76986617 0.78434622 0.79493213 0.80273539\n",
            " 0.80902308 0.81455088 0.81961447 0.82428408 0.82857859 0.83253556\n",
            " 0.83621502 0.83968127 0.84298676 0.84616524 0.84923214 0.85218877\n",
            " 0.85502738 0.85773528 0.86029857 0.86270517]\n",
            "21 day output [[0.8649459]]\n",
            "22 day input [0.81759486 0.81310638 0.82087491 0.81954563 0.85189725 0.85063702\n",
            " 0.82417222 0.8287125  0.81100024 0.78812623 0.81935573 0.83012809\n",
            " 0.8214446  0.79605013 0.78291268 0.75377205 0.73952974 0.72297414\n",
            " 0.7925284  0.82006353 0.83544522 0.83689535 0.84164279 0.84573421\n",
            " 0.85046439 0.85738701 0.85514277 0.86581155 0.88961779 0.88899631\n",
            " 0.87059352 0.84980838 0.84847909 0.81762939 0.80956738 0.83689535\n",
            " 0.82893692 0.77876946 0.80176432 0.78726306 0.81864793 0.79380589\n",
            " 0.78032317 0.7687049  0.79185513 0.79962366 0.78864413 0.77742292\n",
            " 0.76875669 0.77053482 0.77020682 0.77609364 0.77616269 0.76858406\n",
            " 0.75334047 0.75506681 0.77647343 0.80164348 0.76450989 0.77602458\n",
            " 0.74646963 0.75560197 0.75919276 0.76604633 0.76996513 0.73749266\n",
            " 0.76963712 0.78144529 0.790733   0.7625246  0.73612885 0.75815696\n",
            " 0.76425094 0.76854953 0.77151883 0.79175155 0.77857957 0.73757898\n",
            " 0.75517434 0.76986617 0.78434622 0.79493213 0.80273539 0.80902308\n",
            " 0.81455088 0.81961447 0.82428408 0.82857859 0.83253556 0.83621502\n",
            " 0.83968127 0.84298676 0.84616524 0.84923214 0.85218877 0.85502738\n",
            " 0.85773528 0.86029857 0.86270517 0.86494589]\n",
            "22 day output [[0.8670157]]\n",
            "23 day input [0.81310638 0.82087491 0.81954563 0.85189725 0.85063702 0.82417222\n",
            " 0.8287125  0.81100024 0.78812623 0.81935573 0.83012809 0.8214446\n",
            " 0.79605013 0.78291268 0.75377205 0.73952974 0.72297414 0.7925284\n",
            " 0.82006353 0.83544522 0.83689535 0.84164279 0.84573421 0.85046439\n",
            " 0.85738701 0.85514277 0.86581155 0.88961779 0.88899631 0.87059352\n",
            " 0.84980838 0.84847909 0.81762939 0.80956738 0.83689535 0.82893692\n",
            " 0.77876946 0.80176432 0.78726306 0.81864793 0.79380589 0.78032317\n",
            " 0.7687049  0.79185513 0.79962366 0.78864413 0.77742292 0.76875669\n",
            " 0.77053482 0.77020682 0.77609364 0.77616269 0.76858406 0.75334047\n",
            " 0.75506681 0.77647343 0.80164348 0.76450989 0.77602458 0.74646963\n",
            " 0.75560197 0.75919276 0.76604633 0.76996513 0.73749266 0.76963712\n",
            " 0.78144529 0.790733   0.7625246  0.73612885 0.75815696 0.76425094\n",
            " 0.76854953 0.77151883 0.79175155 0.77857957 0.73757898 0.75517434\n",
            " 0.76986617 0.78434622 0.79493213 0.80273539 0.80902308 0.81455088\n",
            " 0.81961447 0.82428408 0.82857859 0.83253556 0.83621502 0.83968127\n",
            " 0.84298676 0.84616524 0.84923214 0.85218877 0.85502738 0.85773528\n",
            " 0.86029857 0.86270517 0.86494589 0.86701572]\n",
            "23 day output [[0.86891395]]\n",
            "24 day input [0.82087491 0.81954563 0.85189725 0.85063702 0.82417222 0.8287125\n",
            " 0.81100024 0.78812623 0.81935573 0.83012809 0.8214446  0.79605013\n",
            " 0.78291268 0.75377205 0.73952974 0.72297414 0.7925284  0.82006353\n",
            " 0.83544522 0.83689535 0.84164279 0.84573421 0.85046439 0.85738701\n",
            " 0.85514277 0.86581155 0.88961779 0.88899631 0.87059352 0.84980838\n",
            " 0.84847909 0.81762939 0.80956738 0.83689535 0.82893692 0.77876946\n",
            " 0.80176432 0.78726306 0.81864793 0.79380589 0.78032317 0.7687049\n",
            " 0.79185513 0.79962366 0.78864413 0.77742292 0.76875669 0.77053482\n",
            " 0.77020682 0.77609364 0.77616269 0.76858406 0.75334047 0.75506681\n",
            " 0.77647343 0.80164348 0.76450989 0.77602458 0.74646963 0.75560197\n",
            " 0.75919276 0.76604633 0.76996513 0.73749266 0.76963712 0.78144529\n",
            " 0.790733   0.7625246  0.73612885 0.75815696 0.76425094 0.76854953\n",
            " 0.77151883 0.79175155 0.77857957 0.73757898 0.75517434 0.76986617\n",
            " 0.78434622 0.79493213 0.80273539 0.80902308 0.81455088 0.81961447\n",
            " 0.82428408 0.82857859 0.83253556 0.83621502 0.83968127 0.84298676\n",
            " 0.84616524 0.84923214 0.85218877 0.85502738 0.85773528 0.86029857\n",
            " 0.86270517 0.86494589 0.86701572 0.86891395]\n",
            "24 day output [[0.87064403]]\n",
            "25 day input [0.81954563 0.85189725 0.85063702 0.82417222 0.8287125  0.81100024\n",
            " 0.78812623 0.81935573 0.83012809 0.8214446  0.79605013 0.78291268\n",
            " 0.75377205 0.73952974 0.72297414 0.7925284  0.82006353 0.83544522\n",
            " 0.83689535 0.84164279 0.84573421 0.85046439 0.85738701 0.85514277\n",
            " 0.86581155 0.88961779 0.88899631 0.87059352 0.84980838 0.84847909\n",
            " 0.81762939 0.80956738 0.83689535 0.82893692 0.77876946 0.80176432\n",
            " 0.78726306 0.81864793 0.79380589 0.78032317 0.7687049  0.79185513\n",
            " 0.79962366 0.78864413 0.77742292 0.76875669 0.77053482 0.77020682\n",
            " 0.77609364 0.77616269 0.76858406 0.75334047 0.75506681 0.77647343\n",
            " 0.80164348 0.76450989 0.77602458 0.74646963 0.75560197 0.75919276\n",
            " 0.76604633 0.76996513 0.73749266 0.76963712 0.78144529 0.790733\n",
            " 0.7625246  0.73612885 0.75815696 0.76425094 0.76854953 0.77151883\n",
            " 0.79175155 0.77857957 0.73757898 0.75517434 0.76986617 0.78434622\n",
            " 0.79493213 0.80273539 0.80902308 0.81455088 0.81961447 0.82428408\n",
            " 0.82857859 0.83253556 0.83621502 0.83968127 0.84298676 0.84616524\n",
            " 0.84923214 0.85218877 0.85502738 0.85773528 0.86029857 0.86270517\n",
            " 0.86494589 0.86701572 0.86891395 0.87064403]\n",
            "25 day output [[0.8722126]]\n",
            "26 day input [0.85189725 0.85063702 0.82417222 0.8287125  0.81100024 0.78812623\n",
            " 0.81935573 0.83012809 0.8214446  0.79605013 0.78291268 0.75377205\n",
            " 0.73952974 0.72297414 0.7925284  0.82006353 0.83544522 0.83689535\n",
            " 0.84164279 0.84573421 0.85046439 0.85738701 0.85514277 0.86581155\n",
            " 0.88961779 0.88899631 0.87059352 0.84980838 0.84847909 0.81762939\n",
            " 0.80956738 0.83689535 0.82893692 0.77876946 0.80176432 0.78726306\n",
            " 0.81864793 0.79380589 0.78032317 0.7687049  0.79185513 0.79962366\n",
            " 0.78864413 0.77742292 0.76875669 0.77053482 0.77020682 0.77609364\n",
            " 0.77616269 0.76858406 0.75334047 0.75506681 0.77647343 0.80164348\n",
            " 0.76450989 0.77602458 0.74646963 0.75560197 0.75919276 0.76604633\n",
            " 0.76996513 0.73749266 0.76963712 0.78144529 0.790733   0.7625246\n",
            " 0.73612885 0.75815696 0.76425094 0.76854953 0.77151883 0.79175155\n",
            " 0.77857957 0.73757898 0.75517434 0.76986617 0.78434622 0.79493213\n",
            " 0.80273539 0.80902308 0.81455088 0.81961447 0.82428408 0.82857859\n",
            " 0.83253556 0.83621502 0.83968127 0.84298676 0.84616524 0.84923214\n",
            " 0.85218877 0.85502738 0.85773528 0.86029857 0.86270517 0.86494589\n",
            " 0.86701572 0.86891395 0.87064403 0.87221259]\n",
            "26 day output [[0.87362915]]\n",
            "27 day input [0.85063702 0.82417222 0.8287125  0.81100024 0.78812623 0.81935573\n",
            " 0.83012809 0.8214446  0.79605013 0.78291268 0.75377205 0.73952974\n",
            " 0.72297414 0.7925284  0.82006353 0.83544522 0.83689535 0.84164279\n",
            " 0.84573421 0.85046439 0.85738701 0.85514277 0.86581155 0.88961779\n",
            " 0.88899631 0.87059352 0.84980838 0.84847909 0.81762939 0.80956738\n",
            " 0.83689535 0.82893692 0.77876946 0.80176432 0.78726306 0.81864793\n",
            " 0.79380589 0.78032317 0.7687049  0.79185513 0.79962366 0.78864413\n",
            " 0.77742292 0.76875669 0.77053482 0.77020682 0.77609364 0.77616269\n",
            " 0.76858406 0.75334047 0.75506681 0.77647343 0.80164348 0.76450989\n",
            " 0.77602458 0.74646963 0.75560197 0.75919276 0.76604633 0.76996513\n",
            " 0.73749266 0.76963712 0.78144529 0.790733   0.7625246  0.73612885\n",
            " 0.75815696 0.76425094 0.76854953 0.77151883 0.79175155 0.77857957\n",
            " 0.73757898 0.75517434 0.76986617 0.78434622 0.79493213 0.80273539\n",
            " 0.80902308 0.81455088 0.81961447 0.82428408 0.82857859 0.83253556\n",
            " 0.83621502 0.83968127 0.84298676 0.84616524 0.84923214 0.85218877\n",
            " 0.85502738 0.85773528 0.86029857 0.86270517 0.86494589 0.86701572\n",
            " 0.86891395 0.87064403 0.87221259 0.87362915]\n",
            "27 day output [[0.8749049]]\n",
            "28 day input [0.82417222 0.8287125  0.81100024 0.78812623 0.81935573 0.83012809\n",
            " 0.8214446  0.79605013 0.78291268 0.75377205 0.73952974 0.72297414\n",
            " 0.7925284  0.82006353 0.83544522 0.83689535 0.84164279 0.84573421\n",
            " 0.85046439 0.85738701 0.85514277 0.86581155 0.88961779 0.88899631\n",
            " 0.87059352 0.84980838 0.84847909 0.81762939 0.80956738 0.83689535\n",
            " 0.82893692 0.77876946 0.80176432 0.78726306 0.81864793 0.79380589\n",
            " 0.78032317 0.7687049  0.79185513 0.79962366 0.78864413 0.77742292\n",
            " 0.76875669 0.77053482 0.77020682 0.77609364 0.77616269 0.76858406\n",
            " 0.75334047 0.75506681 0.77647343 0.80164348 0.76450989 0.77602458\n",
            " 0.74646963 0.75560197 0.75919276 0.76604633 0.76996513 0.73749266\n",
            " 0.76963712 0.78144529 0.790733   0.7625246  0.73612885 0.75815696\n",
            " 0.76425094 0.76854953 0.77151883 0.79175155 0.77857957 0.73757898\n",
            " 0.75517434 0.76986617 0.78434622 0.79493213 0.80273539 0.80902308\n",
            " 0.81455088 0.81961447 0.82428408 0.82857859 0.83253556 0.83621502\n",
            " 0.83968127 0.84298676 0.84616524 0.84923214 0.85218877 0.85502738\n",
            " 0.85773528 0.86029857 0.86270517 0.86494589 0.86701572 0.86891395\n",
            " 0.87064403 0.87221259 0.87362915 0.87490487]\n",
            "28 day output [[0.87605196]]\n",
            "29 day input [0.8287125  0.81100024 0.78812623 0.81935573 0.83012809 0.8214446\n",
            " 0.79605013 0.78291268 0.75377205 0.73952974 0.72297414 0.7925284\n",
            " 0.82006353 0.83544522 0.83689535 0.84164279 0.84573421 0.85046439\n",
            " 0.85738701 0.85514277 0.86581155 0.88961779 0.88899631 0.87059352\n",
            " 0.84980838 0.84847909 0.81762939 0.80956738 0.83689535 0.82893692\n",
            " 0.77876946 0.80176432 0.78726306 0.81864793 0.79380589 0.78032317\n",
            " 0.7687049  0.79185513 0.79962366 0.78864413 0.77742292 0.76875669\n",
            " 0.77053482 0.77020682 0.77609364 0.77616269 0.76858406 0.75334047\n",
            " 0.75506681 0.77647343 0.80164348 0.76450989 0.77602458 0.74646963\n",
            " 0.75560197 0.75919276 0.76604633 0.76996513 0.73749266 0.76963712\n",
            " 0.78144529 0.790733   0.7625246  0.73612885 0.75815696 0.76425094\n",
            " 0.76854953 0.77151883 0.79175155 0.77857957 0.73757898 0.75517434\n",
            " 0.76986617 0.78434622 0.79493213 0.80273539 0.80902308 0.81455088\n",
            " 0.81961447 0.82428408 0.82857859 0.83253556 0.83621502 0.83968127\n",
            " 0.84298676 0.84616524 0.84923214 0.85218877 0.85502738 0.85773528\n",
            " 0.86029857 0.86270517 0.86494589 0.86701572 0.86891395 0.87064403\n",
            " 0.87221259 0.87362915 0.87490487 0.87605196]\n",
            "29 day output [[0.8770827]]\n",
            "30 day input [0.81100024 0.78812623 0.81935573 0.83012809 0.8214446  0.79605013\n",
            " 0.78291268 0.75377205 0.73952974 0.72297414 0.7925284  0.82006353\n",
            " 0.83544522 0.83689535 0.84164279 0.84573421 0.85046439 0.85738701\n",
            " 0.85514277 0.86581155 0.88961779 0.88899631 0.87059352 0.84980838\n",
            " 0.84847909 0.81762939 0.80956738 0.83689535 0.82893692 0.77876946\n",
            " 0.80176432 0.78726306 0.81864793 0.79380589 0.78032317 0.7687049\n",
            " 0.79185513 0.79962366 0.78864413 0.77742292 0.76875669 0.77053482\n",
            " 0.77020682 0.77609364 0.77616269 0.76858406 0.75334047 0.75506681\n",
            " 0.77647343 0.80164348 0.76450989 0.77602458 0.74646963 0.75560197\n",
            " 0.75919276 0.76604633 0.76996513 0.73749266 0.76963712 0.78144529\n",
            " 0.790733   0.7625246  0.73612885 0.75815696 0.76425094 0.76854953\n",
            " 0.77151883 0.79175155 0.77857957 0.73757898 0.75517434 0.76986617\n",
            " 0.78434622 0.79493213 0.80273539 0.80902308 0.81455088 0.81961447\n",
            " 0.82428408 0.82857859 0.83253556 0.83621502 0.83968127 0.84298676\n",
            " 0.84616524 0.84923214 0.85218877 0.85502738 0.85773528 0.86029857\n",
            " 0.86270517 0.86494589 0.86701572 0.86891395 0.87064403 0.87221259\n",
            " 0.87362915 0.87490487 0.87605196 0.87708271]\n",
            "30 day output [[0.878009]]\n",
            "31 day input [0.78812623 0.81935573 0.83012809 0.8214446  0.79605013 0.78291268\n",
            " 0.75377205 0.73952974 0.72297414 0.7925284  0.82006353 0.83544522\n",
            " 0.83689535 0.84164279 0.84573421 0.85046439 0.85738701 0.85514277\n",
            " 0.86581155 0.88961779 0.88899631 0.87059352 0.84980838 0.84847909\n",
            " 0.81762939 0.80956738 0.83689535 0.82893692 0.77876946 0.80176432\n",
            " 0.78726306 0.81864793 0.79380589 0.78032317 0.7687049  0.79185513\n",
            " 0.79962366 0.78864413 0.77742292 0.76875669 0.77053482 0.77020682\n",
            " 0.77609364 0.77616269 0.76858406 0.75334047 0.75506681 0.77647343\n",
            " 0.80164348 0.76450989 0.77602458 0.74646963 0.75560197 0.75919276\n",
            " 0.76604633 0.76996513 0.73749266 0.76963712 0.78144529 0.790733\n",
            " 0.7625246  0.73612885 0.75815696 0.76425094 0.76854953 0.77151883\n",
            " 0.79175155 0.77857957 0.73757898 0.75517434 0.76986617 0.78434622\n",
            " 0.79493213 0.80273539 0.80902308 0.81455088 0.81961447 0.82428408\n",
            " 0.82857859 0.83253556 0.83621502 0.83968127 0.84298676 0.84616524\n",
            " 0.84923214 0.85218877 0.85502738 0.85773528 0.86029857 0.86270517\n",
            " 0.86494589 0.86701572 0.86891395 0.87064403 0.87221259 0.87362915\n",
            " 0.87490487 0.87605196 0.87708271 0.87800902]\n",
            "31 day output [[0.8788418]]\n",
            "32 day input [0.81935573 0.83012809 0.8214446  0.79605013 0.78291268 0.75377205\n",
            " 0.73952974 0.72297414 0.7925284  0.82006353 0.83544522 0.83689535\n",
            " 0.84164279 0.84573421 0.85046439 0.85738701 0.85514277 0.86581155\n",
            " 0.88961779 0.88899631 0.87059352 0.84980838 0.84847909 0.81762939\n",
            " 0.80956738 0.83689535 0.82893692 0.77876946 0.80176432 0.78726306\n",
            " 0.81864793 0.79380589 0.78032317 0.7687049  0.79185513 0.79962366\n",
            " 0.78864413 0.77742292 0.76875669 0.77053482 0.77020682 0.77609364\n",
            " 0.77616269 0.76858406 0.75334047 0.75506681 0.77647343 0.80164348\n",
            " 0.76450989 0.77602458 0.74646963 0.75560197 0.75919276 0.76604633\n",
            " 0.76996513 0.73749266 0.76963712 0.78144529 0.790733   0.7625246\n",
            " 0.73612885 0.75815696 0.76425094 0.76854953 0.77151883 0.79175155\n",
            " 0.77857957 0.73757898 0.75517434 0.76986617 0.78434622 0.79493213\n",
            " 0.80273539 0.80902308 0.81455088 0.81961447 0.82428408 0.82857859\n",
            " 0.83253556 0.83621502 0.83968127 0.84298676 0.84616524 0.84923214\n",
            " 0.85218877 0.85502738 0.85773528 0.86029857 0.86270517 0.86494589\n",
            " 0.86701572 0.86891395 0.87064403 0.87221259 0.87362915 0.87490487\n",
            " 0.87605196 0.87708271 0.87800902 0.87884182]\n",
            "32 day output [[0.87959105]]\n",
            "33 day input [0.83012809 0.8214446  0.79605013 0.78291268 0.75377205 0.73952974\n",
            " 0.72297414 0.7925284  0.82006353 0.83544522 0.83689535 0.84164279\n",
            " 0.84573421 0.85046439 0.85738701 0.85514277 0.86581155 0.88961779\n",
            " 0.88899631 0.87059352 0.84980838 0.84847909 0.81762939 0.80956738\n",
            " 0.83689535 0.82893692 0.77876946 0.80176432 0.78726306 0.81864793\n",
            " 0.79380589 0.78032317 0.7687049  0.79185513 0.79962366 0.78864413\n",
            " 0.77742292 0.76875669 0.77053482 0.77020682 0.77609364 0.77616269\n",
            " 0.76858406 0.75334047 0.75506681 0.77647343 0.80164348 0.76450989\n",
            " 0.77602458 0.74646963 0.75560197 0.75919276 0.76604633 0.76996513\n",
            " 0.73749266 0.76963712 0.78144529 0.790733   0.7625246  0.73612885\n",
            " 0.75815696 0.76425094 0.76854953 0.77151883 0.79175155 0.77857957\n",
            " 0.73757898 0.75517434 0.76986617 0.78434622 0.79493213 0.80273539\n",
            " 0.80902308 0.81455088 0.81961447 0.82428408 0.82857859 0.83253556\n",
            " 0.83621502 0.83968127 0.84298676 0.84616524 0.84923214 0.85218877\n",
            " 0.85502738 0.85773528 0.86029857 0.86270517 0.86494589 0.86701572\n",
            " 0.86891395 0.87064403 0.87221259 0.87362915 0.87490487 0.87605196\n",
            " 0.87708271 0.87800902 0.87884182 0.87959105]\n",
            "33 day output [[0.88026565]]\n",
            "34 day input [0.8214446  0.79605013 0.78291268 0.75377205 0.73952974 0.72297414\n",
            " 0.7925284  0.82006353 0.83544522 0.83689535 0.84164279 0.84573421\n",
            " 0.85046439 0.85738701 0.85514277 0.86581155 0.88961779 0.88899631\n",
            " 0.87059352 0.84980838 0.84847909 0.81762939 0.80956738 0.83689535\n",
            " 0.82893692 0.77876946 0.80176432 0.78726306 0.81864793 0.79380589\n",
            " 0.78032317 0.7687049  0.79185513 0.79962366 0.78864413 0.77742292\n",
            " 0.76875669 0.77053482 0.77020682 0.77609364 0.77616269 0.76858406\n",
            " 0.75334047 0.75506681 0.77647343 0.80164348 0.76450989 0.77602458\n",
            " 0.74646963 0.75560197 0.75919276 0.76604633 0.76996513 0.73749266\n",
            " 0.76963712 0.78144529 0.790733   0.7625246  0.73612885 0.75815696\n",
            " 0.76425094 0.76854953 0.77151883 0.79175155 0.77857957 0.73757898\n",
            " 0.75517434 0.76986617 0.78434622 0.79493213 0.80273539 0.80902308\n",
            " 0.81455088 0.81961447 0.82428408 0.82857859 0.83253556 0.83621502\n",
            " 0.83968127 0.84298676 0.84616524 0.84923214 0.85218877 0.85502738\n",
            " 0.85773528 0.86029857 0.86270517 0.86494589 0.86701572 0.86891395\n",
            " 0.87064403 0.87221259 0.87362915 0.87490487 0.87605196 0.87708271\n",
            " 0.87800902 0.87884182 0.87959105 0.88026565]\n",
            "34 day output [[0.88087314]]\n",
            "35 day input [0.79605013 0.78291268 0.75377205 0.73952974 0.72297414 0.7925284\n",
            " 0.82006353 0.83544522 0.83689535 0.84164279 0.84573421 0.85046439\n",
            " 0.85738701 0.85514277 0.86581155 0.88961779 0.88899631 0.87059352\n",
            " 0.84980838 0.84847909 0.81762939 0.80956738 0.83689535 0.82893692\n",
            " 0.77876946 0.80176432 0.78726306 0.81864793 0.79380589 0.78032317\n",
            " 0.7687049  0.79185513 0.79962366 0.78864413 0.77742292 0.76875669\n",
            " 0.77053482 0.77020682 0.77609364 0.77616269 0.76858406 0.75334047\n",
            " 0.75506681 0.77647343 0.80164348 0.76450989 0.77602458 0.74646963\n",
            " 0.75560197 0.75919276 0.76604633 0.76996513 0.73749266 0.76963712\n",
            " 0.78144529 0.790733   0.7625246  0.73612885 0.75815696 0.76425094\n",
            " 0.76854953 0.77151883 0.79175155 0.77857957 0.73757898 0.75517434\n",
            " 0.76986617 0.78434622 0.79493213 0.80273539 0.80902308 0.81455088\n",
            " 0.81961447 0.82428408 0.82857859 0.83253556 0.83621502 0.83968127\n",
            " 0.84298676 0.84616524 0.84923214 0.85218877 0.85502738 0.85773528\n",
            " 0.86029857 0.86270517 0.86494589 0.86701572 0.86891395 0.87064403\n",
            " 0.87221259 0.87362915 0.87490487 0.87605196 0.87708271 0.87800902\n",
            " 0.87884182 0.87959105 0.88026565 0.88087314]\n",
            "35 day output [[0.8814202]]\n",
            "36 day input [0.78291268 0.75377205 0.73952974 0.72297414 0.7925284  0.82006353\n",
            " 0.83544522 0.83689535 0.84164279 0.84573421 0.85046439 0.85738701\n",
            " 0.85514277 0.86581155 0.88961779 0.88899631 0.87059352 0.84980838\n",
            " 0.84847909 0.81762939 0.80956738 0.83689535 0.82893692 0.77876946\n",
            " 0.80176432 0.78726306 0.81864793 0.79380589 0.78032317 0.7687049\n",
            " 0.79185513 0.79962366 0.78864413 0.77742292 0.76875669 0.77053482\n",
            " 0.77020682 0.77609364 0.77616269 0.76858406 0.75334047 0.75506681\n",
            " 0.77647343 0.80164348 0.76450989 0.77602458 0.74646963 0.75560197\n",
            " 0.75919276 0.76604633 0.76996513 0.73749266 0.76963712 0.78144529\n",
            " 0.790733   0.7625246  0.73612885 0.75815696 0.76425094 0.76854953\n",
            " 0.77151883 0.79175155 0.77857957 0.73757898 0.75517434 0.76986617\n",
            " 0.78434622 0.79493213 0.80273539 0.80902308 0.81455088 0.81961447\n",
            " 0.82428408 0.82857859 0.83253556 0.83621502 0.83968127 0.84298676\n",
            " 0.84616524 0.84923214 0.85218877 0.85502738 0.85773528 0.86029857\n",
            " 0.86270517 0.86494589 0.86701572 0.86891395 0.87064403 0.87221259\n",
            " 0.87362915 0.87490487 0.87605196 0.87708271 0.87800902 0.87884182\n",
            " 0.87959105 0.88026565 0.88087314 0.8814202 ]\n",
            "36 day output [[0.8819124]]\n",
            "37 day input [0.75377205 0.73952974 0.72297414 0.7925284  0.82006353 0.83544522\n",
            " 0.83689535 0.84164279 0.84573421 0.85046439 0.85738701 0.85514277\n",
            " 0.86581155 0.88961779 0.88899631 0.87059352 0.84980838 0.84847909\n",
            " 0.81762939 0.80956738 0.83689535 0.82893692 0.77876946 0.80176432\n",
            " 0.78726306 0.81864793 0.79380589 0.78032317 0.7687049  0.79185513\n",
            " 0.79962366 0.78864413 0.77742292 0.76875669 0.77053482 0.77020682\n",
            " 0.77609364 0.77616269 0.76858406 0.75334047 0.75506681 0.77647343\n",
            " 0.80164348 0.76450989 0.77602458 0.74646963 0.75560197 0.75919276\n",
            " 0.76604633 0.76996513 0.73749266 0.76963712 0.78144529 0.790733\n",
            " 0.7625246  0.73612885 0.75815696 0.76425094 0.76854953 0.77151883\n",
            " 0.79175155 0.77857957 0.73757898 0.75517434 0.76986617 0.78434622\n",
            " 0.79493213 0.80273539 0.80902308 0.81455088 0.81961447 0.82428408\n",
            " 0.82857859 0.83253556 0.83621502 0.83968127 0.84298676 0.84616524\n",
            " 0.84923214 0.85218877 0.85502738 0.85773528 0.86029857 0.86270517\n",
            " 0.86494589 0.86701572 0.86891395 0.87064403 0.87221259 0.87362915\n",
            " 0.87490487 0.87605196 0.87708271 0.87800902 0.87884182 0.87959105\n",
            " 0.88026565 0.88087314 0.8814202  0.88191241]\n",
            "37 day output [[0.8823546]]\n",
            "38 day input [0.73952974 0.72297414 0.7925284  0.82006353 0.83544522 0.83689535\n",
            " 0.84164279 0.84573421 0.85046439 0.85738701 0.85514277 0.86581155\n",
            " 0.88961779 0.88899631 0.87059352 0.84980838 0.84847909 0.81762939\n",
            " 0.80956738 0.83689535 0.82893692 0.77876946 0.80176432 0.78726306\n",
            " 0.81864793 0.79380589 0.78032317 0.7687049  0.79185513 0.79962366\n",
            " 0.78864413 0.77742292 0.76875669 0.77053482 0.77020682 0.77609364\n",
            " 0.77616269 0.76858406 0.75334047 0.75506681 0.77647343 0.80164348\n",
            " 0.76450989 0.77602458 0.74646963 0.75560197 0.75919276 0.76604633\n",
            " 0.76996513 0.73749266 0.76963712 0.78144529 0.790733   0.7625246\n",
            " 0.73612885 0.75815696 0.76425094 0.76854953 0.77151883 0.79175155\n",
            " 0.77857957 0.73757898 0.75517434 0.76986617 0.78434622 0.79493213\n",
            " 0.80273539 0.80902308 0.81455088 0.81961447 0.82428408 0.82857859\n",
            " 0.83253556 0.83621502 0.83968127 0.84298676 0.84616524 0.84923214\n",
            " 0.85218877 0.85502738 0.85773528 0.86029857 0.86270517 0.86494589\n",
            " 0.86701572 0.86891395 0.87064403 0.87221259 0.87362915 0.87490487\n",
            " 0.87605196 0.87708271 0.87800902 0.87884182 0.87959105 0.88026565\n",
            " 0.88087314 0.8814202  0.88191241 0.88235462]\n",
            "38 day output [[0.88275105]]\n",
            "39 day input [0.72297414 0.7925284  0.82006353 0.83544522 0.83689535 0.84164279\n",
            " 0.84573421 0.85046439 0.85738701 0.85514277 0.86581155 0.88961779\n",
            " 0.88899631 0.87059352 0.84980838 0.84847909 0.81762939 0.80956738\n",
            " 0.83689535 0.82893692 0.77876946 0.80176432 0.78726306 0.81864793\n",
            " 0.79380589 0.78032317 0.7687049  0.79185513 0.79962366 0.78864413\n",
            " 0.77742292 0.76875669 0.77053482 0.77020682 0.77609364 0.77616269\n",
            " 0.76858406 0.75334047 0.75506681 0.77647343 0.80164348 0.76450989\n",
            " 0.77602458 0.74646963 0.75560197 0.75919276 0.76604633 0.76996513\n",
            " 0.73749266 0.76963712 0.78144529 0.790733   0.7625246  0.73612885\n",
            " 0.75815696 0.76425094 0.76854953 0.77151883 0.79175155 0.77857957\n",
            " 0.73757898 0.75517434 0.76986617 0.78434622 0.79493213 0.80273539\n",
            " 0.80902308 0.81455088 0.81961447 0.82428408 0.82857859 0.83253556\n",
            " 0.83621502 0.83968127 0.84298676 0.84616524 0.84923214 0.85218877\n",
            " 0.85502738 0.85773528 0.86029857 0.86270517 0.86494589 0.86701572\n",
            " 0.86891395 0.87064403 0.87221259 0.87362915 0.87490487 0.87605196\n",
            " 0.87708271 0.87800902 0.87884182 0.87959105 0.88026565 0.88087314\n",
            " 0.8814202  0.88191241 0.88235462 0.88275105]\n",
            "39 day output [[0.8831055]]\n",
            "40 day input [0.7925284  0.82006353 0.83544522 0.83689535 0.84164279 0.84573421\n",
            " 0.85046439 0.85738701 0.85514277 0.86581155 0.88961779 0.88899631\n",
            " 0.87059352 0.84980838 0.84847909 0.81762939 0.80956738 0.83689535\n",
            " 0.82893692 0.77876946 0.80176432 0.78726306 0.81864793 0.79380589\n",
            " 0.78032317 0.7687049  0.79185513 0.79962366 0.78864413 0.77742292\n",
            " 0.76875669 0.77053482 0.77020682 0.77609364 0.77616269 0.76858406\n",
            " 0.75334047 0.75506681 0.77647343 0.80164348 0.76450989 0.77602458\n",
            " 0.74646963 0.75560197 0.75919276 0.76604633 0.76996513 0.73749266\n",
            " 0.76963712 0.78144529 0.790733   0.7625246  0.73612885 0.75815696\n",
            " 0.76425094 0.76854953 0.77151883 0.79175155 0.77857957 0.73757898\n",
            " 0.75517434 0.76986617 0.78434622 0.79493213 0.80273539 0.80902308\n",
            " 0.81455088 0.81961447 0.82428408 0.82857859 0.83253556 0.83621502\n",
            " 0.83968127 0.84298676 0.84616524 0.84923214 0.85218877 0.85502738\n",
            " 0.85773528 0.86029857 0.86270517 0.86494589 0.86701572 0.86891395\n",
            " 0.87064403 0.87221259 0.87362915 0.87490487 0.87605196 0.87708271\n",
            " 0.87800902 0.87884182 0.87959105 0.88026565 0.88087314 0.8814202\n",
            " 0.88191241 0.88235462 0.88275105 0.88310552]\n",
            "40 day output [[0.8834214]]\n",
            "41 day input [0.82006353 0.83544522 0.83689535 0.84164279 0.84573421 0.85046439\n",
            " 0.85738701 0.85514277 0.86581155 0.88961779 0.88899631 0.87059352\n",
            " 0.84980838 0.84847909 0.81762939 0.80956738 0.83689535 0.82893692\n",
            " 0.77876946 0.80176432 0.78726306 0.81864793 0.79380589 0.78032317\n",
            " 0.7687049  0.79185513 0.79962366 0.78864413 0.77742292 0.76875669\n",
            " 0.77053482 0.77020682 0.77609364 0.77616269 0.76858406 0.75334047\n",
            " 0.75506681 0.77647343 0.80164348 0.76450989 0.77602458 0.74646963\n",
            " 0.75560197 0.75919276 0.76604633 0.76996513 0.73749266 0.76963712\n",
            " 0.78144529 0.790733   0.7625246  0.73612885 0.75815696 0.76425094\n",
            " 0.76854953 0.77151883 0.79175155 0.77857957 0.73757898 0.75517434\n",
            " 0.76986617 0.78434622 0.79493213 0.80273539 0.80902308 0.81455088\n",
            " 0.81961447 0.82428408 0.82857859 0.83253556 0.83621502 0.83968127\n",
            " 0.84298676 0.84616524 0.84923214 0.85218877 0.85502738 0.85773528\n",
            " 0.86029857 0.86270517 0.86494589 0.86701572 0.86891395 0.87064403\n",
            " 0.87221259 0.87362915 0.87490487 0.87605196 0.87708271 0.87800902\n",
            " 0.87884182 0.87959105 0.88026565 0.88087314 0.8814202  0.88191241\n",
            " 0.88235462 0.88275105 0.88310552 0.88342142]\n",
            "41 day output [[0.8837021]]\n",
            "42 day input [0.83544522 0.83689535 0.84164279 0.84573421 0.85046439 0.85738701\n",
            " 0.85514277 0.86581155 0.88961779 0.88899631 0.87059352 0.84980838\n",
            " 0.84847909 0.81762939 0.80956738 0.83689535 0.82893692 0.77876946\n",
            " 0.80176432 0.78726306 0.81864793 0.79380589 0.78032317 0.7687049\n",
            " 0.79185513 0.79962366 0.78864413 0.77742292 0.76875669 0.77053482\n",
            " 0.77020682 0.77609364 0.77616269 0.76858406 0.75334047 0.75506681\n",
            " 0.77647343 0.80164348 0.76450989 0.77602458 0.74646963 0.75560197\n",
            " 0.75919276 0.76604633 0.76996513 0.73749266 0.76963712 0.78144529\n",
            " 0.790733   0.7625246  0.73612885 0.75815696 0.76425094 0.76854953\n",
            " 0.77151883 0.79175155 0.77857957 0.73757898 0.75517434 0.76986617\n",
            " 0.78434622 0.79493213 0.80273539 0.80902308 0.81455088 0.81961447\n",
            " 0.82428408 0.82857859 0.83253556 0.83621502 0.83968127 0.84298676\n",
            " 0.84616524 0.84923214 0.85218877 0.85502738 0.85773528 0.86029857\n",
            " 0.86270517 0.86494589 0.86701572 0.86891395 0.87064403 0.87221259\n",
            " 0.87362915 0.87490487 0.87605196 0.87708271 0.87800902 0.87884182\n",
            " 0.87959105 0.88026565 0.88087314 0.8814202  0.88191241 0.88235462\n",
            " 0.88275105 0.88310552 0.88342142 0.8837021 ]\n",
            "42 day output [[0.8839503]]\n",
            "43 day input [0.83689535 0.84164279 0.84573421 0.85046439 0.85738701 0.85514277\n",
            " 0.86581155 0.88961779 0.88899631 0.87059352 0.84980838 0.84847909\n",
            " 0.81762939 0.80956738 0.83689535 0.82893692 0.77876946 0.80176432\n",
            " 0.78726306 0.81864793 0.79380589 0.78032317 0.7687049  0.79185513\n",
            " 0.79962366 0.78864413 0.77742292 0.76875669 0.77053482 0.77020682\n",
            " 0.77609364 0.77616269 0.76858406 0.75334047 0.75506681 0.77647343\n",
            " 0.80164348 0.76450989 0.77602458 0.74646963 0.75560197 0.75919276\n",
            " 0.76604633 0.76996513 0.73749266 0.76963712 0.78144529 0.790733\n",
            " 0.7625246  0.73612885 0.75815696 0.76425094 0.76854953 0.77151883\n",
            " 0.79175155 0.77857957 0.73757898 0.75517434 0.76986617 0.78434622\n",
            " 0.79493213 0.80273539 0.80902308 0.81455088 0.81961447 0.82428408\n",
            " 0.82857859 0.83253556 0.83621502 0.83968127 0.84298676 0.84616524\n",
            " 0.84923214 0.85218877 0.85502738 0.85773528 0.86029857 0.86270517\n",
            " 0.86494589 0.86701572 0.86891395 0.87064403 0.87221259 0.87362915\n",
            " 0.87490487 0.87605196 0.87708271 0.87800902 0.87884182 0.87959105\n",
            " 0.88026565 0.88087314 0.8814202  0.88191241 0.88235462 0.88275105\n",
            " 0.88310552 0.88342142 0.8837021  0.88395029]\n",
            "43 day output [[0.88416886]]\n",
            "44 day input [0.84164279 0.84573421 0.85046439 0.85738701 0.85514277 0.86581155\n",
            " 0.88961779 0.88899631 0.87059352 0.84980838 0.84847909 0.81762939\n",
            " 0.80956738 0.83689535 0.82893692 0.77876946 0.80176432 0.78726306\n",
            " 0.81864793 0.79380589 0.78032317 0.7687049  0.79185513 0.79962366\n",
            " 0.78864413 0.77742292 0.76875669 0.77053482 0.77020682 0.77609364\n",
            " 0.77616269 0.76858406 0.75334047 0.75506681 0.77647343 0.80164348\n",
            " 0.76450989 0.77602458 0.74646963 0.75560197 0.75919276 0.76604633\n",
            " 0.76996513 0.73749266 0.76963712 0.78144529 0.790733   0.7625246\n",
            " 0.73612885 0.75815696 0.76425094 0.76854953 0.77151883 0.79175155\n",
            " 0.77857957 0.73757898 0.75517434 0.76986617 0.78434622 0.79493213\n",
            " 0.80273539 0.80902308 0.81455088 0.81961447 0.82428408 0.82857859\n",
            " 0.83253556 0.83621502 0.83968127 0.84298676 0.84616524 0.84923214\n",
            " 0.85218877 0.85502738 0.85773528 0.86029857 0.86270517 0.86494589\n",
            " 0.86701572 0.86891395 0.87064403 0.87221259 0.87362915 0.87490487\n",
            " 0.87605196 0.87708271 0.87800902 0.87884182 0.87959105 0.88026565\n",
            " 0.88087314 0.8814202  0.88191241 0.88235462 0.88275105 0.88310552\n",
            " 0.88342142 0.8837021  0.88395029 0.88416886]\n",
            "44 day output [[0.8843606]]\n",
            "45 day input [0.84573421 0.85046439 0.85738701 0.85514277 0.86581155 0.88961779\n",
            " 0.88899631 0.87059352 0.84980838 0.84847909 0.81762939 0.80956738\n",
            " 0.83689535 0.82893692 0.77876946 0.80176432 0.78726306 0.81864793\n",
            " 0.79380589 0.78032317 0.7687049  0.79185513 0.79962366 0.78864413\n",
            " 0.77742292 0.76875669 0.77053482 0.77020682 0.77609364 0.77616269\n",
            " 0.76858406 0.75334047 0.75506681 0.77647343 0.80164348 0.76450989\n",
            " 0.77602458 0.74646963 0.75560197 0.75919276 0.76604633 0.76996513\n",
            " 0.73749266 0.76963712 0.78144529 0.790733   0.7625246  0.73612885\n",
            " 0.75815696 0.76425094 0.76854953 0.77151883 0.79175155 0.77857957\n",
            " 0.73757898 0.75517434 0.76986617 0.78434622 0.79493213 0.80273539\n",
            " 0.80902308 0.81455088 0.81961447 0.82428408 0.82857859 0.83253556\n",
            " 0.83621502 0.83968127 0.84298676 0.84616524 0.84923214 0.85218877\n",
            " 0.85502738 0.85773528 0.86029857 0.86270517 0.86494589 0.86701572\n",
            " 0.86891395 0.87064403 0.87221259 0.87362915 0.87490487 0.87605196\n",
            " 0.87708271 0.87800902 0.87884182 0.87959105 0.88026565 0.88087314\n",
            " 0.8814202  0.88191241 0.88235462 0.88275105 0.88310552 0.88342142\n",
            " 0.8837021  0.88395029 0.88416886 0.88436061]\n",
            "45 day output [[0.884528]]\n",
            "46 day input [0.85046439 0.85738701 0.85514277 0.86581155 0.88961779 0.88899631\n",
            " 0.87059352 0.84980838 0.84847909 0.81762939 0.80956738 0.83689535\n",
            " 0.82893692 0.77876946 0.80176432 0.78726306 0.81864793 0.79380589\n",
            " 0.78032317 0.7687049  0.79185513 0.79962366 0.78864413 0.77742292\n",
            " 0.76875669 0.77053482 0.77020682 0.77609364 0.77616269 0.76858406\n",
            " 0.75334047 0.75506681 0.77647343 0.80164348 0.76450989 0.77602458\n",
            " 0.74646963 0.75560197 0.75919276 0.76604633 0.76996513 0.73749266\n",
            " 0.76963712 0.78144529 0.790733   0.7625246  0.73612885 0.75815696\n",
            " 0.76425094 0.76854953 0.77151883 0.79175155 0.77857957 0.73757898\n",
            " 0.75517434 0.76986617 0.78434622 0.79493213 0.80273539 0.80902308\n",
            " 0.81455088 0.81961447 0.82428408 0.82857859 0.83253556 0.83621502\n",
            " 0.83968127 0.84298676 0.84616524 0.84923214 0.85218877 0.85502738\n",
            " 0.85773528 0.86029857 0.86270517 0.86494589 0.86701572 0.86891395\n",
            " 0.87064403 0.87221259 0.87362915 0.87490487 0.87605196 0.87708271\n",
            " 0.87800902 0.87884182 0.87959105 0.88026565 0.88087314 0.8814202\n",
            " 0.88191241 0.88235462 0.88275105 0.88310552 0.88342142 0.8837021\n",
            " 0.88395029 0.88416886 0.88436061 0.88452798]\n",
            "46 day output [[0.88467354]]\n",
            "47 day input [0.85738701 0.85514277 0.86581155 0.88961779 0.88899631 0.87059352\n",
            " 0.84980838 0.84847909 0.81762939 0.80956738 0.83689535 0.82893692\n",
            " 0.77876946 0.80176432 0.78726306 0.81864793 0.79380589 0.78032317\n",
            " 0.7687049  0.79185513 0.79962366 0.78864413 0.77742292 0.76875669\n",
            " 0.77053482 0.77020682 0.77609364 0.77616269 0.76858406 0.75334047\n",
            " 0.75506681 0.77647343 0.80164348 0.76450989 0.77602458 0.74646963\n",
            " 0.75560197 0.75919276 0.76604633 0.76996513 0.73749266 0.76963712\n",
            " 0.78144529 0.790733   0.7625246  0.73612885 0.75815696 0.76425094\n",
            " 0.76854953 0.77151883 0.79175155 0.77857957 0.73757898 0.75517434\n",
            " 0.76986617 0.78434622 0.79493213 0.80273539 0.80902308 0.81455088\n",
            " 0.81961447 0.82428408 0.82857859 0.83253556 0.83621502 0.83968127\n",
            " 0.84298676 0.84616524 0.84923214 0.85218877 0.85502738 0.85773528\n",
            " 0.86029857 0.86270517 0.86494589 0.86701572 0.86891395 0.87064403\n",
            " 0.87221259 0.87362915 0.87490487 0.87605196 0.87708271 0.87800902\n",
            " 0.87884182 0.87959105 0.88026565 0.88087314 0.8814202  0.88191241\n",
            " 0.88235462 0.88275105 0.88310552 0.88342142 0.8837021  0.88395029\n",
            " 0.88416886 0.88436061 0.88452798 0.88467354]\n",
            "47 day output [[0.8847994]]\n",
            "48 day input [0.85514277 0.86581155 0.88961779 0.88899631 0.87059352 0.84980838\n",
            " 0.84847909 0.81762939 0.80956738 0.83689535 0.82893692 0.77876946\n",
            " 0.80176432 0.78726306 0.81864793 0.79380589 0.78032317 0.7687049\n",
            " 0.79185513 0.79962366 0.78864413 0.77742292 0.76875669 0.77053482\n",
            " 0.77020682 0.77609364 0.77616269 0.76858406 0.75334047 0.75506681\n",
            " 0.77647343 0.80164348 0.76450989 0.77602458 0.74646963 0.75560197\n",
            " 0.75919276 0.76604633 0.76996513 0.73749266 0.76963712 0.78144529\n",
            " 0.790733   0.7625246  0.73612885 0.75815696 0.76425094 0.76854953\n",
            " 0.77151883 0.79175155 0.77857957 0.73757898 0.75517434 0.76986617\n",
            " 0.78434622 0.79493213 0.80273539 0.80902308 0.81455088 0.81961447\n",
            " 0.82428408 0.82857859 0.83253556 0.83621502 0.83968127 0.84298676\n",
            " 0.84616524 0.84923214 0.85218877 0.85502738 0.85773528 0.86029857\n",
            " 0.86270517 0.86494589 0.86701572 0.86891395 0.87064403 0.87221259\n",
            " 0.87362915 0.87490487 0.87605196 0.87708271 0.87800902 0.87884182\n",
            " 0.87959105 0.88026565 0.88087314 0.8814202  0.88191241 0.88235462\n",
            " 0.88275105 0.88310552 0.88342142 0.8837021  0.88395029 0.88416886\n",
            " 0.88436061 0.88452798 0.88467354 0.88479942]\n",
            "48 day output [[0.8849077]]\n",
            "49 day input [0.86581155 0.88961779 0.88899631 0.87059352 0.84980838 0.84847909\n",
            " 0.81762939 0.80956738 0.83689535 0.82893692 0.77876946 0.80176432\n",
            " 0.78726306 0.81864793 0.79380589 0.78032317 0.7687049  0.79185513\n",
            " 0.79962366 0.78864413 0.77742292 0.76875669 0.77053482 0.77020682\n",
            " 0.77609364 0.77616269 0.76858406 0.75334047 0.75506681 0.77647343\n",
            " 0.80164348 0.76450989 0.77602458 0.74646963 0.75560197 0.75919276\n",
            " 0.76604633 0.76996513 0.73749266 0.76963712 0.78144529 0.790733\n",
            " 0.7625246  0.73612885 0.75815696 0.76425094 0.76854953 0.77151883\n",
            " 0.79175155 0.77857957 0.73757898 0.75517434 0.76986617 0.78434622\n",
            " 0.79493213 0.80273539 0.80902308 0.81455088 0.81961447 0.82428408\n",
            " 0.82857859 0.83253556 0.83621502 0.83968127 0.84298676 0.84616524\n",
            " 0.84923214 0.85218877 0.85502738 0.85773528 0.86029857 0.86270517\n",
            " 0.86494589 0.86701572 0.86891395 0.87064403 0.87221259 0.87362915\n",
            " 0.87490487 0.87605196 0.87708271 0.87800902 0.87884182 0.87959105\n",
            " 0.88026565 0.88087314 0.8814202  0.88191241 0.88235462 0.88275105\n",
            " 0.88310552 0.88342142 0.8837021  0.88395029 0.88416886 0.88436061\n",
            " 0.88452798 0.88467354 0.88479942 0.88490772]\n",
            "49 day output [[0.8850006]]\n",
            "[[0.7551743388175964], [0.7698661684989929], [0.7843462228775024], [0.7949321269989014], [0.8027353882789612], [0.8090230822563171], [0.8145508766174316], [0.8196144700050354], [0.8242840766906738], [0.8285785913467407], [0.8325355648994446], [0.8362150192260742], [0.8396812677383423], [0.8429867625236511], [0.8461652398109436], [0.8492321372032166], [0.852188766002655], [0.8550273776054382], [0.857735276222229], [0.8602985739707947], [0.8627051711082458], [0.8649458885192871], [0.8670157194137573], [0.8689139485359192], [0.8706440329551697], [0.8722125887870789], [0.8736291527748108], [0.8749048709869385], [0.8760519623756409], [0.8770827054977417], [0.878009021282196], [0.8788418173789978], [0.8795910477638245], [0.8802656531333923], [0.8808731436729431], [0.8814201951026917], [0.8819124102592468], [0.8823546171188354], [0.8827510476112366], [0.8831055164337158], [0.8834214210510254], [0.8837020993232727], [0.8839502930641174], [0.8841688632965088], [0.8843606114387512], [0.8845279812812805], [0.884673535823822], [0.8847994208335876], [0.8849077224731445], [0.8850005865097046]]\n"
          ]
        }
      ]
    },
    {
      "cell_type": "code",
      "source": [
        "day_new = np.arange(1,101)\n",
        "day_pred = np.arange(101,151)"
      ],
      "metadata": {
        "id": "Oy0gNjTy4umc"
      },
      "execution_count": 96,
      "outputs": []
    },
    {
      "cell_type": "code",
      "source": [
        "len(df1)"
      ],
      "metadata": {
        "colab": {
          "base_uri": "https://localhost:8080/"
        },
        "id": "vVpSmyY65WiE",
        "outputId": "4e791876-693f-4085-d8ef-3f523462cebc"
      },
      "execution_count": 97,
      "outputs": [
        {
          "output_type": "execute_result",
          "data": {
            "text/plain": [
              "5306"
            ]
          },
          "metadata": {},
          "execution_count": 97
        }
      ]
    },
    {
      "cell_type": "code",
      "source": [
        "# Plotting the prediction for next 50 days\n",
        "plt.plot(day_new, scaler.inverse_transform(df1[5206:]))\n",
        "plt.plot(day_pred, scaler.inverse_transform(lst_output))\n"
      ],
      "metadata": {
        "colab": {
          "base_uri": "https://localhost:8080/",
          "height": 283
        },
        "id": "yXxgtU3z6NN1",
        "outputId": "32f54467-4015-442c-e78c-150a56c98492"
      },
      "execution_count": 98,
      "outputs": [
        {
          "output_type": "execute_result",
          "data": {
            "text/plain": [
              "[<matplotlib.lines.Line2D at 0x7f9f20574f40>]"
            ]
          },
          "metadata": {},
          "execution_count": 98
        },
        {
          "output_type": "display_data",
          "data": {
            "text/plain": [
              "<Figure size 432x288 with 1 Axes>"
            ],
            "image/png": "[encoded data removed]"
          },
          "metadata": {
            "needs_background": "light"
          }
        }
      ]
    },
    {
      "cell_type": "code",
      "source": [
        "df3 = df1.tolist()\n",
        "df3.extend(lst_output)\n",
        "plt.plot(scaler.inverse_transform(df3[5000:]))"
      ],
      "metadata": {
        "colab": {
          "base_uri": "https://localhost:8080/",
          "height": 283
        },
        "id": "xNM59QtF6c0d",
        "outputId": "39bc4aa9-a64e-4179-baf6-c765af6f743c"
      },
      "execution_count": 99,
      "outputs": [
        {
          "output_type": "execute_result",
          "data": {
            "text/plain": [
              "[<matplotlib.lines.Line2D at 0x7f9f205d3970>]"
            ]
          },
          "metadata": {},
          "execution_count": 99
        },
        {
          "output_type": "display_data",
          "data": {
            "text/plain": [
              "<Figure size 432x288 with 1 Axes>"
            ],
            "image/png": "[encoded data removed]"
          },
          "metadata": {
            "needs_background": "light"
          }
        }
      ]
    },
    {
      "cell_type": "code",
      "source": [],
      "metadata": {
        "id": "Kzk8sRWMS-_v"
      },
      "execution_count": 99,
      "outputs": []
    }
  ]
}
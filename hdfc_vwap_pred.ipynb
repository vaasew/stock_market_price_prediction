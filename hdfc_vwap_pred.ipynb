{
  "nbformat": 4,
  "nbformat_minor": 0,
  "metadata": {
    "colab": {
      "provenance": [],
      "gpuType": "T4"
    },
    "kernelspec": {
      "name": "python3",
      "display_name": "Python 3"
    },
    "language_info": {
      "name": "python"
    },
    "accelerator": "GPU"
  },
  "cells": [
    {
      "cell_type": "code",
      "execution_count": 314,
      "metadata": {
        "id": "XFbUclt6rk1g"
      },
      "outputs": [],
      "source": [
        "import pandas as pd\n",
        "import numpy as np\n",
        "import os\n",
        "import random\n",
        "\n",
        "from tensorflow.keras.models import Sequential\n",
        "from tensorflow.keras.layers import Dense, LSTM,GRU,SimpleRNN, RNN, Input, Bidirectional\n",
        "from sklearn.preprocessing import MinMaxScaler, RobustScaler\n",
        "from tensorflow.keras.callbacks import ModelCheckpoint, EarlyStopping, ReduceLROnPlateau, LearningRateScheduler\n",
        "from tensorflow.keras.layers import Dropout\n",
        "\n",
        "\n",
        "from tensorflow.keras.optimizers.schedules import ExponentialDecay\n",
        "\n",
        "from sklearn.metrics import mean_squared_error as mse"
      ]
    },
    {
      "cell_type": "code",
      "source": [
        "import matplotlib.pyplot as plt\n",
        "plt.style.use('fivethirtyeight')"
      ],
      "metadata": {
        "id": "36eQPTZ5u8pa"
      },
      "execution_count": 315,
      "outputs": []
    },
    {
      "cell_type": "code",
      "source": [
        "from google.colab import drive\n",
        "drive.mount(\"/content/gdrive\")"
      ],
      "metadata": {
        "colab": {
          "base_uri": "https://localhost:8080/"
        },
        "id": "PbEbdo4gvA3y",
        "outputId": "2e889638-69fc-4480-9b10-c77f685e5500"
      },
      "execution_count": 316,
      "outputs": [
        {
          "output_type": "stream",
          "name": "stdout",
          "text": [
            "Drive already mounted at /content/gdrive; to attempt to forcibly remount, call drive.mount(\"/content/gdrive\", force_remount=True).\n"
          ]
        }
      ]
    },
    {
      "cell_type": "code",
      "source": [
        "#importing HDFC stock price dataset till 2021 April\n",
        "dataset=pd.read_csv('/content/gdrive/My Drive/datasets/HDFC.csv')"
      ],
      "metadata": {
        "id": "wl-Zvd5SwgLm"
      },
      "execution_count": 317,
      "outputs": []
    },
    {
      "cell_type": "code",
      "source": [
        "# Dataset of HDFC closing prices only\n",
        "df=dataset.copy()"
      ],
      "metadata": {
        "id": "EfjtnDuLwoYk"
      },
      "execution_count": 318,
      "outputs": []
    },
    {
      "cell_type": "code",
      "source": [
        "df.columns"
      ],
      "metadata": {
        "colab": {
          "base_uri": "https://localhost:8080/"
        },
        "id": "xe4CGLRozwX-",
        "outputId": "1e746da1-81e1-48a5-f3f0-bd0554fcda05"
      },
      "execution_count": 319,
      "outputs": [
        {
          "output_type": "execute_result",
          "data": {
            "text/plain": [
              "Index(['Date', 'Symbol', 'Series', 'Prev Close', 'Open', 'High', 'Low', 'Last',\n",
              "       'Close', 'VWAP', 'Volume', 'Turnover', 'Trades', 'Deliverable Volume',\n",
              "       '%Deliverble'],\n",
              "      dtype='object')"
            ]
          },
          "metadata": {},
          "execution_count": 319
        }
      ]
    },
    {
      "cell_type": "code",
      "source": [
        "df=df.iloc[:,[0,9]]"
      ],
      "metadata": {
        "id": "T4WWREb3zoO0"
      },
      "execution_count": 320,
      "outputs": []
    },
    {
      "cell_type": "code",
      "source": [
        "df.info()"
      ],
      "metadata": {
        "colab": {
          "base_uri": "https://localhost:8080/"
        },
        "id": "lXukp15y0HdF",
        "outputId": "81e13440-4da3-440c-c6f6-80a3b4e778cb"
      },
      "execution_count": 321,
      "outputs": [
        {
          "output_type": "stream",
          "name": "stdout",
          "text": [
            "<class 'pandas.core.frame.DataFrame'>\n",
            "RangeIndex: 5306 entries, 0 to 5305\n",
            "Data columns (total 2 columns):\n",
            " #   Column  Non-Null Count  Dtype  \n",
            "---  ------  --------------  -----  \n",
            " 0   Date    5306 non-null   object \n",
            " 1   VWAP    5306 non-null   float64\n",
            "dtypes: float64(1), object(1)\n",
            "memory usage: 83.0+ KB\n"
          ]
        }
      ]
    },
    {
      "cell_type": "code",
      "source": [
        "df['Date'] = pd.to_datetime(df['Date'])"
      ],
      "metadata": {
        "id": "2pQMeBcI0TIy"
      },
      "execution_count": 322,
      "outputs": []
    },
    {
      "cell_type": "code",
      "source": [
        "df.set_index(\"Date\",  inplace=True)"
      ],
      "metadata": {
        "id": "Uhgvxold046z"
      },
      "execution_count": 323,
      "outputs": []
    },
    {
      "cell_type": "code",
      "source": [
        "df.plot(xlabel = 'Date')"
      ],
      "metadata": {
        "colab": {
          "base_uri": "https://localhost:8080/",
          "height": 454
        },
        "id": "dga3hhc40mzV",
        "outputId": "3a11557b-dbd5-4121-df2e-024e566364e3"
      },
      "execution_count": 324,
      "outputs": [
        {
          "output_type": "execute_result",
          "data": {
            "text/plain": [
              "<Axes: xlabel='Date'>"
            ]
          },
          "metadata": {},
          "execution_count": 324
        },
        {
          "output_type": "display_data",
          "data": {
            "text/plain": [
              "<Figure size 640x480 with 1 Axes>"
            ],
            "image/png": "[encoded data removed]"
          },
          "metadata": {}
        }
      ]
    },
    {
      "cell_type": "code",
      "source": [
        "# Checking for null values in dataset\n",
        "df.head()\n",
        "df1=df.copy()\n",
        "df1.head()"
      ],
      "metadata": {
        "colab": {
          "base_uri": "https://localhost:8080/",
          "height": 237
        },
        "id": "XMoht74Fw_0n",
        "outputId": "8fd23ebc-2eec-4fd7-9154-0dad23c8f98f"
      },
      "execution_count": 325,
      "outputs": [
        {
          "output_type": "execute_result",
          "data": {
            "text/plain": [
              "              VWAP\n",
              "Date              \n",
              "2000-01-03  293.50\n",
              "2000-01-04  303.62\n",
              "2000-01-05  294.53\n",
              "2000-01-06  300.14\n",
              "2000-01-07  288.80"
            ],
            "text/html": [
              "\n",
              "  <div id=\"df-d05dd9e9-9d1a-49a3-b0e9-1f38a4aac44b\" class=\"colab-df-container\">\n",
              "    <div>\n",
              "<style scoped>\n",
              "    .dataframe tbody tr th:only-of-type {\n",
              "        vertical-align: middle;\n",
              "    }\n",
              "\n",
              "    .dataframe tbody tr th {\n",
              "        vertical-align: top;\n",
              "    }\n",
              "\n",
              "    .dataframe thead th {\n",
              "        text-align: right;\n",
              "    }\n",
              "</style>\n",
              "<table border=\"1\" class=\"dataframe\">\n",
              "  <thead>\n",
              "    <tr style=\"text-align: right;\">\n",
              "      <th></th>\n",
              "      <th>VWAP</th>\n",
              "    </tr>\n",
              "    <tr>\n",
              "      <th>Date</th>\n",
              "      <th></th>\n",
              "    </tr>\n",
              "  </thead>\n",
              "  <tbody>\n",
              "    <tr>\n",
              "      <th>2000-01-03</th>\n",
              "      <td>293.50</td>\n",
              "    </tr>\n",
              "    <tr>\n",
              "      <th>2000-01-04</th>\n",
              "      <td>303.62</td>\n",
              "    </tr>\n",
              "    <tr>\n",
              "      <th>2000-01-05</th>\n",
              "      <td>294.53</td>\n",
              "    </tr>\n",
              "    <tr>\n",
              "      <th>2000-01-06</th>\n",
              "      <td>300.14</td>\n",
              "    </tr>\n",
              "    <tr>\n",
              "      <th>2000-01-07</th>\n",
              "      <td>288.80</td>\n",
              "    </tr>\n",
              "  </tbody>\n",
              "</table>\n",
              "</div>\n",
              "    <div class=\"colab-df-buttons\">\n",
              "\n",
              "  <div class=\"colab-df-container\">\n",
              "    <button class=\"colab-df-convert\" onclick=\"convertToInteractive('df-d05dd9e9-9d1a-49a3-b0e9-1f38a4aac44b')\"\n",
              "            title=\"Convert this dataframe to an interactive table.\"\n",
              "            style=\"display:none;\">\n",
              "\n",
              "  <svg xmlns=\"http://www.w3.org/2000/svg\" height=\"24px\" viewBox=\"0 -960 960 960\">\n",
              "    <path d=\"M120-120v-720h720v720H120Zm60-500h600v-160H180v160Zm220 220h160v-160H400v160Zm0 220h160v-160H400v160ZM180-400h160v-160H180v160Zm440 0h160v-160H620v160ZM180-180h160v-160H180v160Zm440 0h160v-160H620v160Z\"/>\n",
              "  </svg>\n",
              "    </button>\n",
              "\n",
              "  <style>\n",
              "    .colab-df-container {\n",
              "      display:flex;\n",
              "      gap: 12px;\n",
              "    }\n",
              "\n",
              "    .colab-df-convert {\n",
              "      background-color: #E8F0FE;\n",
              "      border: none;\n",
              "      border-radius: 50%;\n",
              "      cursor: pointer;\n",
              "      display: none;\n",
              "      fill: #1967D2;\n",
              "      height: 32px;\n",
              "      padding: 0 0 0 0;\n",
              "      width: 32px;\n",
              "    }\n",
              "\n",
              "    .colab-df-convert:hover {\n",
              "      background-color: #E2EBFA;\n",
              "      box-shadow: 0px 1px 2px rgba(60, 64, 67, 0.3), 0px 1px 3px 1px rgba(60, 64, 67, 0.15);\n",
              "      fill: #174EA6;\n",
              "    }\n",
              "\n",
              "    .colab-df-buttons div {\n",
              "      margin-bottom: 4px;\n",
              "    }\n",
              "\n",
              "    [theme=dark] .colab-df-convert {\n",
              "      background-color: #3B4455;\n",
              "      fill: #D2E3FC;\n",
              "    }\n",
              "\n",
              "    [theme=dark] .colab-df-convert:hover {\n",
              "      background-color: #434B5C;\n",
              "      box-shadow: 0px 1px 3px 1px rgba(0, 0, 0, 0.15);\n",
              "      filter: drop-shadow(0px 1px 2px rgba(0, 0, 0, 0.3));\n",
              "      fill: #FFFFFF;\n",
              "    }\n",
              "  </style>\n",
              "\n",
              "    <script>\n",
              "      const buttonEl =\n",
              "        document.querySelector('#df-d05dd9e9-9d1a-49a3-b0e9-1f38a4aac44b button.colab-df-convert');\n",
              "      buttonEl.style.display =\n",
              "        google.colab.kernel.accessAllowed ? 'block' : 'none';\n",
              "\n",
              "      async function convertToInteractive(key) {\n",
              "        const element = document.querySelector('#df-d05dd9e9-9d1a-49a3-b0e9-1f38a4aac44b');\n",
              "        const dataTable =\n",
              "          await google.colab.kernel.invokeFunction('convertToInteractive',\n",
              "                                                    [key], {});\n",
              "        if (!dataTable) return;\n",
              "\n",
              "        const docLinkHtml = 'Like what you see? Visit the ' +\n",
              "          '<a target=\"_blank\" href=https://colab.research.google.com/notebooks/data_table.ipynb>data table notebook</a>'\n",
              "          + ' to learn more about interactive tables.';\n",
              "        element.innerHTML = '';\n",
              "        dataTable['output_type'] = 'display_data';\n",
              "        await google.colab.output.renderOutput(dataTable, element);\n",
              "        const docLink = document.createElement('div');\n",
              "        docLink.innerHTML = docLinkHtml;\n",
              "        element.appendChild(docLink);\n",
              "      }\n",
              "    </script>\n",
              "  </div>\n",
              "\n",
              "\n",
              "<div id=\"df-46e1bb9c-8b8e-42dd-90e7-652faabb111a\">\n",
              "  <button class=\"colab-df-quickchart\" onclick=\"quickchart('df-46e1bb9c-8b8e-42dd-90e7-652faabb111a')\"\n",
              "            title=\"Suggest charts.\"\n",
              "            style=\"display:none;\">\n",
              "\n",
              "<svg xmlns=\"http://www.w3.org/2000/svg\" height=\"24px\"viewBox=\"0 0 24 24\"\n",
              "     width=\"24px\">\n",
              "    <g>\n",
              "        <path d=\"M19 3H5c-1.1 0-2 .9-2 2v14c0 1.1.9 2 2 2h14c1.1 0 2-.9 2-2V5c0-1.1-.9-2-2-2zM9 17H7v-7h2v7zm4 0h-2V7h2v10zm4 0h-2v-4h2v4z\"/>\n",
              "    </g>\n",
              "</svg>\n",
              "  </button>\n",
              "\n",
              "<style>\n",
              "  .colab-df-quickchart {\n",
              "    background-color: #E8F0FE;\n",
              "    border: none;\n",
              "    border-radius: 50%;\n",
              "    cursor: pointer;\n",
              "    display: none;\n",
              "    fill: #1967D2;\n",
              "    height: 32px;\n",
              "    padding: 0 0 0 0;\n",
              "    width: 32px;\n",
              "  }\n",
              "\n",
              "  .colab-df-quickchart:hover {\n",
              "    background-color: #E2EBFA;\n",
              "    box-shadow: 0px 1px 2px rgba(60, 64, 67, 0.3), 0px 1px 3px 1px rgba(60, 64, 67, 0.15);\n",
              "    fill: #174EA6;\n",
              "  }\n",
              "\n",
              "  [theme=dark] .colab-df-quickchart {\n",
              "    background-color: #3B4455;\n",
              "    fill: #D2E3FC;\n",
              "  }\n",
              "\n",
              "  [theme=dark] .colab-df-quickchart:hover {\n",
              "    background-color: #434B5C;\n",
              "    box-shadow: 0px 1px 3px 1px rgba(0, 0, 0, 0.15);\n",
              "    filter: drop-shadow(0px 1px 2px rgba(0, 0, 0, 0.3));\n",
              "    fill: #FFFFFF;\n",
              "  }\n",
              "</style>\n",
              "\n",
              "  <script>\n",
              "    async function quickchart(key) {\n",
              "      const charts = await google.colab.kernel.invokeFunction(\n",
              "          'suggestCharts', [key], {});\n",
              "    }\n",
              "    (() => {\n",
              "      let quickchartButtonEl =\n",
              "        document.querySelector('#df-46e1bb9c-8b8e-42dd-90e7-652faabb111a button');\n",
              "      quickchartButtonEl.style.display =\n",
              "        google.colab.kernel.accessAllowed ? 'block' : 'none';\n",
              "    })();\n",
              "  </script>\n",
              "</div>\n",
              "    </div>\n",
              "  </div>\n"
            ]
          },
          "metadata": {},
          "execution_count": 325
        }
      ]
    },
    {
      "cell_type": "code",
      "source": [
        "def create_dataset(dataset, look_back, look_ahead):\n",
        "    xdat, ydat = [], []\n",
        "    for i in range(len(df) - look_back -look_ahead):\n",
        "        xdat.append(df[i:i+ look_back ,0])\n",
        "        ydat.append(df[i+ look_back : i + look_back + look_ahead,0])\n",
        "    xdat, ydat = np.array(xdat), np.array(ydat).reshape(-1,look_ahead)\n",
        "    return xdat, ydat"
      ],
      "metadata": {
        "id": "QHFEIzs8xDMd"
      },
      "execution_count": 326,
      "outputs": []
    },
    {
      "cell_type": "code",
      "source": [
        "def my_rmse(x,y):\n",
        "    return(np.round( np.sqrt(mse(x,y)) ,4))"
      ],
      "metadata": {
        "id": "005yEz-Ny4o3"
      },
      "execution_count": 327,
      "outputs": []
    },
    {
      "cell_type": "code",
      "source": [
        "scaler = RobustScaler()\n",
        "df = scaler.fit_transform(df)"
      ],
      "metadata": {
        "id": "TNiZSNYpzQuJ"
      },
      "execution_count": 328,
      "outputs": []
    },
    {
      "cell_type": "code",
      "source": [
        "def prepare_split(xdat, ydat, cutoff = 5000, timesteps = 50):\n",
        "    xtrain, xvalid = xdat[:cutoff,:], xdat[cutoff:,]\n",
        "    ytrain, yvalid = ydat[:cutoff,:], ydat[cutoff:,]\n",
        "\n",
        "    # reshape into [batch size, time steps, dimensionality]\n",
        "    xtrain = xtrain.reshape(-1, timesteps, 1)\n",
        "    xvalid = xvalid.reshape(-1, timesteps, 1)\n",
        "\n",
        "    return xtrain, ytrain, xvalid, yvalid"
      ],
      "metadata": {
        "id": "5P348_rMzGIN"
      },
      "execution_count": 329,
      "outputs": []
    },
    {
      "cell_type": "code",
      "source": [
        "# use 100 historical observations, predict 1 step ahead\n",
        "look_back = 100\n",
        "look_ahead = 1\n",
        "\n",
        "xdat, ydat = create_dataset(df, look_back = look_back, look_ahead = look_ahead)\n",
        "\n",
        "# We only want to forecast a single value for each series => target is a column\n",
        "print(xdat.shape, ydat.shape)"
      ],
      "metadata": {
        "colab": {
          "base_uri": "https://localhost:8080/"
        },
        "id": "SMa3LQXD2GW6",
        "outputId": "8359ba14-1ea3-4547-cbb4-35013732bb5a"
      },
      "execution_count": 332,
      "outputs": [
        {
          "output_type": "stream",
          "name": "stdout",
          "text": [
            "(5205, 100) (5205, 1)\n"
          ]
        }
      ]
    },
    {
      "cell_type": "code",
      "source": [
        "# Our prepare_split function takes care of reshaping the data into [batch size, time steps, dimensionality]\n",
        "\n",
        "xtrain, ytrain, xvalid, yvalid = prepare_split(xdat, ydat, cutoff = 5000, timesteps = look_back)\n",
        "print(xtrain.shape, xvalid.shape, ytrain.shape, yvalid.shape)"
      ],
      "metadata": {
        "colab": {
          "base_uri": "https://localhost:8080/"
        },
        "id": "83WYwNIY2MBe",
        "outputId": "7af7bf35-6615-42b9-8ee8-9390a7ecf3e0"
      },
      "execution_count": 333,
      "outputs": [
        {
          "output_type": "stream",
          "name": "stdout",
          "text": [
            "(5000, 100, 1) (205, 100, 1) (5000, 1) (205, 1)\n"
          ]
        }
      ]
    },
    {
      "cell_type": "code",
      "source": [
        "def create_model():\n",
        "\n",
        "    model=Sequential()\n",
        "    model.add(SimpleRNN(10,input_shape= [None,1], return_sequences = True))\n",
        "    model.add(SimpleRNN(10,input_shape= [None,1]))\n",
        "    model.add(Dense(1))\n",
        "    model.compile(loss='mean_squared_error',optimizer='adam')\n",
        "    return model\n",
        "\n",
        "model1 = create_model()"
      ],
      "metadata": {
        "id": "WBrXCBO82Sy-"
      },
      "execution_count": 371,
      "outputs": []
    },
    {
      "cell_type": "code",
      "source": [
        "def create_model1():\n",
        "\n",
        "    model=Sequential()\n",
        "    model.add(LSTM(20,input_shape= [None,1], return_sequences = True))\n",
        "    model.add(LSTM(10,input_shape= [None,1]))\n",
        "    model.add(Dense(1))\n",
        "\n",
        "    model.compile(loss='mean_squared_error',optimizer='adam')\n",
        "    return model\n",
        "\n",
        "model1 = create_model1()\n",
        "model1.summary()"
      ],
      "metadata": {
        "colab": {
          "base_uri": "https://localhost:8080/"
        },
        "id": "FyZmbzYm8m0X",
        "outputId": "31f66d43-006f-4bc6-9069-1cac7fc835a8"
      },
      "execution_count": 383,
      "outputs": [
        {
          "output_type": "stream",
          "name": "stdout",
          "text": [
            "Model: \"sequential_28\"\n",
            "_________________________________________________________________\n",
            " Layer (type)                Output Shape              Param #   \n",
            "=================================================================\n",
            " lstm_53 (LSTM)              (None, None, 20)          1760      \n",
            "                                                                 \n",
            " lstm_54 (LSTM)              (None, 10)                1240      \n",
            "                                                                 \n",
            " dense_26 (Dense)            (None, 1)                 11        \n",
            "                                                                 \n",
            "=================================================================\n",
            "Total params: 3,011\n",
            "Trainable params: 3,011\n",
            "Non-trainable params: 0\n",
            "_________________________________________________________________\n"
          ]
        }
      ]
    },
    {
      "cell_type": "code",
      "source": [
        "model1.summary()"
      ],
      "metadata": {
        "colab": {
          "base_uri": "https://localhost:8080/"
        },
        "id": "UvON6FMy2YgW",
        "outputId": "201edb00-bd2f-41d4-ef07-5b4c42887c26"
      },
      "execution_count": 384,
      "outputs": [
        {
          "output_type": "stream",
          "name": "stdout",
          "text": [
            "Model: \"sequential_28\"\n",
            "_________________________________________________________________\n",
            " Layer (type)                Output Shape              Param #   \n",
            "=================================================================\n",
            " lstm_53 (LSTM)              (None, None, 20)          1760      \n",
            "                                                                 \n",
            " lstm_54 (LSTM)              (None, 10)                1240      \n",
            "                                                                 \n",
            " dense_26 (Dense)            (None, 1)                 11        \n",
            "                                                                 \n",
            "=================================================================\n",
            "Total params: 3,011\n",
            "Trainable params: 3,011\n",
            "Non-trainable params: 0\n",
            "_________________________________________________________________\n"
          ]
        }
      ]
    },
    {
      "cell_type": "code",
      "source": [
        "early_stop = EarlyStopping(monitor = 'val_loss', min_delta = 0.0001,\n",
        "                           patience = 5, mode = 'min', verbose = 1,\n",
        "                           restore_best_weights = True)\n",
        "\n",
        "model1.fit(xtrain, ytrain, validation_data=(xvalid, yvalid),\n",
        "                  epochs = 100, batch_size = 30, callbacks=[early_stop])"
      ],
      "metadata": {
        "colab": {
          "base_uri": "https://localhost:8080/"
        },
        "id": "ED6SwlxY2bVO",
        "outputId": "c3a22be2-cd7b-4ccc-fafe-55d1399e51af"
      },
      "execution_count": 385,
      "outputs": [
        {
          "output_type": "stream",
          "name": "stdout",
          "text": [
            "Epoch 1/100\n",
            "167/167 [==============================] - 6s 17ms/step - loss: 0.0585 - val_loss: 0.0094\n",
            "Epoch 2/100\n",
            "167/167 [==============================] - 2s 14ms/step - loss: 0.0079 - val_loss: 0.0059\n",
            "Epoch 3/100\n",
            "167/167 [==============================] - 2s 10ms/step - loss: 0.0067 - val_loss: 0.0054\n",
            "Epoch 4/100\n",
            "167/167 [==============================] - 2s 10ms/step - loss: 0.0058 - val_loss: 0.0048\n",
            "Epoch 5/100\n",
            "167/167 [==============================] - 2s 11ms/step - loss: 0.0053 - val_loss: 0.0042\n",
            "Epoch 6/100\n",
            "167/167 [==============================] - 2s 11ms/step - loss: 0.0048 - val_loss: 0.0040\n",
            "Epoch 7/100\n",
            "167/167 [==============================] - 2s 11ms/step - loss: 0.0045 - val_loss: 0.0039\n",
            "Epoch 8/100\n",
            "167/167 [==============================] - 2s 11ms/step - loss: 0.0040 - val_loss: 0.0045\n",
            "Epoch 9/100\n",
            "167/167 [==============================] - 2s 15ms/step - loss: 0.0039 - val_loss: 0.0033\n",
            "Epoch 10/100\n",
            "167/167 [==============================] - 2s 12ms/step - loss: 0.0037 - val_loss: 0.0030\n",
            "Epoch 11/100\n",
            "167/167 [==============================] - 2s 10ms/step - loss: 0.0033 - val_loss: 0.0027\n",
            "Epoch 12/100\n",
            "167/167 [==============================] - 2s 10ms/step - loss: 0.0031 - val_loss: 0.0030\n",
            "Epoch 13/100\n",
            "167/167 [==============================] - 2s 10ms/step - loss: 0.0029 - val_loss: 0.0024\n",
            "Epoch 14/100\n",
            "167/167 [==============================] - 2s 10ms/step - loss: 0.0028 - val_loss: 0.0023\n",
            "Epoch 15/100\n",
            "167/167 [==============================] - 2s 10ms/step - loss: 0.0026 - val_loss: 0.0022\n",
            "Epoch 16/100\n",
            "167/167 [==============================] - 2s 14ms/step - loss: 0.0024 - val_loss: 0.0020\n",
            "Epoch 17/100\n",
            "167/167 [==============================] - 2s 14ms/step - loss: 0.0024 - val_loss: 0.0020\n",
            "Epoch 18/100\n",
            "167/167 [==============================] - 2s 10ms/step - loss: 0.0023 - val_loss: 0.0018\n",
            "Epoch 19/100\n",
            "167/167 [==============================] - 2s 10ms/step - loss: 0.0023 - val_loss: 0.0019\n",
            "Epoch 20/100\n",
            "167/167 [==============================] - 2s 10ms/step - loss: 0.0021 - val_loss: 0.0017\n",
            "Epoch 21/100\n",
            "167/167 [==============================] - 2s 13ms/step - loss: 0.0021 - val_loss: 0.0019\n",
            "Epoch 22/100\n",
            "167/167 [==============================] - 3s 15ms/step - loss: 0.0020 - val_loss: 0.0019\n",
            "Epoch 23/100\n",
            "167/167 [==============================] - 3s 17ms/step - loss: 0.0020 - val_loss: 0.0015\n",
            "Epoch 24/100\n",
            "167/167 [==============================] - 3s 19ms/step - loss: 0.0019 - val_loss: 0.0015\n",
            "Epoch 25/100\n",
            "167/167 [==============================] - 2s 13ms/step - loss: 0.0019 - val_loss: 0.0014\n",
            "Epoch 26/100\n",
            "167/167 [==============================] - 2s 10ms/step - loss: 0.0019 - val_loss: 0.0014\n",
            "Epoch 27/100\n",
            "167/167 [==============================] - 2s 10ms/step - loss: 0.0018 - val_loss: 0.0013\n",
            "Epoch 28/100\n",
            "167/167 [==============================] - 2s 10ms/step - loss: 0.0019 - val_loss: 0.0013\n",
            "Epoch 29/100\n",
            "167/167 [==============================] - 2s 10ms/step - loss: 0.0017 - val_loss: 0.0014\n",
            "Epoch 30/100\n",
            "167/167 [==============================] - 2s 11ms/step - loss: 0.0018 - val_loss: 0.0013\n",
            "Epoch 31/100\n",
            "167/167 [==============================] - 2s 14ms/step - loss: 0.0018 - val_loss: 0.0016\n",
            "Epoch 32/100\n",
            "164/167 [============================>.] - ETA: 0s - loss: 0.0018Restoring model weights from the end of the best epoch: 27.\n",
            "167/167 [==============================] - 2s 12ms/step - loss: 0.0018 - val_loss: 0.0013\n",
            "Epoch 32: early stopping\n"
          ]
        },
        {
          "output_type": "execute_result",
          "data": {
            "text/plain": [
              "<keras.callbacks.History at 0x7925c0b86a40>"
            ]
          },
          "metadata": {},
          "execution_count": 385
        }
      ]
    },
    {
      "cell_type": "code",
      "source": [
        "# predict and calculate RMSE\n",
        "y_pred1 = model1.predict(xvalid)\n",
        "y_pred1 = scaler.inverse_transform(y_pred1)\n",
        "yvalid1 =  scaler.inverse_transform(yvalid)"
      ],
      "metadata": {
        "colab": {
          "base_uri": "https://localhost:8080/"
        },
        "id": "O7vjEAOF2jtE",
        "outputId": "39552bcd-f695-4cdf-e488-ef26b79318fb"
      },
      "execution_count": 386,
      "outputs": [
        {
          "output_type": "stream",
          "name": "stdout",
          "text": [
            "7/7 [==============================] - 1s 5ms/step\n"
          ]
        }
      ]
    },
    {
      "cell_type": "code",
      "source": [
        "print('RMSE: ' + str(my_rmse(y_pred1, yvalid1)))"
      ],
      "metadata": {
        "colab": {
          "base_uri": "https://localhost:8080/"
        },
        "id": "1fJOqFWW3x0o",
        "outputId": "2b38b980-0bb8-4fa1-aa69-6543d332f652"
      },
      "execution_count": 387,
      "outputs": [
        {
          "output_type": "stream",
          "name": "stdout",
          "text": [
            "RMSE: 42.0006\n"
          ]
        }
      ]
    },
    {
      "cell_type": "code",
      "source": [
        "plt.plot(yvalid1, label = 'real')\n",
        "plt.plot(y_pred1, label = 'predicted')\n",
        "plt.ylabel('')\n",
        "plt.legend()\n",
        "plt.show()"
      ],
      "metadata": {
        "colab": {
          "base_uri": "https://localhost:8080/",
          "height": 449
        },
        "id": "qCh_NtQI4ruK",
        "outputId": "a1c01ebc-0072-4703-a263-e321c0ec1fc5"
      },
      "execution_count": 388,
      "outputs": [
        {
          "output_type": "display_data",
          "data": {
            "text/plain": [
              "<Figure size 640x480 with 1 Axes>"
            ],
            "image/png": "[encoded data removed]"
          },
          "metadata": {}
        }
      ]
    },
    {
      "cell_type": "code",
      "source": [
        "x_input = df[5206:].reshape(1,-1)\n",
        "x_input.shape"
      ],
      "metadata": {
        "colab": {
          "base_uri": "https://localhost:8080/"
        },
        "id": "_ycezXWo4uy1",
        "outputId": "0076c6ac-888a-422c-8407-67797466c5f3"
      },
      "execution_count": 397,
      "outputs": [
        {
          "output_type": "execute_result",
          "data": {
            "text/plain": [
              "(1, 100)"
            ]
          },
          "metadata": {},
          "execution_count": 397
        }
      ]
    },
    {
      "cell_type": "code",
      "source": [
        "temp_input = list(x_input)\n",
        "temp_input = temp_input[0].tolist()"
      ],
      "metadata": {
        "id": "3zXi5E897GyR"
      },
      "execution_count": 398,
      "outputs": []
    },
    {
      "cell_type": "code",
      "source": [
        "# Predicting next 20 days closing price of the stock\n",
        "lst_output=[]\n",
        "n_steps=100\n",
        "nextNumberOfDays = 20\n",
        "i=0\n",
        "\n",
        "while(i<nextNumberOfDays):\n",
        "\n",
        "    if(len(temp_input)>100):\n",
        "        x_input=np.array(temp_input[1:])\n",
        "        print(\"{} day input {}\".format(i,x_input))\n",
        "        x_input=x_input.reshape(1,-1)\n",
        "        x_input = x_input.reshape((1, n_steps, 1))\n",
        "        yhat = model1.predict(x_input, verbose=0)\n",
        "        print(\"{} day output {}\".format(i,yhat))\n",
        "        temp_input.extend(yhat[0].tolist())\n",
        "        temp_input=temp_input[1:]\n",
        "        lst_output.extend(yhat.tolist())\n",
        "        i=i+1\n",
        "    else:\n",
        "        x_input = x_input.reshape((1, n_steps,1))\n",
        "        yhat = model1.predict(x_input, verbose=0)\n",
        "        print(yhat[0])\n",
        "        temp_input.extend(yhat[0].tolist())\n",
        "        print(len(temp_input))\n",
        "        lst_output.extend(yhat.tolist())\n",
        "        i=i+1\n",
        "\n",
        "\n",
        "print(lst_output)"
      ],
      "metadata": {
        "colab": {
          "base_uri": "https://localhost:8080/"
        },
        "id": "j9W6xXEd7KvR",
        "outputId": "72b724fb-1110-4f03-8f9c-84068a53e52b"
      },
      "execution_count": 399,
      "outputs": [
        {
          "output_type": "stream",
          "name": "stdout",
          "text": [
            "[1.1383853]\n",
            "101\n",
            "1 day input [0.97640839 1.00145616 1.03097301 1.02481601 1.0019984  1.01355151\n",
            " 1.0111202  1.04525479 1.10950967 1.17075602 1.15705146 1.14200006\n",
            " 1.10231193 1.09879615 1.14081939 1.15766367 1.20435712 1.19471933\n",
            " 1.24192878 1.25783727 1.25211756 1.30723316 1.31692343 1.35043707\n",
            " 1.32082402 1.38414312 1.39918577 1.36463139 1.34266211 1.31960837\n",
            " 1.26231508 1.30633235 1.33734471 1.34021331 1.300394   1.28975919\n",
            " 1.18788017 1.1261528  1.1163226  1.19001412 1.36933659 1.35636667\n",
            " 1.364404   1.39406077 1.39710429 1.40803645 1.42335023 1.41272416\n",
            " 1.43860278 1.49628088 1.51406095 1.46693895 1.41795411 1.40235173\n",
            " 1.34520712 1.31511306 1.32820542 1.36946778 1.2458906  1.2697577\n",
            " 1.25100685 1.30312266 1.26599704 1.23724107 1.21466834 1.24418518\n",
            " 1.27672805 1.28640083 1.21088144 1.21819287 1.21057534 1.21760691\n",
            " 1.21317282 1.20646484 1.20353502 1.16626946 1.1539992  1.21352265\n",
            " 1.27308982 1.20531915 1.20408601 1.14702886 1.16435415 1.17925688\n",
            " 1.20454078 1.20765426 1.12688744 1.16481767 1.21610264 1.25559836\n",
            " 1.17852223 1.15265236 1.13759221 1.17449045 1.19934582 1.2003166\n",
            " 1.25719008 1.25320203 1.14500859 1.1383853 ]\n",
            "1 day output [[1.1292717]]\n",
            "2 day input [1.00145616 1.03097301 1.02481601 1.0019984  1.01355151 1.0111202\n",
            " 1.04525479 1.10950967 1.17075602 1.15705146 1.14200006 1.10231193\n",
            " 1.09879615 1.14081939 1.15766367 1.20435712 1.19471933 1.24192878\n",
            " 1.25783727 1.25211756 1.30723316 1.31692343 1.35043707 1.32082402\n",
            " 1.38414312 1.39918577 1.36463139 1.34266211 1.31960837 1.26231508\n",
            " 1.30633235 1.33734471 1.34021331 1.300394   1.28975919 1.18788017\n",
            " 1.1261528  1.1163226  1.19001412 1.36933659 1.35636667 1.364404\n",
            " 1.39406077 1.39710429 1.40803645 1.42335023 1.41272416 1.43860278\n",
            " 1.49628088 1.51406095 1.46693895 1.41795411 1.40235173 1.34520712\n",
            " 1.31511306 1.32820542 1.36946778 1.2458906  1.2697577  1.25100685\n",
            " 1.30312266 1.26599704 1.23724107 1.21466834 1.24418518 1.27672805\n",
            " 1.28640083 1.21088144 1.21819287 1.21057534 1.21760691 1.21317282\n",
            " 1.20646484 1.20353502 1.16626946 1.1539992  1.21352265 1.27308982\n",
            " 1.20531915 1.20408601 1.14702886 1.16435415 1.17925688 1.20454078\n",
            " 1.20765426 1.12688744 1.16481767 1.21610264 1.25559836 1.17852223\n",
            " 1.15265236 1.13759221 1.17449045 1.19934582 1.2003166  1.25719008\n",
            " 1.25320203 1.14500859 1.1383853  1.12927175]\n",
            "2 day output [[1.135896]]\n",
            "3 day input [1.03097301 1.02481601 1.0019984  1.01355151 1.0111202  1.04525479\n",
            " 1.10950967 1.17075602 1.15705146 1.14200006 1.10231193 1.09879615\n",
            " 1.14081939 1.15766367 1.20435712 1.19471933 1.24192878 1.25783727\n",
            " 1.25211756 1.30723316 1.31692343 1.35043707 1.32082402 1.38414312\n",
            " 1.39918577 1.36463139 1.34266211 1.31960837 1.26231508 1.30633235\n",
            " 1.33734471 1.34021331 1.300394   1.28975919 1.18788017 1.1261528\n",
            " 1.1163226  1.19001412 1.36933659 1.35636667 1.364404   1.39406077\n",
            " 1.39710429 1.40803645 1.42335023 1.41272416 1.43860278 1.49628088\n",
            " 1.51406095 1.46693895 1.41795411 1.40235173 1.34520712 1.31511306\n",
            " 1.32820542 1.36946778 1.2458906  1.2697577  1.25100685 1.30312266\n",
            " 1.26599704 1.23724107 1.21466834 1.24418518 1.27672805 1.28640083\n",
            " 1.21088144 1.21819287 1.21057534 1.21760691 1.21317282 1.20646484\n",
            " 1.20353502 1.16626946 1.1539992  1.21352265 1.27308982 1.20531915\n",
            " 1.20408601 1.14702886 1.16435415 1.17925688 1.20454078 1.20765426\n",
            " 1.12688744 1.16481767 1.21610264 1.25559836 1.17852223 1.15265236\n",
            " 1.13759221 1.17449045 1.19934582 1.2003166  1.25719008 1.25320203\n",
            " 1.14500859 1.1383853  1.12927175 1.13589597]\n",
            "3 day output [[1.1479385]]\n",
            "4 day input [1.02481601 1.0019984  1.01355151 1.0111202  1.04525479 1.10950967\n",
            " 1.17075602 1.15705146 1.14200006 1.10231193 1.09879615 1.14081939\n",
            " 1.15766367 1.20435712 1.19471933 1.24192878 1.25783727 1.25211756\n",
            " 1.30723316 1.31692343 1.35043707 1.32082402 1.38414312 1.39918577\n",
            " 1.36463139 1.34266211 1.31960837 1.26231508 1.30633235 1.33734471\n",
            " 1.34021331 1.300394   1.28975919 1.18788017 1.1261528  1.1163226\n",
            " 1.19001412 1.36933659 1.35636667 1.364404   1.39406077 1.39710429\n",
            " 1.40803645 1.42335023 1.41272416 1.43860278 1.49628088 1.51406095\n",
            " 1.46693895 1.41795411 1.40235173 1.34520712 1.31511306 1.32820542\n",
            " 1.36946778 1.2458906  1.2697577  1.25100685 1.30312266 1.26599704\n",
            " 1.23724107 1.21466834 1.24418518 1.27672805 1.28640083 1.21088144\n",
            " 1.21819287 1.21057534 1.21760691 1.21317282 1.20646484 1.20353502\n",
            " 1.16626946 1.1539992  1.21352265 1.27308982 1.20531915 1.20408601\n",
            " 1.14702886 1.16435415 1.17925688 1.20454078 1.20765426 1.12688744\n",
            " 1.16481767 1.21610264 1.25559836 1.17852223 1.15265236 1.13759221\n",
            " 1.17449045 1.19934582 1.2003166  1.25719008 1.25320203 1.14500859\n",
            " 1.1383853  1.12927175 1.13589597 1.14793849]\n",
            "4 day output [[1.1604517]]\n",
            "5 day input [1.0019984  1.01355151 1.0111202  1.04525479 1.10950967 1.17075602\n",
            " 1.15705146 1.14200006 1.10231193 1.09879615 1.14081939 1.15766367\n",
            " 1.20435712 1.19471933 1.24192878 1.25783727 1.25211756 1.30723316\n",
            " 1.31692343 1.35043707 1.32082402 1.38414312 1.39918577 1.36463139\n",
            " 1.34266211 1.31960837 1.26231508 1.30633235 1.33734471 1.34021331\n",
            " 1.300394   1.28975919 1.18788017 1.1261528  1.1163226  1.19001412\n",
            " 1.36933659 1.35636667 1.364404   1.39406077 1.39710429 1.40803645\n",
            " 1.42335023 1.41272416 1.43860278 1.49628088 1.51406095 1.46693895\n",
            " 1.41795411 1.40235173 1.34520712 1.31511306 1.32820542 1.36946778\n",
            " 1.2458906  1.2697577  1.25100685 1.30312266 1.26599704 1.23724107\n",
            " 1.21466834 1.24418518 1.27672805 1.28640083 1.21088144 1.21819287\n",
            " 1.21057534 1.21760691 1.21317282 1.20646484 1.20353502 1.16626946\n",
            " 1.1539992  1.21352265 1.27308982 1.20531915 1.20408601 1.14702886\n",
            " 1.16435415 1.17925688 1.20454078 1.20765426 1.12688744 1.16481767\n",
            " 1.21610264 1.25559836 1.17852223 1.15265236 1.13759221 1.17449045\n",
            " 1.19934582 1.2003166  1.25719008 1.25320203 1.14500859 1.1383853\n",
            " 1.12927175 1.13589597 1.14793849 1.16045165]\n",
            "5 day output [[1.1706207]]\n",
            "6 day input [1.01355151 1.0111202  1.04525479 1.10950967 1.17075602 1.15705146\n",
            " 1.14200006 1.10231193 1.09879615 1.14081939 1.15766367 1.20435712\n",
            " 1.19471933 1.24192878 1.25783727 1.25211756 1.30723316 1.31692343\n",
            " 1.35043707 1.32082402 1.38414312 1.39918577 1.36463139 1.34266211\n",
            " 1.31960837 1.26231508 1.30633235 1.33734471 1.34021331 1.300394\n",
            " 1.28975919 1.18788017 1.1261528  1.1163226  1.19001412 1.36933659\n",
            " 1.35636667 1.364404   1.39406077 1.39710429 1.40803645 1.42335023\n",
            " 1.41272416 1.43860278 1.49628088 1.51406095 1.46693895 1.41795411\n",
            " 1.40235173 1.34520712 1.31511306 1.32820542 1.36946778 1.2458906\n",
            " 1.2697577  1.25100685 1.30312266 1.26599704 1.23724107 1.21466834\n",
            " 1.24418518 1.27672805 1.28640083 1.21088144 1.21819287 1.21057534\n",
            " 1.21760691 1.21317282 1.20646484 1.20353502 1.16626946 1.1539992\n",
            " 1.21352265 1.27308982 1.20531915 1.20408601 1.14702886 1.16435415\n",
            " 1.17925688 1.20454078 1.20765426 1.12688744 1.16481767 1.21610264\n",
            " 1.25559836 1.17852223 1.15265236 1.13759221 1.17449045 1.19934582\n",
            " 1.2003166  1.25719008 1.25320203 1.14500859 1.1383853  1.12927175\n",
            " 1.13589597 1.14793849 1.16045165 1.17062068]\n",
            "6 day output [[1.1775148]]\n",
            "7 day input [1.0111202  1.04525479 1.10950967 1.17075602 1.15705146 1.14200006\n",
            " 1.10231193 1.09879615 1.14081939 1.15766367 1.20435712 1.19471933\n",
            " 1.24192878 1.25783727 1.25211756 1.30723316 1.31692343 1.35043707\n",
            " 1.32082402 1.38414312 1.39918577 1.36463139 1.34266211 1.31960837\n",
            " 1.26231508 1.30633235 1.33734471 1.34021331 1.300394   1.28975919\n",
            " 1.18788017 1.1261528  1.1163226  1.19001412 1.36933659 1.35636667\n",
            " 1.364404   1.39406077 1.39710429 1.40803645 1.42335023 1.41272416\n",
            " 1.43860278 1.49628088 1.51406095 1.46693895 1.41795411 1.40235173\n",
            " 1.34520712 1.31511306 1.32820542 1.36946778 1.2458906  1.2697577\n",
            " 1.25100685 1.30312266 1.26599704 1.23724107 1.21466834 1.24418518\n",
            " 1.27672805 1.28640083 1.21088144 1.21819287 1.21057534 1.21760691\n",
            " 1.21317282 1.20646484 1.20353502 1.16626946 1.1539992  1.21352265\n",
            " 1.27308982 1.20531915 1.20408601 1.14702886 1.16435415 1.17925688\n",
            " 1.20454078 1.20765426 1.12688744 1.16481767 1.21610264 1.25559836\n",
            " 1.17852223 1.15265236 1.13759221 1.17449045 1.19934582 1.2003166\n",
            " 1.25719008 1.25320203 1.14500859 1.1383853  1.12927175 1.13589597\n",
            " 1.14793849 1.16045165 1.17062068 1.17751479]\n",
            "7 day output [[1.1814877]]\n",
            "8 day input [1.04525479 1.10950967 1.17075602 1.15705146 1.14200006 1.10231193\n",
            " 1.09879615 1.14081939 1.15766367 1.20435712 1.19471933 1.24192878\n",
            " 1.25783727 1.25211756 1.30723316 1.31692343 1.35043707 1.32082402\n",
            " 1.38414312 1.39918577 1.36463139 1.34266211 1.31960837 1.26231508\n",
            " 1.30633235 1.33734471 1.34021331 1.300394   1.28975919 1.18788017\n",
            " 1.1261528  1.1163226  1.19001412 1.36933659 1.35636667 1.364404\n",
            " 1.39406077 1.39710429 1.40803645 1.42335023 1.41272416 1.43860278\n",
            " 1.49628088 1.51406095 1.46693895 1.41795411 1.40235173 1.34520712\n",
            " 1.31511306 1.32820542 1.36946778 1.2458906  1.2697577  1.25100685\n",
            " 1.30312266 1.26599704 1.23724107 1.21466834 1.24418518 1.27672805\n",
            " 1.28640083 1.21088144 1.21819287 1.21057534 1.21760691 1.21317282\n",
            " 1.20646484 1.20353502 1.16626946 1.1539992  1.21352265 1.27308982\n",
            " 1.20531915 1.20408601 1.14702886 1.16435415 1.17925688 1.20454078\n",
            " 1.20765426 1.12688744 1.16481767 1.21610264 1.25559836 1.17852223\n",
            " 1.15265236 1.13759221 1.17449045 1.19934582 1.2003166  1.25719008\n",
            " 1.25320203 1.14500859 1.1383853  1.12927175 1.13589597 1.14793849\n",
            " 1.16045165 1.17062068 1.17751479 1.18148768]\n",
            "8 day output [[1.1835009]]\n",
            "9 day input [1.10950967 1.17075602 1.15705146 1.14200006 1.10231193 1.09879615\n",
            " 1.14081939 1.15766367 1.20435712 1.19471933 1.24192878 1.25783727\n",
            " 1.25211756 1.30723316 1.31692343 1.35043707 1.32082402 1.38414312\n",
            " 1.39918577 1.36463139 1.34266211 1.31960837 1.26231508 1.30633235\n",
            " 1.33734471 1.34021331 1.300394   1.28975919 1.18788017 1.1261528\n",
            " 1.1163226  1.19001412 1.36933659 1.35636667 1.364404   1.39406077\n",
            " 1.39710429 1.40803645 1.42335023 1.41272416 1.43860278 1.49628088\n",
            " 1.51406095 1.46693895 1.41795411 1.40235173 1.34520712 1.31511306\n",
            " 1.32820542 1.36946778 1.2458906  1.2697577  1.25100685 1.30312266\n",
            " 1.26599704 1.23724107 1.21466834 1.24418518 1.27672805 1.28640083\n",
            " 1.21088144 1.21819287 1.21057534 1.21760691 1.21317282 1.20646484\n",
            " 1.20353502 1.16626946 1.1539992  1.21352265 1.27308982 1.20531915\n",
            " 1.20408601 1.14702886 1.16435415 1.17925688 1.20454078 1.20765426\n",
            " 1.12688744 1.16481767 1.21610264 1.25559836 1.17852223 1.15265236\n",
            " 1.13759221 1.17449045 1.19934582 1.2003166  1.25719008 1.25320203\n",
            " 1.14500859 1.1383853  1.12927175 1.13589597 1.14793849 1.16045165\n",
            " 1.17062068 1.17751479 1.18148768 1.18350089]\n",
            "9 day output [[1.1845978]]\n",
            "10 day input [1.17075602 1.15705146 1.14200006 1.10231193 1.09879615 1.14081939\n",
            " 1.15766367 1.20435712 1.19471933 1.24192878 1.25783727 1.25211756\n",
            " 1.30723316 1.31692343 1.35043707 1.32082402 1.38414312 1.39918577\n",
            " 1.36463139 1.34266211 1.31960837 1.26231508 1.30633235 1.33734471\n",
            " 1.34021331 1.300394   1.28975919 1.18788017 1.1261528  1.1163226\n",
            " 1.19001412 1.36933659 1.35636667 1.364404   1.39406077 1.39710429\n",
            " 1.40803645 1.42335023 1.41272416 1.43860278 1.49628088 1.51406095\n",
            " 1.46693895 1.41795411 1.40235173 1.34520712 1.31511306 1.32820542\n",
            " 1.36946778 1.2458906  1.2697577  1.25100685 1.30312266 1.26599704\n",
            " 1.23724107 1.21466834 1.24418518 1.27672805 1.28640083 1.21088144\n",
            " 1.21819287 1.21057534 1.21760691 1.21317282 1.20646484 1.20353502\n",
            " 1.16626946 1.1539992  1.21352265 1.27308982 1.20531915 1.20408601\n",
            " 1.14702886 1.16435415 1.17925688 1.20454078 1.20765426 1.12688744\n",
            " 1.16481767 1.21610264 1.25559836 1.17852223 1.15265236 1.13759221\n",
            " 1.17449045 1.19934582 1.2003166  1.25719008 1.25320203 1.14500859\n",
            " 1.1383853  1.12927175 1.13589597 1.14793849 1.16045165 1.17062068\n",
            " 1.17751479 1.18148768 1.18350089 1.18459785]\n",
            "10 day output [[1.1855996]]\n",
            "11 day input [1.15705146 1.14200006 1.10231193 1.09879615 1.14081939 1.15766367\n",
            " 1.20435712 1.19471933 1.24192878 1.25783727 1.25211756 1.30723316\n",
            " 1.31692343 1.35043707 1.32082402 1.38414312 1.39918577 1.36463139\n",
            " 1.34266211 1.31960837 1.26231508 1.30633235 1.33734471 1.34021331\n",
            " 1.300394   1.28975919 1.18788017 1.1261528  1.1163226  1.19001412\n",
            " 1.36933659 1.35636667 1.364404   1.39406077 1.39710429 1.40803645\n",
            " 1.42335023 1.41272416 1.43860278 1.49628088 1.51406095 1.46693895\n",
            " 1.41795411 1.40235173 1.34520712 1.31511306 1.32820542 1.36946778\n",
            " 1.2458906  1.2697577  1.25100685 1.30312266 1.26599704 1.23724107\n",
            " 1.21466834 1.24418518 1.27672805 1.28640083 1.21088144 1.21819287\n",
            " 1.21057534 1.21760691 1.21317282 1.20646484 1.20353502 1.16626946\n",
            " 1.1539992  1.21352265 1.27308982 1.20531915 1.20408601 1.14702886\n",
            " 1.16435415 1.17925688 1.20454078 1.20765426 1.12688744 1.16481767\n",
            " 1.21610264 1.25559836 1.17852223 1.15265236 1.13759221 1.17449045\n",
            " 1.19934582 1.2003166  1.25719008 1.25320203 1.14500859 1.1383853\n",
            " 1.12927175 1.13589597 1.14793849 1.16045165 1.17062068 1.17751479\n",
            " 1.18148768 1.18350089 1.18459785 1.18559957]\n",
            "11 day output [[1.1869941]]\n",
            "12 day input [1.14200006 1.10231193 1.09879615 1.14081939 1.15766367 1.20435712\n",
            " 1.19471933 1.24192878 1.25783727 1.25211756 1.30723316 1.31692343\n",
            " 1.35043707 1.32082402 1.38414312 1.39918577 1.36463139 1.34266211\n",
            " 1.31960837 1.26231508 1.30633235 1.33734471 1.34021331 1.300394\n",
            " 1.28975919 1.18788017 1.1261528  1.1163226  1.19001412 1.36933659\n",
            " 1.35636667 1.364404   1.39406077 1.39710429 1.40803645 1.42335023\n",
            " 1.41272416 1.43860278 1.49628088 1.51406095 1.46693895 1.41795411\n",
            " 1.40235173 1.34520712 1.31511306 1.32820542 1.36946778 1.2458906\n",
            " 1.2697577  1.25100685 1.30312266 1.26599704 1.23724107 1.21466834\n",
            " 1.24418518 1.27672805 1.28640083 1.21088144 1.21819287 1.21057534\n",
            " 1.21760691 1.21317282 1.20646484 1.20353502 1.16626946 1.1539992\n",
            " 1.21352265 1.27308982 1.20531915 1.20408601 1.14702886 1.16435415\n",
            " 1.17925688 1.20454078 1.20765426 1.12688744 1.16481767 1.21610264\n",
            " 1.25559836 1.17852223 1.15265236 1.13759221 1.17449045 1.19934582\n",
            " 1.2003166  1.25719008 1.25320203 1.14500859 1.1383853  1.12927175\n",
            " 1.13589597 1.14793849 1.16045165 1.17062068 1.17751479 1.18148768\n",
            " 1.18350089 1.18459785 1.18559957 1.18699408]\n",
            "12 day output [[1.1889613]]\n",
            "13 day input [1.10231193 1.09879615 1.14081939 1.15766367 1.20435712 1.19471933\n",
            " 1.24192878 1.25783727 1.25211756 1.30723316 1.31692343 1.35043707\n",
            " 1.32082402 1.38414312 1.39918577 1.36463139 1.34266211 1.31960837\n",
            " 1.26231508 1.30633235 1.33734471 1.34021331 1.300394   1.28975919\n",
            " 1.18788017 1.1261528  1.1163226  1.19001412 1.36933659 1.35636667\n",
            " 1.364404   1.39406077 1.39710429 1.40803645 1.42335023 1.41272416\n",
            " 1.43860278 1.49628088 1.51406095 1.46693895 1.41795411 1.40235173\n",
            " 1.34520712 1.31511306 1.32820542 1.36946778 1.2458906  1.2697577\n",
            " 1.25100685 1.30312266 1.26599704 1.23724107 1.21466834 1.24418518\n",
            " 1.27672805 1.28640083 1.21088144 1.21819287 1.21057534 1.21760691\n",
            " 1.21317282 1.20646484 1.20353502 1.16626946 1.1539992  1.21352265\n",
            " 1.27308982 1.20531915 1.20408601 1.14702886 1.16435415 1.17925688\n",
            " 1.20454078 1.20765426 1.12688744 1.16481767 1.21610264 1.25559836\n",
            " 1.17852223 1.15265236 1.13759221 1.17449045 1.19934582 1.2003166\n",
            " 1.25719008 1.25320203 1.14500859 1.1383853  1.12927175 1.13589597\n",
            " 1.14793849 1.16045165 1.17062068 1.17751479 1.18148768 1.18350089\n",
            " 1.18459785 1.18559957 1.18699408 1.18896127]\n",
            "13 day output [[1.1914636]]\n",
            "14 day input [1.09879615 1.14081939 1.15766367 1.20435712 1.19471933 1.24192878\n",
            " 1.25783727 1.25211756 1.30723316 1.31692343 1.35043707 1.32082402\n",
            " 1.38414312 1.39918577 1.36463139 1.34266211 1.31960837 1.26231508\n",
            " 1.30633235 1.33734471 1.34021331 1.300394   1.28975919 1.18788017\n",
            " 1.1261528  1.1163226  1.19001412 1.36933659 1.35636667 1.364404\n",
            " 1.39406077 1.39710429 1.40803645 1.42335023 1.41272416 1.43860278\n",
            " 1.49628088 1.51406095 1.46693895 1.41795411 1.40235173 1.34520712\n",
            " 1.31511306 1.32820542 1.36946778 1.2458906  1.2697577  1.25100685\n",
            " 1.30312266 1.26599704 1.23724107 1.21466834 1.24418518 1.27672805\n",
            " 1.28640083 1.21088144 1.21819287 1.21057534 1.21760691 1.21317282\n",
            " 1.20646484 1.20353502 1.16626946 1.1539992  1.21352265 1.27308982\n",
            " 1.20531915 1.20408601 1.14702886 1.16435415 1.17925688 1.20454078\n",
            " 1.20765426 1.12688744 1.16481767 1.21610264 1.25559836 1.17852223\n",
            " 1.15265236 1.13759221 1.17449045 1.19934582 1.2003166  1.25719008\n",
            " 1.25320203 1.14500859 1.1383853  1.12927175 1.13589597 1.14793849\n",
            " 1.16045165 1.17062068 1.17751479 1.18148768 1.18350089 1.18459785\n",
            " 1.18559957 1.18699408 1.18896127 1.19146359]\n",
            "14 day output [[1.1943498]]\n",
            "15 day input [1.14081939 1.15766367 1.20435712 1.19471933 1.24192878 1.25783727\n",
            " 1.25211756 1.30723316 1.31692343 1.35043707 1.32082402 1.38414312\n",
            " 1.39918577 1.36463139 1.34266211 1.31960837 1.26231508 1.30633235\n",
            " 1.33734471 1.34021331 1.300394   1.28975919 1.18788017 1.1261528\n",
            " 1.1163226  1.19001412 1.36933659 1.35636667 1.364404   1.39406077\n",
            " 1.39710429 1.40803645 1.42335023 1.41272416 1.43860278 1.49628088\n",
            " 1.51406095 1.46693895 1.41795411 1.40235173 1.34520712 1.31511306\n",
            " 1.32820542 1.36946778 1.2458906  1.2697577  1.25100685 1.30312266\n",
            " 1.26599704 1.23724107 1.21466834 1.24418518 1.27672805 1.28640083\n",
            " 1.21088144 1.21819287 1.21057534 1.21760691 1.21317282 1.20646484\n",
            " 1.20353502 1.16626946 1.1539992  1.21352265 1.27308982 1.20531915\n",
            " 1.20408601 1.14702886 1.16435415 1.17925688 1.20454078 1.20765426\n",
            " 1.12688744 1.16481767 1.21610264 1.25559836 1.17852223 1.15265236\n",
            " 1.13759221 1.17449045 1.19934582 1.2003166  1.25719008 1.25320203\n",
            " 1.14500859 1.1383853  1.12927175 1.13589597 1.14793849 1.16045165\n",
            " 1.17062068 1.17751479 1.18148768 1.18350089 1.18459785 1.18559957\n",
            " 1.18699408 1.18896127 1.19146359 1.19434977]\n",
            "15 day output [[1.197442]]\n",
            "16 day input [1.15766367 1.20435712 1.19471933 1.24192878 1.25783727 1.25211756\n",
            " 1.30723316 1.31692343 1.35043707 1.32082402 1.38414312 1.39918577\n",
            " 1.36463139 1.34266211 1.31960837 1.26231508 1.30633235 1.33734471\n",
            " 1.34021331 1.300394   1.28975919 1.18788017 1.1261528  1.1163226\n",
            " 1.19001412 1.36933659 1.35636667 1.364404   1.39406077 1.39710429\n",
            " 1.40803645 1.42335023 1.41272416 1.43860278 1.49628088 1.51406095\n",
            " 1.46693895 1.41795411 1.40235173 1.34520712 1.31511306 1.32820542\n",
            " 1.36946778 1.2458906  1.2697577  1.25100685 1.30312266 1.26599704\n",
            " 1.23724107 1.21466834 1.24418518 1.27672805 1.28640083 1.21088144\n",
            " 1.21819287 1.21057534 1.21760691 1.21317282 1.20646484 1.20353502\n",
            " 1.16626946 1.1539992  1.21352265 1.27308982 1.20531915 1.20408601\n",
            " 1.14702886 1.16435415 1.17925688 1.20454078 1.20765426 1.12688744\n",
            " 1.16481767 1.21610264 1.25559836 1.17852223 1.15265236 1.13759221\n",
            " 1.17449045 1.19934582 1.2003166  1.25719008 1.25320203 1.14500859\n",
            " 1.1383853  1.12927175 1.13589597 1.14793849 1.16045165 1.17062068\n",
            " 1.17751479 1.18148768 1.18350089 1.18459785 1.18559957 1.18699408\n",
            " 1.18896127 1.19146359 1.19434977 1.19744205]\n",
            "16 day output [[1.2005903]]\n",
            "17 day input [1.20435712 1.19471933 1.24192878 1.25783727 1.25211756 1.30723316\n",
            " 1.31692343 1.35043707 1.32082402 1.38414312 1.39918577 1.36463139\n",
            " 1.34266211 1.31960837 1.26231508 1.30633235 1.33734471 1.34021331\n",
            " 1.300394   1.28975919 1.18788017 1.1261528  1.1163226  1.19001412\n",
            " 1.36933659 1.35636667 1.364404   1.39406077 1.39710429 1.40803645\n",
            " 1.42335023 1.41272416 1.43860278 1.49628088 1.51406095 1.46693895\n",
            " 1.41795411 1.40235173 1.34520712 1.31511306 1.32820542 1.36946778\n",
            " 1.2458906  1.2697577  1.25100685 1.30312266 1.26599704 1.23724107\n",
            " 1.21466834 1.24418518 1.27672805 1.28640083 1.21088144 1.21819287\n",
            " 1.21057534 1.21760691 1.21317282 1.20646484 1.20353502 1.16626946\n",
            " 1.1539992  1.21352265 1.27308982 1.20531915 1.20408601 1.14702886\n",
            " 1.16435415 1.17925688 1.20454078 1.20765426 1.12688744 1.16481767\n",
            " 1.21610264 1.25559836 1.17852223 1.15265236 1.13759221 1.17449045\n",
            " 1.19934582 1.2003166  1.25719008 1.25320203 1.14500859 1.1383853\n",
            " 1.12927175 1.13589597 1.14793849 1.16045165 1.17062068 1.17751479\n",
            " 1.18148768 1.18350089 1.18459785 1.18559957 1.18699408 1.18896127\n",
            " 1.19146359 1.19434977 1.19744205 1.20059025]\n",
            "17 day output [[1.2036959]]\n",
            "18 day input [1.19471933 1.24192878 1.25783727 1.25211756 1.30723316 1.31692343\n",
            " 1.35043707 1.32082402 1.38414312 1.39918577 1.36463139 1.34266211\n",
            " 1.31960837 1.26231508 1.30633235 1.33734471 1.34021331 1.300394\n",
            " 1.28975919 1.18788017 1.1261528  1.1163226  1.19001412 1.36933659\n",
            " 1.35636667 1.364404   1.39406077 1.39710429 1.40803645 1.42335023\n",
            " 1.41272416 1.43860278 1.49628088 1.51406095 1.46693895 1.41795411\n",
            " 1.40235173 1.34520712 1.31511306 1.32820542 1.36946778 1.2458906\n",
            " 1.2697577  1.25100685 1.30312266 1.26599704 1.23724107 1.21466834\n",
            " 1.24418518 1.27672805 1.28640083 1.21088144 1.21819287 1.21057534\n",
            " 1.21760691 1.21317282 1.20646484 1.20353502 1.16626946 1.1539992\n",
            " 1.21352265 1.27308982 1.20531915 1.20408601 1.14702886 1.16435415\n",
            " 1.17925688 1.20454078 1.20765426 1.12688744 1.16481767 1.21610264\n",
            " 1.25559836 1.17852223 1.15265236 1.13759221 1.17449045 1.19934582\n",
            " 1.2003166  1.25719008 1.25320203 1.14500859 1.1383853  1.12927175\n",
            " 1.13589597 1.14793849 1.16045165 1.17062068 1.17751479 1.18148768\n",
            " 1.18350089 1.18459785 1.18559957 1.18699408 1.18896127 1.19146359\n",
            " 1.19434977 1.19744205 1.20059025 1.20369589]\n",
            "18 day output [[1.2067115]]\n",
            "19 day input [1.24192878 1.25783727 1.25211756 1.30723316 1.31692343 1.35043707\n",
            " 1.32082402 1.38414312 1.39918577 1.36463139 1.34266211 1.31960837\n",
            " 1.26231508 1.30633235 1.33734471 1.34021331 1.300394   1.28975919\n",
            " 1.18788017 1.1261528  1.1163226  1.19001412 1.36933659 1.35636667\n",
            " 1.364404   1.39406077 1.39710429 1.40803645 1.42335023 1.41272416\n",
            " 1.43860278 1.49628088 1.51406095 1.46693895 1.41795411 1.40235173\n",
            " 1.34520712 1.31511306 1.32820542 1.36946778 1.2458906  1.2697577\n",
            " 1.25100685 1.30312266 1.26599704 1.23724107 1.21466834 1.24418518\n",
            " 1.27672805 1.28640083 1.21088144 1.21819287 1.21057534 1.21760691\n",
            " 1.21317282 1.20646484 1.20353502 1.16626946 1.1539992  1.21352265\n",
            " 1.27308982 1.20531915 1.20408601 1.14702886 1.16435415 1.17925688\n",
            " 1.20454078 1.20765426 1.12688744 1.16481767 1.21610264 1.25559836\n",
            " 1.17852223 1.15265236 1.13759221 1.17449045 1.19934582 1.2003166\n",
            " 1.25719008 1.25320203 1.14500859 1.1383853  1.12927175 1.13589597\n",
            " 1.14793849 1.16045165 1.17062068 1.17751479 1.18148768 1.18350089\n",
            " 1.18459785 1.18559957 1.18699408 1.18896127 1.19146359 1.19434977\n",
            " 1.19744205 1.20059025 1.20369589 1.20671153]\n",
            "19 day output [[1.2096283]]\n",
            "[[1.13838529586792], [1.1292717456817627], [1.1358959674835205], [1.1479384899139404], [1.1604516506195068], [1.1706206798553467], [1.1775147914886475], [1.1814876794815063], [1.18350088596344], [1.1845978498458862], [1.1855995655059814], [1.1869940757751465], [1.1889612674713135], [1.191463589668274], [1.194349765777588], [1.1974420547485352], [1.2005902528762817], [1.2036958932876587], [1.2067115306854248], [1.2096283435821533]]\n"
          ]
        }
      ]
    },
    {
      "cell_type": "code",
      "source": [
        "day_new = np.arange(1,101)\n",
        "day_pred = np.arange(101,121)"
      ],
      "metadata": {
        "id": "r6XbBult7Q0v"
      },
      "execution_count": 400,
      "outputs": []
    },
    {
      "cell_type": "code",
      "source": [
        "# Plotting the prediction for next 50 days\n",
        "plt.plot(day_new, scaler.inverse_transform(df[5206:]))\n",
        "plt.plot(day_pred, scaler.inverse_transform(lst_output))"
      ],
      "metadata": {
        "colab": {
          "base_uri": "https://localhost:8080/",
          "height": 466
        },
        "id": "qSO-82Dj7ztu",
        "outputId": "eff55dd9-b7d4-4b23-9b02-0776b9eb89f6"
      },
      "execution_count": 401,
      "outputs": [
        {
          "output_type": "execute_result",
          "data": {
            "text/plain": [
              "[<matplotlib.lines.Line2D at 0x79263c9ea5f0>]"
            ]
          },
          "metadata": {},
          "execution_count": 401
        },
        {
          "output_type": "display_data",
          "data": {
            "text/plain": [
              "<Figure size 640x480 with 1 Axes>"
            ],
            "image/png": "[encoded data removed]"
          },
          "metadata": {}
        }
      ]
    },
    {
      "cell_type": "code",
      "source": [
        "df3 = df.tolist()\n",
        "df3.extend(lst_output)\n",
        "plt.plot(scaler.inverse_transform(df3[2000:]))"
      ],
      "metadata": {
        "colab": {
          "base_uri": "https://localhost:8080/",
          "height": 466
        },
        "id": "cwiB3RCt777p",
        "outputId": "535d4d13-032a-4b05-b1e6-0d851e66c7d7"
      },
      "execution_count": 402,
      "outputs": [
        {
          "output_type": "execute_result",
          "data": {
            "text/plain": [
              "[<matplotlib.lines.Line2D at 0x79263c871f90>]"
            ]
          },
          "metadata": {},
          "execution_count": 402
        },
        {
          "output_type": "display_data",
          "data": {
            "text/plain": [
              "<Figure size 640x480 with 1 Axes>"
            ],
            "image/png": "[encoded data removed]"
          },
          "metadata": {}
        }
      ]
    },
    {
      "cell_type": "code",
      "source": [],
      "metadata": {
        "id": "rK5llt51A-wq"
      },
      "execution_count": 382,
      "outputs": []
    }
  ]
}